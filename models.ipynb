{
 "cells": [
  {
   "cell_type": "code",
   "execution_count": 1,
   "id": "f90e92b3",
   "metadata": {},
   "outputs": [
    {
     "name": "stderr",
     "output_type": "stream",
     "text": [
      "C:\\Users\\ROG\\anaconda3\\lib\\site-packages\\tensorflow_addons\\utils\\tfa_eol_msg.py:23: UserWarning: \n",
      "\n",
      "TensorFlow Addons (TFA) has ended development and introduction of new features.\n",
      "TFA has entered a minimal maintenance and release mode until a planned end of life in May 2024.\n",
      "Please modify downstream libraries to take dependencies from other repositories in our TensorFlow community (e.g. Keras, Keras-CV, and Keras-NLP). \n",
      "\n",
      "For more information see: https://github.com/tensorflow/addons/issues/2807 \n",
      "\n",
      "  warnings.warn(\n",
      "C:\\Users\\ROG\\anaconda3\\lib\\site-packages\\tensorflow_addons\\utils\\ensure_tf_install.py:53: UserWarning: Tensorflow Addons supports using Python ops for all Tensorflow versions above or equal to 2.12.0 and strictly below 2.15.0 (nightly versions are not supported). \n",
      " The versions of TensorFlow you are currently using is 2.10.0 and is not supported. \n",
      "Some things might work, some things might not.\n",
      "If you were to encounter a bug, do not file an issue.\n",
      "If you want to make sure you're using a tested and supported configuration, either change the TensorFlow version or the TensorFlow Addons's version. \n",
      "You can find the compatibility matrix in TensorFlow Addon's readme:\n",
      "https://github.com/tensorflow/addons\n",
      "  warnings.warn(\n"
     ]
    }
   ],
   "source": [
    "from tensorflow.keras.layers import Conv2D, UpSampling2D, BatchNormalization,Dense, Activation, MaxPool2D, Conv2DTranspose, Concatenate, Input, Dropout, AveragePooling2D, MaxPooling2D\n",
    "from tensorflow.keras.layers import Add, GlobalAveragePooling2D, Reshape, Dense, multiply\n",
    "\n",
    "from tensorflow.keras.models import Model\n",
    "from tensorflow.keras.callbacks import EarlyStopping, ModelCheckpoint, ReduceLROnPlateau, CSVLogger\n",
    "import tensorflow as tf\n",
    "import tensorflow_addons as tfa\n",
    "from tensorflow.keras.models import load_model\n",
    "from tensorflow.keras.preprocessing.image import ImageDataGenerator\n",
    "\n",
    "import shutil\n",
    "\n",
    "import numpy as np \n",
    "import cv2\n",
    "from glob import glob\n",
    "from tqdm import tqdm\n",
    "import time\n",
    "import matplotlib.pyplot as plt\n",
    "\n",
    "import json\n",
    "import os\n",
    "\n",
    "from sklearn.model_selection import train_test_split\n",
    "from imshowtools import imshow\n",
    "from albumentations import  CoarseDropout, RandomBrightness, RandomContrast, HorizontalFlip\n",
    "from sklearn.metrics import accuracy_score, f1_score, jaccard_score, precision_score, recall_score, cohen_kappa_score, matthews_corrcoef"
   ]
  },
  {
   "cell_type": "code",
   "execution_count": 2,
   "id": "2f7815fe",
   "metadata": {},
   "outputs": [],
   "source": [
    "def create_dir(path):\n",
    "    if not os.path.exists(path):\n",
    "        os.makedirs(path)"
   ]
  },
  {
   "cell_type": "code",
   "execution_count": 3,
   "id": "42993770",
   "metadata": {},
   "outputs": [],
   "source": [
    "def segmentation_task(model_path, dataset_path, save_path):\n",
    "    \"\"\"This function will do the segmentation task\n",
    "    model_path: path to the model you want to load to process the segmentation.\n",
    "    dataset_path: path to the images that you want to apply the segmentation on.\n",
    "    save_path: where you want to save the output.\n",
    "    \n",
    "    \n",
    "    \"\"\"\n",
    "    model = tf.keras.models.load_model(model_path)\n",
    "    print('Model loaded successfully')\n",
    "    \n",
    "    test_x = sorted(glob(os.path.join(r'',dataset_path, '*')))\n",
    "    print(f\"Test Images: {len(test_x)}\")\n",
    "    \n",
    "    create_dir(save_path)\n",
    "    time_taken = []\n",
    "\n",
    "    for x in tqdm(test_x):\n",
    "        name = x.split('\\\\')[-1]\n",
    "\n",
    "        x = cv2.imread(x, cv2.IMREAD_COLOR)\n",
    "        x = cv2.resize(x, (256,256), interpolation=cv2.INTER_LINEAR)\n",
    "        x = x / 255.0\n",
    "        x = np.expand_dims(x, axis=0)\n",
    "\n",
    "        start_time = time.time()\n",
    "        p = model.predict(x)[0]\n",
    "        total_time = time.time() - start_time\n",
    "        time_taken.append(total_time)\n",
    "\n",
    "        p = p > 0.6\n",
    "        p = p * 255\n",
    "\n",
    "        cv2.imwrite(os.path.join(save_path, name), p)\n",
    "    print('segmented images saved successfully')"
   ]
  },
  {
   "cell_type": "code",
   "execution_count": 4,
   "id": "7384d818",
   "metadata": {},
   "outputs": [],
   "source": [
    "def model_perfromance_check(pred_mask_dir, true_mask_dir, cup_or_disc):\n",
    "    \"\"\"This function will check the model perfromance by applying various metrices to the model such\n",
    "    as DICE, PIXEL ACCURACY, RECALL, JACCARD INDEX, COHEN KAPPA, PRECEISION, AND \n",
    "    MATTHEWS CORRELATION COEFFICIENT.\n",
    "    \n",
    "    pred_mask_dir : is the directory to the predected masks by the model, \n",
    "    true_mask_dir : is the directory to the true masks,\n",
    "    cup_or_disc : if you use this function to check for cup model accuracy set it as cup otherwise set\n",
    "    it as disc\"\"\"\n",
    "    \n",
    "    print(f\"The performance for {cup_or_disc}'s model\")\n",
    "\n",
    "\n",
    "\n",
    "    # Load filenames\n",
    "    pred_mask_files = sorted(glob(os.path.join(pred_mask_dir, '*')))\n",
    "    true_mask_files = sorted(glob(os.path.join(true_mask_dir, '*')))\n",
    "    print('predicted masks',len(pred_mask_files),'-', 'true masks' ,len(true_mask_files))\n",
    "    # Convert list of true mask files into a dictionary for quick access\n",
    "    true_mask_map = {os.path.basename(f).replace(f'.jpg_optic_{cup_or_disc}_mask.png', ''): f for f in true_mask_files}\n",
    "    score = []\n",
    "\n",
    "    # Process each predicted mask\n",
    "    for pred_path in tqdm(pred_mask_files):\n",
    "        base_name = os.path.basename(pred_path).rsplit('.', 1)[0]\n",
    "        true_mask_filename = base_name + f'_optic_{cup_or_disc}_mask.png'\n",
    "        true_path = true_mask_map.get(base_name)\n",
    "\n",
    "        if not true_path:\n",
    "            #print(f\"No matching true mask found for predicted mask: {base_name}\")\n",
    "            continue\n",
    "\n",
    "        # Read and process the predicted mask\n",
    "        pred_mask = cv2.imread(pred_path, cv2.IMREAD_GRAYSCALE)\n",
    "        pred_mask = (pred_mask / 255.0) > 0.5\n",
    "        pred_mask = pred_mask.astype(np.int32).flatten()\n",
    "\n",
    "        # Read and process the true mask\n",
    "        true_mask = cv2.imread(true_path, cv2.IMREAD_GRAYSCALE)\n",
    "        true_mask = (true_mask / 255.0) > 0.5\n",
    "        true_mask = true_mask.astype(np.int32).flatten()\n",
    "\n",
    "        # Calculate metrics\n",
    "        acc_value = accuracy_score(true_mask, pred_mask)\n",
    "        f1_value = f1_score(true_mask, pred_mask, labels=[0,1], average='binary')\n",
    "        jac_value = jaccard_score(true_mask, pred_mask, labels=[0, 1], average='binary')\n",
    "        recall_value = recall_score(true_mask, pred_mask, labels=[0, 1], average='binary')\n",
    "        precision_value = precision_score(true_mask, pred_mask, labels=[0, 1], average='binary')\n",
    "        intersection = np.logical_and(pred_mask, true_mask).sum()\n",
    "        union = np.logical_or(pred_mask, true_mask).sum()\n",
    "        iou_value = intersection / union if union > 0 else 0\n",
    "        dice_value = (2. * intersection) / (np.sum(pred_mask) + np.sum(true_mask))\n",
    "        pixel_accuracy = np.mean(pred_mask == true_mask)\n",
    "        kappa_value = cohen_kappa_score(pred_mask, true_mask)\n",
    "        mcc_value = matthews_corrcoef(pred_mask, true_mask)\n",
    "\n",
    "        score.append([base_name, acc_value, f1_value, jac_value, recall_value, precision_value, iou_value, dice_value, pixel_accuracy, kappa_value, mcc_value])\n",
    "\n",
    "    # Calculate average scores\n",
    "    if score:\n",
    "        mean_score = np.mean([s[1:] for s in score], axis=0)\n",
    "\n",
    "        print(f\"F1: {mean_score[1]:0.2f}\")\n",
    "        print(f\"Jaccard: {mean_score[2]:0.5f}\")\n",
    "        print(f\"Recall: {mean_score[3]:0.5f}\")\n",
    "        print(f\"Precision: {mean_score[4]:0.5f}\")\n",
    "\n",
    "        print(f\"Dice: {mean_score[6]:0.5f}\")\n",
    "        print(f\"Pixel Accuracy: {mean_score[7]:0.5f}\")\n",
    "        print(f\"Cohen's Kappa: {mean_score[8]:0.5f}\")\n",
    "        print(f\"Matthews Correlation Coefficient: {mean_score[9]:0.5f}\")\n",
    "    else:\n",
    "        print(\"No matching masks found\")"
   ]
  },
  {
   "cell_type": "markdown",
   "id": "a45b8958",
   "metadata": {},
   "source": [
    "# Test Drishti"
   ]
  },
  {
   "cell_type": "code",
   "execution_count": 118,
   "id": "35ba02d9",
   "metadata": {
    "collapsed": true
   },
   "outputs": [
    {
     "name": "stdout",
     "output_type": "stream",
     "text": [
      "Model loaded successfully\n",
      "Test Images: 29\n"
     ]
    },
    {
     "name": "stderr",
     "output_type": "stream",
     "text": [
      "\r",
      "  0%|                                                                                           | 0/29 [00:00<?, ?it/s]"
     ]
    },
    {
     "name": "stdout",
     "output_type": "stream",
     "text": [
      "1/1 [==============================] - 1s 1s/step\n"
     ]
    },
    {
     "name": "stderr",
     "output_type": "stream",
     "text": [
      "\r",
      "  3%|██▊                                                                                | 1/29 [00:01<00:40,  1.46s/it]"
     ]
    },
    {
     "name": "stdout",
     "output_type": "stream",
     "text": [
      "1/1 [==============================] - 0s 27ms/step\n"
     ]
    },
    {
     "name": "stderr",
     "output_type": "stream",
     "text": [
      "\r",
      "  7%|█████▋                                                                             | 2/29 [00:01<00:18,  1.47it/s]"
     ]
    },
    {
     "name": "stdout",
     "output_type": "stream",
     "text": [
      "1/1 [==============================] - 0s 26ms/step\n"
     ]
    },
    {
     "name": "stderr",
     "output_type": "stream",
     "text": [
      "\r",
      " 10%|████████▌                                                                          | 3/29 [00:01<00:11,  2.34it/s]"
     ]
    },
    {
     "name": "stdout",
     "output_type": "stream",
     "text": [
      "1/1 [==============================] - 0s 27ms/step\n",
      "1/1 [==============================] - 0s 27ms/step\n"
     ]
    },
    {
     "name": "stderr",
     "output_type": "stream",
     "text": [
      "\r",
      " 17%|██████████████▎                                                                    | 5/29 [00:01<00:05,  4.24it/s]"
     ]
    },
    {
     "name": "stdout",
     "output_type": "stream",
     "text": [
      "1/1 [==============================] - 0s 27ms/step\n",
      "1/1 [==============================] - 0s 27ms/step\n"
     ]
    },
    {
     "name": "stderr",
     "output_type": "stream",
     "text": [
      "\r",
      " 24%|████████████████████                                                               | 7/29 [00:02<00:03,  5.88it/s]"
     ]
    },
    {
     "name": "stdout",
     "output_type": "stream",
     "text": [
      "1/1 [==============================] - 0s 27ms/step\n",
      "1/1 [==============================] - 0s 27ms/step\n"
     ]
    },
    {
     "name": "stderr",
     "output_type": "stream",
     "text": [
      "\r",
      " 31%|█████████████████████████▊                                                         | 9/29 [00:02<00:02,  7.20it/s]"
     ]
    },
    {
     "name": "stdout",
     "output_type": "stream",
     "text": [
      "1/1 [==============================] - 0s 29ms/step\n",
      "1/1 [==============================] - 0s 27ms/step\n"
     ]
    },
    {
     "name": "stderr",
     "output_type": "stream",
     "text": [
      "\r",
      " 38%|███████████████████████████████                                                   | 11/29 [00:02<00:02,  8.29it/s]"
     ]
    },
    {
     "name": "stdout",
     "output_type": "stream",
     "text": [
      "1/1 [==============================] - 0s 28ms/step\n",
      "1/1 [==============================] - 0s 29ms/step\n"
     ]
    },
    {
     "name": "stderr",
     "output_type": "stream",
     "text": [
      "\r",
      " 45%|████████████████████████████████████▊                                             | 13/29 [00:02<00:01,  9.20it/s]"
     ]
    },
    {
     "name": "stdout",
     "output_type": "stream",
     "text": [
      "1/1 [==============================] - 0s 34ms/step\n",
      "1/1 [==============================] - 0s 31ms/step\n"
     ]
    },
    {
     "name": "stderr",
     "output_type": "stream",
     "text": [
      "\r",
      " 52%|██████████████████████████████████████████▍                                       | 15/29 [00:02<00:01,  9.46it/s]"
     ]
    },
    {
     "name": "stdout",
     "output_type": "stream",
     "text": [
      "1/1 [==============================] - 0s 29ms/step\n",
      "1/1 [==============================] - 0s 30ms/step\n"
     ]
    },
    {
     "name": "stderr",
     "output_type": "stream",
     "text": [
      "\r",
      " 59%|████████████████████████████████████████████████                                  | 17/29 [00:02<00:01,  9.89it/s]"
     ]
    },
    {
     "name": "stdout",
     "output_type": "stream",
     "text": [
      "1/1 [==============================] - 0s 29ms/step\n",
      "1/1 [==============================] - 0s 27ms/step\n"
     ]
    },
    {
     "name": "stderr",
     "output_type": "stream",
     "text": [
      "\r",
      " 66%|█████████████████████████████████████████████████████▋                            | 19/29 [00:03<00:00, 10.39it/s]"
     ]
    },
    {
     "name": "stdout",
     "output_type": "stream",
     "text": [
      "1/1 [==============================] - 0s 27ms/step\n",
      "1/1 [==============================] - 0s 27ms/step\n"
     ]
    },
    {
     "name": "stderr",
     "output_type": "stream",
     "text": [
      "\r",
      " 72%|███████████████████████████████████████████████████████████▍                      | 21/29 [00:03<00:00, 11.39it/s]"
     ]
    },
    {
     "name": "stdout",
     "output_type": "stream",
     "text": [
      "1/1 [==============================] - 0s 27ms/step\n",
      "1/1 [==============================] - 0s 26ms/step\n"
     ]
    },
    {
     "name": "stderr",
     "output_type": "stream",
     "text": [
      "\r",
      " 79%|█████████████████████████████████████████████████████████████████                 | 23/29 [00:03<00:00, 11.93it/s]"
     ]
    },
    {
     "name": "stdout",
     "output_type": "stream",
     "text": [
      "1/1 [==============================] - 0s 37ms/step\n",
      "1/1 [==============================] - 0s 27ms/step\n"
     ]
    },
    {
     "name": "stderr",
     "output_type": "stream",
     "text": [
      "\r",
      " 86%|██████████████████████████████████████████████████████████████████████▋           | 25/29 [00:03<00:00, 12.27it/s]"
     ]
    },
    {
     "name": "stdout",
     "output_type": "stream",
     "text": [
      "1/1 [==============================] - 0s 26ms/step\n",
      "1/1 [==============================] - 0s 26ms/step\n"
     ]
    },
    {
     "name": "stderr",
     "output_type": "stream",
     "text": [
      "\r",
      " 93%|████████████████████████████████████████████████████████████████████████████▎     | 27/29 [00:03<00:00, 12.95it/s]"
     ]
    },
    {
     "name": "stdout",
     "output_type": "stream",
     "text": [
      "1/1 [==============================] - 0s 28ms/step\n",
      "1/1 [==============================] - 0s 30ms/step\n"
     ]
    },
    {
     "name": "stderr",
     "output_type": "stream",
     "text": [
      "100%|██████████████████████████████████████████████████████████████████████████████████| 29/29 [00:03<00:00,  7.48it/s]"
     ]
    },
    {
     "name": "stdout",
     "output_type": "stream",
     "text": [
      "segmented images saved successfully\n"
     ]
    },
    {
     "name": "stderr",
     "output_type": "stream",
     "text": [
      "\n"
     ]
    },
    {
     "name": "stdout",
     "output_type": "stream",
     "text": [
      "Model loaded successfully\n",
      "Test Images: 29\n"
     ]
    },
    {
     "name": "stderr",
     "output_type": "stream",
     "text": [
      "\r",
      "  0%|                                                                                           | 0/29 [00:00<?, ?it/s]"
     ]
    },
    {
     "name": "stdout",
     "output_type": "stream",
     "text": [
      "1/1 [==============================] - 1s 1s/step\n"
     ]
    },
    {
     "name": "stderr",
     "output_type": "stream",
     "text": [
      "\r",
      "  3%|██▊                                                                                | 1/29 [00:01<00:36,  1.32s/it]"
     ]
    },
    {
     "name": "stdout",
     "output_type": "stream",
     "text": [
      "1/1 [==============================] - 0s 27ms/step\n"
     ]
    },
    {
     "name": "stderr",
     "output_type": "stream",
     "text": [
      "\r",
      "  7%|█████▋                                                                             | 2/29 [00:01<00:16,  1.60it/s]"
     ]
    },
    {
     "name": "stdout",
     "output_type": "stream",
     "text": [
      "1/1 [==============================] - 0s 27ms/step\n"
     ]
    },
    {
     "name": "stderr",
     "output_type": "stream",
     "text": [
      "\r",
      " 10%|████████▌                                                                          | 3/29 [00:01<00:10,  2.51it/s]"
     ]
    },
    {
     "name": "stdout",
     "output_type": "stream",
     "text": [
      "1/1 [==============================] - 0s 27ms/step\n"
     ]
    },
    {
     "name": "stderr",
     "output_type": "stream",
     "text": [
      "\r",
      " 14%|███████████▍                                                                       | 4/29 [00:01<00:07,  3.50it/s]"
     ]
    },
    {
     "name": "stdout",
     "output_type": "stream",
     "text": [
      "1/1 [==============================] - 0s 29ms/step\n",
      "1/1 [==============================] - 0s 31ms/step\n"
     ]
    },
    {
     "name": "stderr",
     "output_type": "stream",
     "text": [
      "\r",
      " 21%|█████████████████▏                                                                 | 6/29 [00:01<00:04,  5.52it/s]"
     ]
    },
    {
     "name": "stdout",
     "output_type": "stream",
     "text": [
      "1/1 [==============================] - 0s 25ms/step\n",
      "1/1 [==============================] - 0s 26ms/step\n"
     ]
    },
    {
     "name": "stderr",
     "output_type": "stream",
     "text": [
      "\r",
      " 28%|██████████████████████▉                                                            | 8/29 [00:02<00:02,  7.21it/s]"
     ]
    },
    {
     "name": "stdout",
     "output_type": "stream",
     "text": [
      "1/1 [==============================] - 0s 27ms/step\n",
      "1/1 [==============================] - 0s 27ms/step\n"
     ]
    },
    {
     "name": "stderr",
     "output_type": "stream",
     "text": [
      "\r",
      " 34%|████████████████████████████▎                                                     | 10/29 [00:02<00:02,  8.41it/s]"
     ]
    },
    {
     "name": "stdout",
     "output_type": "stream",
     "text": [
      "1/1 [==============================] - 0s 27ms/step\n",
      "1/1 [==============================] - 0s 28ms/step\n"
     ]
    },
    {
     "name": "stderr",
     "output_type": "stream",
     "text": [
      "\r",
      " 41%|█████████████████████████████████▉                                                | 12/29 [00:02<00:01,  9.35it/s]"
     ]
    },
    {
     "name": "stdout",
     "output_type": "stream",
     "text": [
      "1/1 [==============================] - 0s 28ms/step\n",
      "1/1 [==============================] - 0s 28ms/step\n"
     ]
    },
    {
     "name": "stderr",
     "output_type": "stream",
     "text": [
      "\r",
      " 48%|███████████████████████████████████████▌                                          | 14/29 [00:02<00:01, 10.36it/s]"
     ]
    },
    {
     "name": "stdout",
     "output_type": "stream",
     "text": [
      "1/1 [==============================] - 0s 30ms/step\n",
      "1/1 [==============================] - 0s 29ms/step\n"
     ]
    },
    {
     "name": "stderr",
     "output_type": "stream",
     "text": [
      "\r",
      " 55%|█████████████████████████████████████████████▏                                    | 16/29 [00:02<00:01, 11.32it/s]"
     ]
    },
    {
     "name": "stdout",
     "output_type": "stream",
     "text": [
      "1/1 [==============================] - 0s 27ms/step\n",
      "1/1 [==============================] - 0s 36ms/step\n"
     ]
    },
    {
     "name": "stderr",
     "output_type": "stream",
     "text": [
      "\r",
      " 62%|██████████████████████████████████████████████████▉                               | 18/29 [00:02<00:00, 11.77it/s]"
     ]
    },
    {
     "name": "stdout",
     "output_type": "stream",
     "text": [
      "1/1 [==============================] - 0s 28ms/step\n",
      "1/1 [==============================] - 0s 35ms/step\n"
     ]
    },
    {
     "name": "stderr",
     "output_type": "stream",
     "text": [
      "\r",
      " 69%|████████████████████████████████████████████████████████▌                         | 20/29 [00:02<00:00, 12.32it/s]"
     ]
    },
    {
     "name": "stdout",
     "output_type": "stream",
     "text": [
      "1/1 [==============================] - 0s 28ms/step\n",
      "1/1 [==============================] - 0s 27ms/step\n"
     ]
    },
    {
     "name": "stderr",
     "output_type": "stream",
     "text": [
      "\r",
      " 76%|██████████████████████████████████████████████████████████████▏                   | 22/29 [00:03<00:00, 12.74it/s]"
     ]
    },
    {
     "name": "stdout",
     "output_type": "stream",
     "text": [
      "1/1 [==============================] - 0s 28ms/step\n",
      "1/1 [==============================] - 0s 30ms/step\n"
     ]
    },
    {
     "name": "stderr",
     "output_type": "stream",
     "text": [
      "\r",
      " 83%|███████████████████████████████████████████████████████████████████▊              | 24/29 [00:03<00:00, 13.17it/s]"
     ]
    },
    {
     "name": "stdout",
     "output_type": "stream",
     "text": [
      "1/1 [==============================] - 0s 30ms/step\n",
      "1/1 [==============================] - 0s 30ms/step\n"
     ]
    },
    {
     "name": "stderr",
     "output_type": "stream",
     "text": [
      "\r",
      " 90%|█████████████████████████████████████████████████████████████████████████▌        | 26/29 [00:03<00:00, 13.55it/s]"
     ]
    },
    {
     "name": "stdout",
     "output_type": "stream",
     "text": [
      "1/1 [==============================] - 0s 32ms/step\n",
      "1/1 [==============================] - 0s 30ms/step\n"
     ]
    },
    {
     "name": "stderr",
     "output_type": "stream",
     "text": [
      "\r",
      " 97%|███████████████████████████████████████████████████████████████████████████████▏  | 28/29 [00:03<00:00, 13.35it/s]"
     ]
    },
    {
     "name": "stdout",
     "output_type": "stream",
     "text": [
      "1/1 [==============================] - 0s 28ms/step\n"
     ]
    },
    {
     "name": "stderr",
     "output_type": "stream",
     "text": [
      "\r",
      "100%|██████████████████████████████████████████████████████████████████████████████████| 29/29 [00:03<00:00,  7.99it/s]"
     ]
    },
    {
     "name": "stdout",
     "output_type": "stream",
     "text": [
      "segmented images saved successfully\n"
     ]
    },
    {
     "name": "stderr",
     "output_type": "stream",
     "text": [
      "\n"
     ]
    }
   ],
   "source": [
    "cup_save_path = 'predictions/drishti/cup'\n",
    "\n",
    "disc_save_path = 'predictions/drishti/disc'\n",
    "\n",
    "cup_model_path = 'files/DRISHTI/z-net1-ASPP/acrima-cup.h5'\n",
    "\n",
    "disc_model_path = 'files/DRISHTI/z-net1-ASPP/acrima-disc.h5'\n",
    "\n",
    "segmentation_task(model_path = cup_model_path, dataset_path='datasets/drishti/test/images', save_path=cup_save_path)\n",
    "\n",
    "segmentation_task(model_path = disc_model_path, dataset_path='datasets/drishti/test/images', save_path=disc_save_path)"
   ]
  },
  {
   "cell_type": "code",
   "execution_count": 119,
   "id": "986df3ca",
   "metadata": {},
   "outputs": [
    {
     "name": "stdout",
     "output_type": "stream",
     "text": [
      "The performance for disc's model\n",
      "predicted masks 29 - true masks 29\n"
     ]
    },
    {
     "name": "stderr",
     "output_type": "stream",
     "text": [
      "100%|██████████████████████████████████████████████████████████████████████████████████| 29/29 [00:01<00:00, 21.01it/s]"
     ]
    },
    {
     "name": "stdout",
     "output_type": "stream",
     "text": [
      "F1: 0.97\n",
      "Jaccard: 0.94755\n",
      "Recall: 0.96919\n",
      "Precision: 0.97744\n",
      "Dice: 0.97292\n",
      "Pixel Accuracy: 0.97379\n",
      "Cohen's Kappa: 0.94654\n",
      "Matthews Correlation Coefficient: 0.94724\n"
     ]
    },
    {
     "name": "stderr",
     "output_type": "stream",
     "text": [
      "\n"
     ]
    }
   ],
   "source": [
    "model_perfromance_check(\n",
    "    pred_mask_dir='predictions/drishti/disc', \n",
    "    true_mask_dir='datasets/drishti/test/masks/optic_disc_masks',\n",
    "    cup_or_disc='disc')"
   ]
  },
  {
   "cell_type": "code",
   "execution_count": 120,
   "id": "1cee8bee",
   "metadata": {},
   "outputs": [
    {
     "name": "stdout",
     "output_type": "stream",
     "text": [
      "The performance for cup's model\n",
      "predicted masks 29 - true masks 29\n"
     ]
    },
    {
     "name": "stderr",
     "output_type": "stream",
     "text": [
      "100%|██████████████████████████████████████████████████████████████████████████████████| 29/29 [00:01<00:00, 16.45it/s]"
     ]
    },
    {
     "name": "stdout",
     "output_type": "stream",
     "text": [
      "F1: 0.94\n",
      "Jaccard: 0.89081\n",
      "Recall: 0.93683\n",
      "Precision: 0.95046\n",
      "Dice: 0.94174\n",
      "Pixel Accuracy: 0.97094\n",
      "Cohen's Kappa: 0.92160\n",
      "Matthews Correlation Coefficient: 0.92329\n"
     ]
    },
    {
     "name": "stderr",
     "output_type": "stream",
     "text": [
      "\n"
     ]
    }
   ],
   "source": [
    "model_perfromance_check(\n",
    "    pred_mask_dir='predictions/drishti/cup', \n",
    "    true_mask_dir='datasets/drishti/test/masks/optic_cup_masks',\n",
    "    cup_or_disc='cup')"
   ]
  },
  {
   "cell_type": "code",
   "execution_count": null,
   "id": "bbd6eca1",
   "metadata": {},
   "outputs": [],
   "source": []
  },
  {
   "cell_type": "markdown",
   "id": "c2f7eec3",
   "metadata": {},
   "source": [
    "# Test Acrima "
   ]
  },
  {
   "cell_type": "code",
   "execution_count": 121,
   "id": "fda9214c",
   "metadata": {
    "collapsed": true
   },
   "outputs": [
    {
     "name": "stdout",
     "output_type": "stream",
     "text": [
      "Model loaded successfully\n",
      "Test Images: 41\n"
     ]
    },
    {
     "name": "stderr",
     "output_type": "stream",
     "text": [
      "\r",
      "  0%|                                                                                           | 0/41 [00:00<?, ?it/s]"
     ]
    },
    {
     "name": "stdout",
     "output_type": "stream",
     "text": [
      "1/1 [==============================] - 1s 1s/step\n"
     ]
    },
    {
     "name": "stderr",
     "output_type": "stream",
     "text": [
      "\r",
      "  2%|██                                                                                 | 1/41 [00:01<00:54,  1.36s/it]"
     ]
    },
    {
     "name": "stdout",
     "output_type": "stream",
     "text": [
      "1/1 [==============================] - 0s 30ms/step\n"
     ]
    },
    {
     "name": "stderr",
     "output_type": "stream",
     "text": [
      "\r",
      "  5%|████                                                                               | 2/41 [00:01<00:25,  1.56it/s]"
     ]
    },
    {
     "name": "stdout",
     "output_type": "stream",
     "text": [
      "1/1 [==============================] - 0s 33ms/step\n"
     ]
    },
    {
     "name": "stderr",
     "output_type": "stream",
     "text": [
      "\r",
      "  7%|██████                                                                             | 3/41 [00:01<00:15,  2.45it/s]"
     ]
    },
    {
     "name": "stdout",
     "output_type": "stream",
     "text": [
      "1/1 [==============================] - 0s 27ms/step\n"
     ]
    },
    {
     "name": "stderr",
     "output_type": "stream",
     "text": [
      "\r",
      " 10%|████████                                                                           | 4/41 [00:01<00:10,  3.45it/s]"
     ]
    },
    {
     "name": "stdout",
     "output_type": "stream",
     "text": [
      "1/1 [==============================] - 0s 25ms/step\n",
      "1/1 [==============================] - 0s 26ms/step\n"
     ]
    },
    {
     "name": "stderr",
     "output_type": "stream",
     "text": [
      "\r",
      " 15%|████████████▏                                                                      | 6/41 [00:01<00:06,  5.48it/s]"
     ]
    },
    {
     "name": "stdout",
     "output_type": "stream",
     "text": [
      "1/1 [==============================] - 0s 28ms/step\n",
      "1/1 [==============================] - 0s 33ms/step\n"
     ]
    },
    {
     "name": "stderr",
     "output_type": "stream",
     "text": [
      "\r",
      " 20%|████████████████▏                                                                  | 8/41 [00:02<00:04,  7.01it/s]"
     ]
    },
    {
     "name": "stdout",
     "output_type": "stream",
     "text": [
      "1/1 [==============================] - 0s 27ms/step\n",
      "1/1 [==============================] - 0s 29ms/step\n"
     ]
    },
    {
     "name": "stderr",
     "output_type": "stream",
     "text": [
      "\r",
      " 24%|████████████████████                                                              | 10/41 [00:02<00:03,  8.19it/s]"
     ]
    },
    {
     "name": "stdout",
     "output_type": "stream",
     "text": [
      "1/1 [==============================] - 0s 30ms/step\n",
      "1/1 [==============================] - 0s 27ms/step\n"
     ]
    },
    {
     "name": "stderr",
     "output_type": "stream",
     "text": [
      "\r",
      " 29%|████████████████████████                                                          | 12/41 [00:02<00:03,  9.18it/s]"
     ]
    },
    {
     "name": "stdout",
     "output_type": "stream",
     "text": [
      "1/1 [==============================] - 0s 29ms/step\n",
      "1/1 [==============================] - 0s 28ms/step\n"
     ]
    },
    {
     "name": "stderr",
     "output_type": "stream",
     "text": [
      "\r",
      " 34%|████████████████████████████                                                      | 14/41 [00:02<00:02,  9.80it/s]"
     ]
    },
    {
     "name": "stdout",
     "output_type": "stream",
     "text": [
      "1/1 [==============================] - 0s 28ms/step\n",
      "1/1 [==============================] - 0s 27ms/step\n"
     ]
    },
    {
     "name": "stderr",
     "output_type": "stream",
     "text": [
      "\r",
      " 39%|████████████████████████████████                                                  | 16/41 [00:02<00:02, 10.81it/s]"
     ]
    },
    {
     "name": "stdout",
     "output_type": "stream",
     "text": [
      "1/1 [==============================] - 0s 27ms/step\n",
      "1/1 [==============================] - 0s 26ms/step\n"
     ]
    },
    {
     "name": "stderr",
     "output_type": "stream",
     "text": [
      "\r",
      " 44%|████████████████████████████████████                                              | 18/41 [00:02<00:01, 11.85it/s]"
     ]
    },
    {
     "name": "stdout",
     "output_type": "stream",
     "text": [
      "1/1 [==============================] - 0s 36ms/step\n",
      "1/1 [==============================] - 0s 26ms/step\n"
     ]
    },
    {
     "name": "stderr",
     "output_type": "stream",
     "text": [
      "\r",
      " 49%|████████████████████████████████████████                                          | 20/41 [00:03<00:01, 12.09it/s]"
     ]
    },
    {
     "name": "stdout",
     "output_type": "stream",
     "text": [
      "1/1 [==============================] - 0s 28ms/step\n",
      "1/1 [==============================] - 0s 27ms/step\n"
     ]
    },
    {
     "name": "stderr",
     "output_type": "stream",
     "text": [
      "\r",
      " 54%|████████████████████████████████████████████                                      | 22/41 [00:03<00:01, 12.94it/s]"
     ]
    },
    {
     "name": "stdout",
     "output_type": "stream",
     "text": [
      "1/1 [==============================] - 0s 26ms/step\n",
      "1/1 [==============================] - 0s 25ms/step\n"
     ]
    },
    {
     "name": "stderr",
     "output_type": "stream",
     "text": [
      "\r",
      " 59%|████████████████████████████████████████████████                                  | 24/41 [00:03<00:01, 13.57it/s]"
     ]
    },
    {
     "name": "stdout",
     "output_type": "stream",
     "text": [
      "1/1 [==============================] - 0s 26ms/step\n",
      "1/1 [==============================] - 0s 27ms/step\n"
     ]
    },
    {
     "name": "stderr",
     "output_type": "stream",
     "text": [
      "\r",
      " 63%|████████████████████████████████████████████████████                              | 26/41 [00:03<00:01, 14.15it/s]"
     ]
    },
    {
     "name": "stdout",
     "output_type": "stream",
     "text": [
      "1/1 [==============================] - 0s 26ms/step\n",
      "1/1 [==============================] - 0s 30ms/step\n"
     ]
    },
    {
     "name": "stderr",
     "output_type": "stream",
     "text": [
      "\r",
      " 68%|████████████████████████████████████████████████████████                          | 28/41 [00:03<00:00, 14.47it/s]"
     ]
    },
    {
     "name": "stdout",
     "output_type": "stream",
     "text": [
      "1/1 [==============================] - 0s 29ms/step\n",
      "1/1 [==============================] - 0s 26ms/step\n"
     ]
    },
    {
     "name": "stderr",
     "output_type": "stream",
     "text": [
      "\r",
      " 73%|████████████████████████████████████████████████████████████                      | 30/41 [00:03<00:00, 14.46it/s]"
     ]
    },
    {
     "name": "stdout",
     "output_type": "stream",
     "text": [
      "1/1 [==============================] - 0s 30ms/step\n",
      "1/1 [==============================] - 0s 27ms/step\n"
     ]
    },
    {
     "name": "stderr",
     "output_type": "stream",
     "text": [
      "\r",
      " 78%|████████████████████████████████████████████████████████████████                  | 32/41 [00:03<00:00, 14.06it/s]"
     ]
    },
    {
     "name": "stdout",
     "output_type": "stream",
     "text": [
      "1/1 [==============================] - 0s 26ms/step\n",
      "1/1 [==============================] - 0s 26ms/step\n"
     ]
    },
    {
     "name": "stderr",
     "output_type": "stream",
     "text": [
      "\r",
      " 83%|████████████████████████████████████████████████████████████████████              | 34/41 [00:03<00:00, 14.35it/s]"
     ]
    },
    {
     "name": "stdout",
     "output_type": "stream",
     "text": [
      "1/1 [==============================] - 0s 26ms/step\n",
      "1/1 [==============================] - 0s 30ms/step\n"
     ]
    },
    {
     "name": "stderr",
     "output_type": "stream",
     "text": [
      "\r",
      " 88%|████████████████████████████████████████████████████████████████████████          | 36/41 [00:04<00:00, 14.55it/s]"
     ]
    },
    {
     "name": "stdout",
     "output_type": "stream",
     "text": [
      "1/1 [==============================] - 0s 27ms/step\n",
      "1/1 [==============================] - 0s 27ms/step\n"
     ]
    },
    {
     "name": "stderr",
     "output_type": "stream",
     "text": [
      "\r",
      " 93%|████████████████████████████████████████████████████████████████████████████      | 38/41 [00:04<00:00, 14.64it/s]"
     ]
    },
    {
     "name": "stdout",
     "output_type": "stream",
     "text": [
      "1/1 [==============================] - 0s 26ms/step\n",
      "1/1 [==============================] - 0s 26ms/step\n"
     ]
    },
    {
     "name": "stderr",
     "output_type": "stream",
     "text": [
      "\r",
      " 98%|████████████████████████████████████████████████████████████████████████████████  | 40/41 [00:04<00:00, 14.53it/s]"
     ]
    },
    {
     "name": "stdout",
     "output_type": "stream",
     "text": [
      "1/1 [==============================] - 0s 24ms/step\n"
     ]
    },
    {
     "name": "stderr",
     "output_type": "stream",
     "text": [
      "\r",
      "100%|██████████████████████████████████████████████████████████████████████████████████| 41/41 [00:04<00:00,  9.18it/s]"
     ]
    },
    {
     "name": "stdout",
     "output_type": "stream",
     "text": [
      "segmented images saved successfully\n"
     ]
    },
    {
     "name": "stderr",
     "output_type": "stream",
     "text": [
      "\n"
     ]
    },
    {
     "name": "stdout",
     "output_type": "stream",
     "text": [
      "Model loaded successfully\n",
      "Test Images: 41\n"
     ]
    },
    {
     "name": "stderr",
     "output_type": "stream",
     "text": [
      "\r",
      "  0%|                                                                                           | 0/41 [00:00<?, ?it/s]"
     ]
    },
    {
     "name": "stdout",
     "output_type": "stream",
     "text": [
      "1/1 [==============================] - 1s 1s/step\n"
     ]
    },
    {
     "name": "stderr",
     "output_type": "stream",
     "text": [
      "\r",
      "  2%|██                                                                                 | 1/41 [00:01<00:56,  1.41s/it]"
     ]
    },
    {
     "name": "stdout",
     "output_type": "stream",
     "text": [
      "1/1 [==============================] - 0s 28ms/step\n"
     ]
    },
    {
     "name": "stderr",
     "output_type": "stream",
     "text": [
      "\r",
      "  5%|████                                                                               | 2/41 [00:01<00:25,  1.50it/s]"
     ]
    },
    {
     "name": "stdout",
     "output_type": "stream",
     "text": [
      "1/1 [==============================] - 0s 28ms/step\n"
     ]
    },
    {
     "name": "stderr",
     "output_type": "stream",
     "text": [
      "\r",
      "  7%|██████                                                                             | 3/41 [00:01<00:15,  2.38it/s]"
     ]
    },
    {
     "name": "stdout",
     "output_type": "stream",
     "text": [
      "1/1 [==============================] - 0s 28ms/step\n"
     ]
    },
    {
     "name": "stderr",
     "output_type": "stream",
     "text": [
      "\r",
      " 10%|████████                                                                           | 4/41 [00:01<00:10,  3.39it/s]"
     ]
    },
    {
     "name": "stdout",
     "output_type": "stream",
     "text": [
      "1/1 [==============================] - 0s 27ms/step\n",
      "1/1 [==============================] - 0s 27ms/step\n"
     ]
    },
    {
     "name": "stderr",
     "output_type": "stream",
     "text": [
      "\r",
      " 15%|████████████▏                                                                      | 6/41 [00:01<00:06,  5.36it/s]"
     ]
    },
    {
     "name": "stdout",
     "output_type": "stream",
     "text": [
      "1/1 [==============================] - 0s 27ms/step\n",
      "1/1 [==============================] - 0s 30ms/step\n"
     ]
    },
    {
     "name": "stderr",
     "output_type": "stream",
     "text": [
      "\r",
      " 20%|████████████████▏                                                                  | 8/41 [00:02<00:04,  6.92it/s]"
     ]
    },
    {
     "name": "stdout",
     "output_type": "stream",
     "text": [
      "1/1 [==============================] - 0s 36ms/step\n",
      "1/1 [==============================] - 0s 26ms/step\n"
     ]
    },
    {
     "name": "stderr",
     "output_type": "stream",
     "text": [
      "\r",
      " 24%|████████████████████                                                              | 10/41 [00:02<00:03,  7.98it/s]"
     ]
    },
    {
     "name": "stdout",
     "output_type": "stream",
     "text": [
      "1/1 [==============================] - 0s 29ms/step\n",
      "1/1 [==============================] - 0s 35ms/step\n"
     ]
    },
    {
     "name": "stderr",
     "output_type": "stream",
     "text": [
      "\r",
      " 29%|████████████████████████                                                          | 12/41 [00:02<00:03,  8.80it/s]"
     ]
    },
    {
     "name": "stdout",
     "output_type": "stream",
     "text": [
      "1/1 [==============================] - 0s 29ms/step\n",
      "1/1 [==============================] - 0s 31ms/step\n"
     ]
    },
    {
     "name": "stderr",
     "output_type": "stream",
     "text": [
      "\r",
      " 34%|████████████████████████████                                                      | 14/41 [00:02<00:02,  9.51it/s]"
     ]
    },
    {
     "name": "stdout",
     "output_type": "stream",
     "text": [
      "1/1 [==============================] - 0s 34ms/step\n",
      "1/1 [==============================] - 0s 31ms/step\n"
     ]
    },
    {
     "name": "stderr",
     "output_type": "stream",
     "text": [
      "\r",
      " 39%|████████████████████████████████                                                  | 16/41 [00:02<00:02,  9.75it/s]"
     ]
    },
    {
     "name": "stdout",
     "output_type": "stream",
     "text": [
      "1/1 [==============================] - 0s 35ms/step\n",
      "1/1 [==============================] - 0s 27ms/step\n"
     ]
    },
    {
     "name": "stderr",
     "output_type": "stream",
     "text": [
      "\r",
      " 44%|████████████████████████████████████                                              | 18/41 [00:03<00:02, 10.13it/s]"
     ]
    },
    {
     "name": "stdout",
     "output_type": "stream",
     "text": [
      "1/1 [==============================] - 0s 28ms/step\n",
      "1/1 [==============================] - 0s 30ms/step\n"
     ]
    },
    {
     "name": "stderr",
     "output_type": "stream",
     "text": [
      "\r",
      " 49%|████████████████████████████████████████                                          | 20/41 [00:03<00:01, 10.75it/s]"
     ]
    },
    {
     "name": "stdout",
     "output_type": "stream",
     "text": [
      "1/1 [==============================] - 0s 32ms/step\n",
      "1/1 [==============================] - 0s 28ms/step\n"
     ]
    },
    {
     "name": "stderr",
     "output_type": "stream",
     "text": [
      "\r",
      " 54%|████████████████████████████████████████████                                      | 22/41 [00:03<00:01, 11.48it/s]"
     ]
    },
    {
     "name": "stdout",
     "output_type": "stream",
     "text": [
      "1/1 [==============================] - 0s 27ms/step\n",
      "1/1 [==============================] - 0s 26ms/step\n"
     ]
    },
    {
     "name": "stderr",
     "output_type": "stream",
     "text": [
      "\r",
      " 59%|████████████████████████████████████████████████                                  | 24/41 [00:03<00:01, 12.35it/s]"
     ]
    },
    {
     "name": "stdout",
     "output_type": "stream",
     "text": [
      "1/1 [==============================] - 0s 25ms/step\n",
      "1/1 [==============================] - 0s 25ms/step\n"
     ]
    },
    {
     "name": "stderr",
     "output_type": "stream",
     "text": [
      "\r",
      " 63%|████████████████████████████████████████████████████                              | 26/41 [00:03<00:01, 13.22it/s]"
     ]
    },
    {
     "name": "stdout",
     "output_type": "stream",
     "text": [
      "1/1 [==============================] - 0s 27ms/step\n",
      "1/1 [==============================] - 0s 30ms/step\n"
     ]
    },
    {
     "name": "stderr",
     "output_type": "stream",
     "text": [
      "\r",
      " 68%|████████████████████████████████████████████████████████                          | 28/41 [00:03<00:00, 13.60it/s]"
     ]
    },
    {
     "name": "stdout",
     "output_type": "stream",
     "text": [
      "1/1 [==============================] - 0s 27ms/step\n",
      "1/1 [==============================] - 0s 27ms/step\n"
     ]
    },
    {
     "name": "stderr",
     "output_type": "stream",
     "text": [
      "\r",
      " 73%|████████████████████████████████████████████████████████████                      | 30/41 [00:03<00:00, 13.83it/s]"
     ]
    },
    {
     "name": "stdout",
     "output_type": "stream",
     "text": [
      "1/1 [==============================] - 0s 27ms/step\n",
      "1/1 [==============================] - 0s 26ms/step\n"
     ]
    },
    {
     "name": "stderr",
     "output_type": "stream",
     "text": [
      "\r",
      " 78%|████████████████████████████████████████████████████████████████                  | 32/41 [00:04<00:00, 14.19it/s]"
     ]
    },
    {
     "name": "stdout",
     "output_type": "stream",
     "text": [
      "1/1 [==============================] - 0s 29ms/step\n",
      "1/1 [==============================] - 0s 27ms/step\n"
     ]
    },
    {
     "name": "stderr",
     "output_type": "stream",
     "text": [
      "\r",
      " 83%|████████████████████████████████████████████████████████████████████              | 34/41 [00:04<00:00, 14.24it/s]"
     ]
    },
    {
     "name": "stdout",
     "output_type": "stream",
     "text": [
      "1/1 [==============================] - 0s 27ms/step\n",
      "1/1 [==============================] - 0s 26ms/step\n"
     ]
    },
    {
     "name": "stderr",
     "output_type": "stream",
     "text": [
      "\r",
      " 88%|████████████████████████████████████████████████████████████████████████          | 36/41 [00:04<00:00, 14.37it/s]"
     ]
    },
    {
     "name": "stdout",
     "output_type": "stream",
     "text": [
      "1/1 [==============================] - 0s 28ms/step\n",
      "1/1 [==============================] - 0s 26ms/step\n"
     ]
    },
    {
     "name": "stderr",
     "output_type": "stream",
     "text": [
      "\r",
      " 93%|████████████████████████████████████████████████████████████████████████████      | 38/41 [00:04<00:00, 14.57it/s]"
     ]
    },
    {
     "name": "stdout",
     "output_type": "stream",
     "text": [
      "1/1 [==============================] - 0s 30ms/step\n",
      "1/1 [==============================] - 0s 26ms/step\n"
     ]
    },
    {
     "name": "stderr",
     "output_type": "stream",
     "text": [
      "\r",
      " 98%|████████████████████████████████████████████████████████████████████████████████  | 40/41 [00:04<00:00, 14.43it/s]"
     ]
    },
    {
     "name": "stdout",
     "output_type": "stream",
     "text": [
      "1/1 [==============================] - 0s 26ms/step\n"
     ]
    },
    {
     "name": "stderr",
     "output_type": "stream",
     "text": [
      "\r",
      "100%|██████████████████████████████████████████████████████████████████████████████████| 41/41 [00:04<00:00,  8.80it/s]"
     ]
    },
    {
     "name": "stdout",
     "output_type": "stream",
     "text": [
      "segmented images saved successfully\n"
     ]
    },
    {
     "name": "stderr",
     "output_type": "stream",
     "text": [
      "\n"
     ]
    }
   ],
   "source": [
    "cup_save_path = 'predictions/acrima/cup'\n",
    "\n",
    "disc_save_path = 'predictions/acrima/disc'\n",
    "\n",
    "cup_model_path = 'files/acrima/z-net1-ASPP/acrima-cup.h5'\n",
    "\n",
    "disc_model_path = 'files/acrima/z-net1-ASPP/acrima-disc.h5'\n",
    "\n",
    "test_dataset = 'datasets/ACRIMA/test/images'\n",
    "\n",
    "# Disc segmentation\n",
    "segmentation_task(model_path = disc_model_path, dataset_path=test_dataset, save_path=disc_save_path)\n",
    "\n",
    "# Cup segmentatioin\n",
    "segmentation_task(model_path = cup_model_path, dataset_path=test_dataset, save_path=cup_save_path)"
   ]
  },
  {
   "cell_type": "code",
   "execution_count": 122,
   "id": "dc56e3a9",
   "metadata": {},
   "outputs": [
    {
     "name": "stdout",
     "output_type": "stream",
     "text": [
      "The performance for disc's model\n",
      "predicted masks 41 - true masks 41\n"
     ]
    },
    {
     "name": "stderr",
     "output_type": "stream",
     "text": [
      "100%|██████████████████████████████████████████████████████████████████████████████████| 41/41 [00:02<00:00, 15.56it/s]"
     ]
    },
    {
     "name": "stdout",
     "output_type": "stream",
     "text": [
      "F1: 0.95\n",
      "Jaccard: 0.91378\n",
      "Recall: 0.95393\n",
      "Precision: 0.95761\n",
      "Dice: 0.95450\n",
      "Pixel Accuracy: 0.97917\n",
      "Cohen's Kappa: 0.94074\n",
      "Matthews Correlation Coefficient: 0.94178\n"
     ]
    },
    {
     "name": "stderr",
     "output_type": "stream",
     "text": [
      "\n"
     ]
    }
   ],
   "source": [
    "model_perfromance_check(pred_mask_dir='predictions/acrima/disc', \n",
    "                        true_mask_dir='datasets/ACRIMA/test/masks/optic_disc_masks', \n",
    "                        cup_or_disc='disc')"
   ]
  },
  {
   "cell_type": "code",
   "execution_count": 123,
   "id": "6b61c467",
   "metadata": {},
   "outputs": [
    {
     "name": "stdout",
     "output_type": "stream",
     "text": [
      "The performance for cup's model\n",
      "predicted masks 41 - true masks 41\n"
     ]
    },
    {
     "name": "stderr",
     "output_type": "stream",
     "text": [
      "100%|██████████████████████████████████████████████████████████████████████████████████| 41/41 [00:02<00:00, 15.37it/s]"
     ]
    },
    {
     "name": "stdout",
     "output_type": "stream",
     "text": [
      "F1: 0.90\n",
      "Jaccard: 0.82127\n",
      "Recall: 0.90038\n",
      "Precision: 0.91134\n",
      "Dice: 0.90040\n",
      "Pixel Accuracy: 0.98140\n",
      "Cohen's Kappa: 0.89008\n",
      "Matthews Correlation Coefficient: 0.89335\n"
     ]
    },
    {
     "name": "stderr",
     "output_type": "stream",
     "text": [
      "\n"
     ]
    }
   ],
   "source": [
    "model_perfromance_check(pred_mask_dir='predictions/acrima/cup', \n",
    "                        true_mask_dir='datasets/ACRIMA/test/masks/optic_cup_masks', \n",
    "                        cup_or_disc='cup')"
   ]
  },
  {
   "cell_type": "markdown",
   "id": "f63274ab",
   "metadata": {},
   "source": [
    "# Test Rim-One"
   ]
  },
  {
   "cell_type": "code",
   "execution_count": 6,
   "id": "709f52e7",
   "metadata": {},
   "outputs": [],
   "source": [
    "dataset_path = 'RIM-ONE'"
   ]
  },
  {
   "cell_type": "code",
   "execution_count": 115,
   "id": "b685ef28",
   "metadata": {},
   "outputs": [
    {
     "name": "stdout",
     "output_type": "stream",
     "text": [
      "Model loaded successfully\n",
      "Test Images: 63\n"
     ]
    },
    {
     "name": "stderr",
     "output_type": "stream",
     "text": [
      "\r",
      "  0%|                                                                                           | 0/63 [00:00<?, ?it/s]"
     ]
    },
    {
     "name": "stdout",
     "output_type": "stream",
     "text": [
      "1/1 [==============================] - 1s 1s/step\n"
     ]
    },
    {
     "name": "stderr",
     "output_type": "stream",
     "text": [
      "\r",
      "  2%|█▎                                                                                 | 1/63 [00:01<01:21,  1.32s/it]"
     ]
    },
    {
     "name": "stdout",
     "output_type": "stream",
     "text": [
      "1/1 [==============================] - 0s 27ms/step\n"
     ]
    },
    {
     "name": "stderr",
     "output_type": "stream",
     "text": [
      "\r",
      "  3%|██▋                                                                                | 2/63 [00:01<00:38,  1.60it/s]"
     ]
    },
    {
     "name": "stdout",
     "output_type": "stream",
     "text": [
      "1/1 [==============================] - 0s 26ms/step\n"
     ]
    },
    {
     "name": "stderr",
     "output_type": "stream",
     "text": [
      "\r",
      "  5%|███▉                                                                               | 3/63 [00:01<00:24,  2.49it/s]"
     ]
    },
    {
     "name": "stdout",
     "output_type": "stream",
     "text": [
      "1/1 [==============================] - 0s 27ms/step\n"
     ]
    },
    {
     "name": "stderr",
     "output_type": "stream",
     "text": [
      "\r",
      "  6%|█████▎                                                                             | 4/63 [00:01<00:17,  3.39it/s]"
     ]
    },
    {
     "name": "stdout",
     "output_type": "stream",
     "text": [
      "1/1 [==============================] - 0s 27ms/step\n",
      "1/1 [==============================] - 0s 26ms/step\n"
     ]
    },
    {
     "name": "stderr",
     "output_type": "stream",
     "text": [
      "\r",
      " 10%|███████▉                                                                           | 6/63 [00:01<00:10,  5.31it/s]"
     ]
    },
    {
     "name": "stdout",
     "output_type": "stream",
     "text": [
      "1/1 [==============================] - 0s 27ms/step\n",
      "1/1 [==============================] - 0s 27ms/step\n"
     ]
    },
    {
     "name": "stderr",
     "output_type": "stream",
     "text": [
      "\r",
      " 13%|██████████▌                                                                        | 8/63 [00:02<00:08,  6.85it/s]"
     ]
    },
    {
     "name": "stdout",
     "output_type": "stream",
     "text": [
      "1/1 [==============================] - 0s 26ms/step\n",
      "1/1 [==============================] - 0s 27ms/step\n"
     ]
    },
    {
     "name": "stderr",
     "output_type": "stream",
     "text": [
      "\r",
      " 16%|█████████████                                                                     | 10/63 [00:02<00:06,  7.95it/s]"
     ]
    },
    {
     "name": "stdout",
     "output_type": "stream",
     "text": [
      "1/1 [==============================] - 0s 28ms/step\n",
      "1/1 [==============================] - 0s 30ms/step\n"
     ]
    },
    {
     "name": "stderr",
     "output_type": "stream",
     "text": [
      "\r",
      " 19%|███████████████▌                                                                  | 12/63 [00:02<00:05,  8.68it/s]"
     ]
    },
    {
     "name": "stdout",
     "output_type": "stream",
     "text": [
      "1/1 [==============================] - 0s 25ms/step\n",
      "1/1 [==============================] - 0s 26ms/step\n"
     ]
    },
    {
     "name": "stderr",
     "output_type": "stream",
     "text": [
      "\r",
      " 22%|██████████████████▏                                                               | 14/63 [00:02<00:05,  9.35it/s]"
     ]
    },
    {
     "name": "stdout",
     "output_type": "stream",
     "text": [
      "1/1 [==============================] - 0s 38ms/step\n",
      "1/1 [==============================] - 0s 31ms/step\n"
     ]
    },
    {
     "name": "stderr",
     "output_type": "stream",
     "text": [
      "\r",
      " 25%|████████████████████▊                                                             | 16/63 [00:02<00:05,  9.26it/s]"
     ]
    },
    {
     "name": "stdout",
     "output_type": "stream",
     "text": [
      "1/1 [==============================] - 0s 29ms/step\n"
     ]
    },
    {
     "name": "stderr",
     "output_type": "stream",
     "text": [
      "\r",
      " 27%|██████████████████████▏                                                           | 17/63 [00:02<00:04,  9.34it/s]"
     ]
    },
    {
     "name": "stdout",
     "output_type": "stream",
     "text": [
      "1/1 [==============================] - 0s 26ms/step\n",
      "1/1 [==============================] - 0s 27ms/step\n"
     ]
    },
    {
     "name": "stderr",
     "output_type": "stream",
     "text": [
      "\r",
      " 30%|████████████████████████▋                                                         | 19/63 [00:03<00:04,  9.74it/s]"
     ]
    },
    {
     "name": "stdout",
     "output_type": "stream",
     "text": [
      "1/1 [==============================] - 0s 26ms/step\n",
      "1/1 [==============================] - 0s 28ms/step\n"
     ]
    },
    {
     "name": "stderr",
     "output_type": "stream",
     "text": [
      "\r",
      " 33%|███████████████████████████▎                                                      | 21/63 [00:03<00:04, 10.08it/s]"
     ]
    },
    {
     "name": "stdout",
     "output_type": "stream",
     "text": [
      "1/1 [==============================] - 0s 27ms/step\n",
      "1/1 [==============================] - 0s 34ms/step\n"
     ]
    },
    {
     "name": "stderr",
     "output_type": "stream",
     "text": [
      "\r",
      " 37%|█████████████████████████████▉                                                    | 23/63 [00:03<00:03, 10.05it/s]"
     ]
    },
    {
     "name": "stdout",
     "output_type": "stream",
     "text": [
      "1/1 [==============================] - 0s 26ms/step\n",
      "1/1 [==============================] - 0s 28ms/step\n"
     ]
    },
    {
     "name": "stderr",
     "output_type": "stream",
     "text": [
      "\r",
      " 40%|████████████████████████████████▌                                                 | 25/63 [00:03<00:03, 10.33it/s]"
     ]
    },
    {
     "name": "stdout",
     "output_type": "stream",
     "text": [
      "1/1 [==============================] - 0s 26ms/step\n",
      "1/1 [==============================] - 0s 25ms/step\n"
     ]
    },
    {
     "name": "stderr",
     "output_type": "stream",
     "text": [
      "\r",
      " 43%|███████████████████████████████████▏                                              | 27/63 [00:03<00:03, 10.64it/s]"
     ]
    },
    {
     "name": "stdout",
     "output_type": "stream",
     "text": [
      "1/1 [==============================] - 0s 27ms/step\n",
      "1/1 [==============================] - 0s 27ms/step\n"
     ]
    },
    {
     "name": "stderr",
     "output_type": "stream",
     "text": [
      "\r",
      " 46%|█████████████████████████████████████▋                                            | 29/63 [00:04<00:03, 10.78it/s]"
     ]
    },
    {
     "name": "stdout",
     "output_type": "stream",
     "text": [
      "1/1 [==============================] - 0s 26ms/step\n",
      "1/1 [==============================] - 0s 26ms/step\n"
     ]
    },
    {
     "name": "stderr",
     "output_type": "stream",
     "text": [
      "\r",
      " 49%|████████████████████████████████████████▎                                         | 31/63 [00:04<00:02, 10.89it/s]"
     ]
    },
    {
     "name": "stdout",
     "output_type": "stream",
     "text": [
      "1/1 [==============================] - 0s 26ms/step\n",
      "1/1 [==============================] - 0s 36ms/step\n"
     ]
    },
    {
     "name": "stderr",
     "output_type": "stream",
     "text": [
      "\r",
      " 52%|██████████████████████████████████████████▉                                       | 33/63 [00:04<00:02, 10.67it/s]"
     ]
    },
    {
     "name": "stdout",
     "output_type": "stream",
     "text": [
      "1/1 [==============================] - 0s 27ms/step\n",
      "1/1 [==============================] - 0s 27ms/step\n"
     ]
    },
    {
     "name": "stderr",
     "output_type": "stream",
     "text": [
      "\r",
      " 56%|█████████████████████████████████████████████▌                                    | 35/63 [00:04<00:02, 10.84it/s]"
     ]
    },
    {
     "name": "stdout",
     "output_type": "stream",
     "text": [
      "1/1 [==============================] - 0s 27ms/step\n",
      "1/1 [==============================] - 0s 25ms/step\n"
     ]
    },
    {
     "name": "stderr",
     "output_type": "stream",
     "text": [
      "\r",
      " 59%|████████████████████████████████████████████████▏                                 | 37/63 [00:04<00:02, 11.39it/s]"
     ]
    },
    {
     "name": "stdout",
     "output_type": "stream",
     "text": [
      "1/1 [==============================] - 0s 25ms/step\n",
      "1/1 [==============================] - 0s 29ms/step\n"
     ]
    },
    {
     "name": "stderr",
     "output_type": "stream",
     "text": [
      "\r",
      " 62%|██████████████████████████████████████████████████▊                               | 39/63 [00:04<00:01, 12.16it/s]"
     ]
    },
    {
     "name": "stdout",
     "output_type": "stream",
     "text": [
      "1/1 [==============================] - 0s 25ms/step\n",
      "1/1 [==============================] - 0s 26ms/step\n"
     ]
    },
    {
     "name": "stderr",
     "output_type": "stream",
     "text": [
      "\r",
      " 65%|█████████████████████████████████████████████████████▎                            | 41/63 [00:05<00:01, 12.54it/s]"
     ]
    },
    {
     "name": "stdout",
     "output_type": "stream",
     "text": [
      "1/1 [==============================] - 0s 31ms/step\n",
      "1/1 [==============================] - 0s 31ms/step\n"
     ]
    },
    {
     "name": "stderr",
     "output_type": "stream",
     "text": [
      "\r",
      " 68%|███████████████████████████████████████████████████████▉                          | 43/63 [00:05<00:01, 12.83it/s]"
     ]
    },
    {
     "name": "stdout",
     "output_type": "stream",
     "text": [
      "1/1 [==============================] - 0s 31ms/step\n",
      "1/1 [==============================] - 0s 28ms/step\n"
     ]
    },
    {
     "name": "stderr",
     "output_type": "stream",
     "text": [
      "\r",
      " 71%|██████████████████████████████████████████████████████████▌                       | 45/63 [00:05<00:01, 12.92it/s]"
     ]
    },
    {
     "name": "stdout",
     "output_type": "stream",
     "text": [
      "1/1 [==============================] - 0s 42ms/step\n",
      "1/1 [==============================] - 0s 31ms/step\n"
     ]
    },
    {
     "name": "stderr",
     "output_type": "stream",
     "text": [
      "\r",
      " 75%|█████████████████████████████████████████████████████████████▏                    | 47/63 [00:05<00:01, 12.27it/s]"
     ]
    },
    {
     "name": "stdout",
     "output_type": "stream",
     "text": [
      "1/1 [==============================] - 0s 38ms/step\n",
      "1/1 [==============================] - 0s 28ms/step\n"
     ]
    },
    {
     "name": "stderr",
     "output_type": "stream",
     "text": [
      "\r",
      " 78%|███████████████████████████████████████████████████████████████▊                  | 49/63 [00:05<00:01, 12.43it/s]"
     ]
    },
    {
     "name": "stdout",
     "output_type": "stream",
     "text": [
      "1/1 [==============================] - 0s 26ms/step\n",
      "1/1 [==============================] - 0s 27ms/step\n"
     ]
    },
    {
     "name": "stderr",
     "output_type": "stream",
     "text": [
      "\r",
      " 81%|██████████████████████████████████████████████████████████████████▍               | 51/63 [00:05<00:00, 12.88it/s]"
     ]
    },
    {
     "name": "stdout",
     "output_type": "stream",
     "text": [
      "1/1 [==============================] - 0s 29ms/step\n",
      "1/1 [==============================] - 0s 30ms/step\n"
     ]
    },
    {
     "name": "stderr",
     "output_type": "stream",
     "text": [
      "\r",
      " 84%|████████████████████████████████████████████████████████████████████▉             | 53/63 [00:06<00:00, 12.90it/s]"
     ]
    },
    {
     "name": "stdout",
     "output_type": "stream",
     "text": [
      "1/1 [==============================] - 0s 27ms/step\n",
      "1/1 [==============================] - 0s 25ms/step\n"
     ]
    },
    {
     "name": "stderr",
     "output_type": "stream",
     "text": [
      "\r",
      " 87%|███████████████████████████████████████████████████████████████████████▌          | 55/63 [00:06<00:00, 13.33it/s]"
     ]
    },
    {
     "name": "stdout",
     "output_type": "stream",
     "text": [
      "1/1 [==============================] - 0s 25ms/step\n",
      "1/1 [==============================] - 0s 26ms/step\n"
     ]
    },
    {
     "name": "stderr",
     "output_type": "stream",
     "text": [
      "\r",
      " 90%|██████████████████████████████████████████████████████████████████████████▏       | 57/63 [00:06<00:00, 13.64it/s]"
     ]
    },
    {
     "name": "stdout",
     "output_type": "stream",
     "text": [
      "1/1 [==============================] - 0s 25ms/step\n",
      "1/1 [==============================] - 0s 27ms/step\n"
     ]
    },
    {
     "name": "stderr",
     "output_type": "stream",
     "text": [
      "\r",
      " 94%|████████████████████████████████████████████████████████████████████████████▊     | 59/63 [00:06<00:00, 13.79it/s]"
     ]
    },
    {
     "name": "stdout",
     "output_type": "stream",
     "text": [
      "1/1 [==============================] - 0s 25ms/step\n",
      "1/1 [==============================] - 0s 26ms/step\n"
     ]
    },
    {
     "name": "stderr",
     "output_type": "stream",
     "text": [
      "\r",
      " 97%|███████████████████████████████████████████████████████████████████████████████▍  | 61/63 [00:06<00:00, 13.71it/s]"
     ]
    },
    {
     "name": "stdout",
     "output_type": "stream",
     "text": [
      "1/1 [==============================] - 0s 27ms/step\n",
      "1/1 [==============================] - 0s 24ms/step\n"
     ]
    },
    {
     "name": "stderr",
     "output_type": "stream",
     "text": [
      "100%|██████████████████████████████████████████████████████████████████████████████████| 63/63 [00:06<00:00,  9.35it/s]"
     ]
    },
    {
     "name": "stdout",
     "output_type": "stream",
     "text": [
      "segmented images saved successfully\n"
     ]
    },
    {
     "name": "stderr",
     "output_type": "stream",
     "text": [
      "\n"
     ]
    },
    {
     "name": "stdout",
     "output_type": "stream",
     "text": [
      "Model loaded successfully\n",
      "Test Images: 63\n"
     ]
    },
    {
     "name": "stderr",
     "output_type": "stream",
     "text": [
      "\r",
      "  0%|                                                                                           | 0/63 [00:00<?, ?it/s]"
     ]
    },
    {
     "name": "stdout",
     "output_type": "stream",
     "text": [
      "1/1 [==============================] - 1s 1s/step\n"
     ]
    },
    {
     "name": "stderr",
     "output_type": "stream",
     "text": [
      "\r",
      "  2%|█▎                                                                                 | 1/63 [00:01<01:22,  1.33s/it]"
     ]
    },
    {
     "name": "stdout",
     "output_type": "stream",
     "text": [
      "1/1 [==============================] - 0s 26ms/step\n"
     ]
    },
    {
     "name": "stderr",
     "output_type": "stream",
     "text": [
      "\r",
      "  3%|██▋                                                                                | 2/63 [00:01<00:38,  1.60it/s]"
     ]
    },
    {
     "name": "stdout",
     "output_type": "stream",
     "text": [
      "1/1 [==============================] - 0s 26ms/step\n"
     ]
    },
    {
     "name": "stderr",
     "output_type": "stream",
     "text": [
      "\r",
      "  5%|███▉                                                                               | 3/63 [00:01<00:23,  2.52it/s]"
     ]
    },
    {
     "name": "stdout",
     "output_type": "stream",
     "text": [
      "1/1 [==============================] - 0s 26ms/step\n"
     ]
    },
    {
     "name": "stderr",
     "output_type": "stream",
     "text": [
      "\r",
      "  6%|█████▎                                                                             | 4/63 [00:01<00:17,  3.45it/s]"
     ]
    },
    {
     "name": "stdout",
     "output_type": "stream",
     "text": [
      "1/1 [==============================] - 0s 26ms/step\n",
      "1/1 [==============================] - 0s 25ms/step\n"
     ]
    },
    {
     "name": "stderr",
     "output_type": "stream",
     "text": [
      "\r",
      " 10%|███████▉                                                                           | 6/63 [00:01<00:10,  5.53it/s]"
     ]
    },
    {
     "name": "stdout",
     "output_type": "stream",
     "text": [
      "1/1 [==============================] - 0s 26ms/step\n",
      "1/1 [==============================] - 0s 29ms/step\n"
     ]
    },
    {
     "name": "stderr",
     "output_type": "stream",
     "text": [
      "\r",
      " 13%|██████████▌                                                                        | 8/63 [00:02<00:07,  7.12it/s]"
     ]
    },
    {
     "name": "stdout",
     "output_type": "stream",
     "text": [
      "1/1 [==============================] - 0s 28ms/step\n",
      "1/1 [==============================] - 0s 26ms/step\n"
     ]
    },
    {
     "name": "stderr",
     "output_type": "stream",
     "text": [
      "\r",
      " 16%|█████████████                                                                     | 10/63 [00:02<00:06,  8.37it/s]"
     ]
    },
    {
     "name": "stdout",
     "output_type": "stream",
     "text": [
      "1/1 [==============================] - 0s 27ms/step\n",
      "1/1 [==============================] - 0s 26ms/step\n"
     ]
    },
    {
     "name": "stderr",
     "output_type": "stream",
     "text": [
      "\r",
      " 19%|███████████████▌                                                                  | 12/63 [00:02<00:05,  9.37it/s]"
     ]
    },
    {
     "name": "stdout",
     "output_type": "stream",
     "text": [
      "1/1 [==============================] - 0s 26ms/step\n",
      "1/1 [==============================] - 0s 25ms/step\n"
     ]
    },
    {
     "name": "stderr",
     "output_type": "stream",
     "text": [
      "\r",
      " 22%|██████████████████▏                                                               | 14/63 [00:02<00:04, 10.00it/s]"
     ]
    },
    {
     "name": "stdout",
     "output_type": "stream",
     "text": [
      "1/1 [==============================] - 0s 26ms/step\n",
      "1/1 [==============================] - 0s 29ms/step\n"
     ]
    },
    {
     "name": "stderr",
     "output_type": "stream",
     "text": [
      "\r",
      " 25%|████████████████████▊                                                             | 16/63 [00:02<00:04, 10.52it/s]"
     ]
    },
    {
     "name": "stdout",
     "output_type": "stream",
     "text": [
      "1/1 [==============================] - 0s 27ms/step\n",
      "1/1 [==============================] - 0s 28ms/step\n"
     ]
    },
    {
     "name": "stderr",
     "output_type": "stream",
     "text": [
      "\r",
      " 29%|███████████████████████▍                                                          | 18/63 [00:02<00:03, 11.47it/s]"
     ]
    },
    {
     "name": "stdout",
     "output_type": "stream",
     "text": [
      "1/1 [==============================] - 0s 30ms/step\n",
      "1/1 [==============================] - 0s 30ms/step\n"
     ]
    },
    {
     "name": "stderr",
     "output_type": "stream",
     "text": [
      "\r",
      " 32%|██████████████████████████                                                        | 20/63 [00:03<00:03, 12.28it/s]"
     ]
    },
    {
     "name": "stdout",
     "output_type": "stream",
     "text": [
      "1/1 [==============================] - 0s 25ms/step\n",
      "1/1 [==============================] - 0s 37ms/step\n"
     ]
    },
    {
     "name": "stderr",
     "output_type": "stream",
     "text": [
      "\r",
      " 35%|████████████████████████████▋                                                     | 22/63 [00:03<00:03, 12.68it/s]"
     ]
    },
    {
     "name": "stdout",
     "output_type": "stream",
     "text": [
      "1/1 [==============================] - 0s 29ms/step\n",
      "1/1 [==============================] - 0s 30ms/step\n"
     ]
    },
    {
     "name": "stderr",
     "output_type": "stream",
     "text": [
      "\r",
      " 38%|███████████████████████████████▏                                                  | 24/63 [00:03<00:03, 12.80it/s]"
     ]
    },
    {
     "name": "stdout",
     "output_type": "stream",
     "text": [
      "1/1 [==============================] - 0s 27ms/step\n",
      "1/1 [==============================] - 0s 26ms/step\n"
     ]
    },
    {
     "name": "stderr",
     "output_type": "stream",
     "text": [
      "\r",
      " 41%|█████████████████████████████████▊                                                | 26/63 [00:03<00:02, 13.46it/s]"
     ]
    },
    {
     "name": "stdout",
     "output_type": "stream",
     "text": [
      "1/1 [==============================] - 0s 26ms/step\n",
      "1/1 [==============================] - 0s 25ms/step\n"
     ]
    },
    {
     "name": "stderr",
     "output_type": "stream",
     "text": [
      "\r",
      " 44%|████████████████████████████████████▍                                             | 28/63 [00:03<00:02, 14.05it/s]"
     ]
    },
    {
     "name": "stdout",
     "output_type": "stream",
     "text": [
      "1/1 [==============================] - 0s 26ms/step\n",
      "1/1 [==============================] - 0s 29ms/step\n"
     ]
    },
    {
     "name": "stderr",
     "output_type": "stream",
     "text": [
      "\r",
      " 48%|███████████████████████████████████████                                           | 30/63 [00:03<00:02, 14.48it/s]"
     ]
    },
    {
     "name": "stdout",
     "output_type": "stream",
     "text": [
      "1/1 [==============================] - 0s 29ms/step\n",
      "1/1 [==============================] - 0s 29ms/step\n"
     ]
    },
    {
     "name": "stderr",
     "output_type": "stream",
     "text": [
      "\r",
      " 51%|█████████████████████████████████████████▋                                        | 32/63 [00:03<00:02, 14.42it/s]"
     ]
    },
    {
     "name": "stdout",
     "output_type": "stream",
     "text": [
      "1/1 [==============================] - 0s 29ms/step\n",
      "1/1 [==============================] - 0s 26ms/step\n"
     ]
    },
    {
     "name": "stderr",
     "output_type": "stream",
     "text": [
      "\r",
      " 54%|████████████████████████████████████████████▎                                     | 34/63 [00:03<00:01, 14.77it/s]"
     ]
    },
    {
     "name": "stdout",
     "output_type": "stream",
     "text": [
      "1/1 [==============================] - 0s 25ms/step\n",
      "1/1 [==============================] - 0s 25ms/step\n"
     ]
    },
    {
     "name": "stderr",
     "output_type": "stream",
     "text": [
      "\r",
      " 57%|██████████████████████████████████████████████▊                                   | 36/63 [00:04<00:01, 15.12it/s]"
     ]
    },
    {
     "name": "stdout",
     "output_type": "stream",
     "text": [
      "1/1 [==============================] - 0s 26ms/step\n",
      "1/1 [==============================] - 0s 26ms/step\n"
     ]
    },
    {
     "name": "stderr",
     "output_type": "stream",
     "text": [
      "\r",
      " 60%|█████████████████████████████████████████████████▍                                | 38/63 [00:04<00:01, 15.29it/s]"
     ]
    },
    {
     "name": "stdout",
     "output_type": "stream",
     "text": [
      "1/1 [==============================] - 0s 28ms/step\n",
      "1/1 [==============================] - 0s 27ms/step\n"
     ]
    },
    {
     "name": "stderr",
     "output_type": "stream",
     "text": [
      "\r",
      " 63%|████████████████████████████████████████████████████                              | 40/63 [00:04<00:01, 15.35it/s]"
     ]
    },
    {
     "name": "stdout",
     "output_type": "stream",
     "text": [
      "1/1 [==============================] - 0s 26ms/step\n",
      "1/1 [==============================] - 0s 30ms/step\n"
     ]
    },
    {
     "name": "stderr",
     "output_type": "stream",
     "text": [
      "\r",
      " 67%|██████████████████████████████████████████████████████▋                           | 42/63 [00:04<00:01, 15.01it/s]"
     ]
    },
    {
     "name": "stdout",
     "output_type": "stream",
     "text": [
      "1/1 [==============================] - 0s 26ms/step\n",
      "1/1 [==============================] - 0s 26ms/step\n"
     ]
    },
    {
     "name": "stderr",
     "output_type": "stream",
     "text": [
      "\r",
      " 70%|█████████████████████████████████████████████████████████▎                        | 44/63 [00:04<00:01, 14.81it/s]"
     ]
    },
    {
     "name": "stdout",
     "output_type": "stream",
     "text": [
      "1/1 [==============================] - 0s 26ms/step\n",
      "1/1 [==============================] - 0s 26ms/step\n"
     ]
    },
    {
     "name": "stderr",
     "output_type": "stream",
     "text": [
      "\r",
      " 73%|███████████████████████████████████████████████████████████▊                      | 46/63 [00:04<00:01, 14.19it/s]"
     ]
    },
    {
     "name": "stdout",
     "output_type": "stream",
     "text": [
      "1/1 [==============================] - 0s 30ms/step\n",
      "1/1 [==============================] - 0s 30ms/step\n"
     ]
    },
    {
     "name": "stderr",
     "output_type": "stream",
     "text": [
      "\r",
      " 76%|██████████████████████████████████████████████████████████████▍                   | 48/63 [00:04<00:01, 13.00it/s]"
     ]
    },
    {
     "name": "stdout",
     "output_type": "stream",
     "text": [
      "1/1 [==============================] - 0s 27ms/step\n",
      "1/1 [==============================] - 0s 26ms/step\n"
     ]
    },
    {
     "name": "stderr",
     "output_type": "stream",
     "text": [
      "\r",
      " 79%|█████████████████████████████████████████████████████████████████                 | 50/63 [00:05<00:01, 12.47it/s]"
     ]
    },
    {
     "name": "stdout",
     "output_type": "stream",
     "text": [
      "1/1 [==============================] - 0s 31ms/step\n",
      "1/1 [==============================] - 0s 29ms/step\n"
     ]
    },
    {
     "name": "stderr",
     "output_type": "stream",
     "text": [
      "\r",
      " 83%|███████████████████████████████████████████████████████████████████▋              | 52/63 [00:05<00:00, 12.26it/s]"
     ]
    },
    {
     "name": "stdout",
     "output_type": "stream",
     "text": [
      "1/1 [==============================] - 0s 30ms/step\n",
      "1/1 [==============================] - 0s 30ms/step\n"
     ]
    },
    {
     "name": "stderr",
     "output_type": "stream",
     "text": [
      "\r",
      " 86%|██████████████████████████████████████████████████████████████████████▎           | 54/63 [00:05<00:00, 11.81it/s]"
     ]
    },
    {
     "name": "stdout",
     "output_type": "stream",
     "text": [
      "1/1 [==============================] - 0s 26ms/step\n",
      "1/1 [==============================] - 0s 27ms/step\n"
     ]
    },
    {
     "name": "stderr",
     "output_type": "stream",
     "text": [
      "\r",
      " 89%|████████████████████████████████████████████████████████████████████████▉         | 56/63 [00:05<00:00, 11.90it/s]"
     ]
    },
    {
     "name": "stdout",
     "output_type": "stream",
     "text": [
      "1/1 [==============================] - 0s 40ms/step\n",
      "1/1 [==============================] - 0s 29ms/step\n"
     ]
    },
    {
     "name": "stderr",
     "output_type": "stream",
     "text": [
      "\r",
      " 92%|███████████████████████████████████████████████████████████████████████████▍      | 58/63 [00:05<00:00, 11.44it/s]"
     ]
    },
    {
     "name": "stdout",
     "output_type": "stream",
     "text": [
      "1/1 [==============================] - 0s 30ms/step\n",
      "1/1 [==============================] - 0s 24ms/step\n"
     ]
    },
    {
     "name": "stderr",
     "output_type": "stream",
     "text": [
      "\r",
      " 95%|██████████████████████████████████████████████████████████████████████████████    | 60/63 [00:05<00:00, 11.96it/s]"
     ]
    },
    {
     "name": "stdout",
     "output_type": "stream",
     "text": [
      "1/1 [==============================] - 0s 26ms/step\n",
      "1/1 [==============================] - 0s 28ms/step\n"
     ]
    },
    {
     "name": "stderr",
     "output_type": "stream",
     "text": [
      "\r",
      " 98%|████████████████████████████████████████████████████████████████████████████████▋ | 62/63 [00:06<00:00, 12.59it/s]"
     ]
    },
    {
     "name": "stdout",
     "output_type": "stream",
     "text": [
      "1/1 [==============================] - 0s 26ms/step\n"
     ]
    },
    {
     "name": "stderr",
     "output_type": "stream",
     "text": [
      "\r",
      "100%|██████████████████████████████████████████████████████████████████████████████████| 63/63 [00:06<00:00, 10.16it/s]"
     ]
    },
    {
     "name": "stdout",
     "output_type": "stream",
     "text": [
      "segmented images saved successfully\n"
     ]
    },
    {
     "name": "stderr",
     "output_type": "stream",
     "text": [
      "\n"
     ]
    }
   ],
   "source": [
    "cup_save_path = 'predictions/RIM-ONE/cup'\n",
    "\n",
    "disc_save_path = 'predictions/RIM-ONE/disc'\n",
    "\n",
    "cup_model_path = 'files/rim/z-net1-ASPP/acrima-cup.h5'\n",
    "\n",
    "disc_model_path = 'files/rim/z-net1-ASPP/acrima-disc.h5'\n",
    "\n",
    "test_dataset = 'datasets/RIM-ONE/test/images'\n",
    "\n",
    "# Disc segmentation\n",
    "segmentation_task(model_path = disc_model_path, dataset_path=test_dataset, save_path=disc_save_path)\n",
    "\n",
    "# Cup segmentatioin\n",
    "segmentation_task(model_path = cup_model_path, dataset_path=test_dataset, save_path=cup_save_path)"
   ]
  },
  {
   "cell_type": "code",
   "execution_count": 28,
   "id": "1c3c94fa",
   "metadata": {},
   "outputs": [
    {
     "name": "stdout",
     "output_type": "stream",
     "text": [
      "The performance for disc's model\n",
      "predicted masks 61 - true masks 61\n"
     ]
    },
    {
     "name": "stderr",
     "output_type": "stream",
     "text": [
      "100%|██████████████████████████████████████████████████████████████████████████████████| 61/61 [00:03<00:00, 16.99it/s]"
     ]
    },
    {
     "name": "stdout",
     "output_type": "stream",
     "text": [
      "F1: 0.97\n",
      "Jaccard: 0.93687\n",
      "Recall: 0.95852\n",
      "Precision: 0.97720\n",
      "Dice: 0.96716\n",
      "Pixel Accuracy: 0.97410\n",
      "Cohen's Kappa: 0.94563\n",
      "Matthews Correlation Coefficient: 0.94653\n"
     ]
    },
    {
     "name": "stderr",
     "output_type": "stream",
     "text": [
      "\n"
     ]
    }
   ],
   "source": [
    "model_perfromance_check(pred_mask_dir='predictions/RIM-ONE/disc', \n",
    "                        true_mask_dir='datasets/RIM-ONE/test/masks/optic_disc_masks', \n",
    "                        cup_or_disc='disc')"
   ]
  },
  {
   "cell_type": "code",
   "execution_count": 29,
   "id": "9443bfd6",
   "metadata": {},
   "outputs": [
    {
     "name": "stdout",
     "output_type": "stream",
     "text": [
      "The performance for cup's model\n",
      "predicted masks 61 - true masks 61\n"
     ]
    },
    {
     "name": "stderr",
     "output_type": "stream",
     "text": [
      "100%|██████████████████████████████████████████████████████████████████████████████████| 61/61 [00:03<00:00, 17.34it/s]"
     ]
    },
    {
     "name": "stdout",
     "output_type": "stream",
     "text": [
      "F1: 0.90\n",
      "Jaccard: 0.82247\n",
      "Recall: 0.92093\n",
      "Precision: 0.89251\n",
      "Dice: 0.90076\n",
      "Pixel Accuracy: 0.98066\n",
      "Cohen's Kappa: 0.88979\n",
      "Matthews Correlation Coefficient: 0.89330\n"
     ]
    },
    {
     "name": "stderr",
     "output_type": "stream",
     "text": [
      "\n"
     ]
    }
   ],
   "source": [
    "model_perfromance_check(pred_mask_dir='predictions/RIM-ONE/cup', \n",
    "                        true_mask_dir='datasets/RIM-ONE/test/masks/optic_cup_masks', \n",
    "                        cup_or_disc='cup')"
   ]
  },
  {
   "cell_type": "markdown",
   "id": "40f4f880",
   "metadata": {},
   "source": [
    "# Classification using ResNet-50 model \n",
    "In here we will just use the pretrained model to classifiy the images to (with optic cup, and without optic cup) the one without the optic cup will considered as normal eyes"
   ]
  },
  {
   "cell_type": "markdown",
   "id": "a781f4db",
   "metadata": {},
   "source": [
    "## Constant"
   ]
  },
  {
   "cell_type": "code",
   "execution_count": 20,
   "id": "15273280",
   "metadata": {},
   "outputs": [],
   "source": [
    "cdr_rim_normal = 'cdr/rim/normal'\n",
    "cdr_rim_g = 'cdr/rim/glaucoma'\n",
    "\n",
    "cdr_acrima_normal = 'cdr/acrima/normal'\n",
    "cdr_acrima_g = 'cdr/acrima/glaucoma'\n",
    "\n",
    "cdr_drishti_normal = 'cdr/drishti/normal'\n",
    "cdr_drishti_g = 'cdr/drishti/glaucoma'"
   ]
  },
  {
   "cell_type": "markdown",
   "id": "00d2aec7",
   "metadata": {},
   "source": [
    "### The function to do the calssification task"
   ]
  },
  {
   "cell_type": "code",
   "execution_count": 42,
   "id": "eb13e594",
   "metadata": {},
   "outputs": [],
   "source": [
    "def classification_task(images_path, output_path):\n",
    "    \"\"\"This function will load the classification model (Res-Net) to classifiy the images as \n",
    "    Contain optic cup and not glaucoma (there is no optic cup). The output will be saved as\n",
    "    not glaucoma folder and optic-cup folder.\n",
    "    Images_path : is the path for the images that we want to calssifiy,\n",
    "    Output_path : is the path that we want to save our output to.\n",
    "    \"\"\"\n",
    "    \n",
    "    test_datagen = ImageDataGenerator(rescale=1./255)\n",
    "\n",
    "    # Flow test images in batches\n",
    "    test_generator = test_datagen.flow_from_directory(\n",
    "        images_path,\n",
    "        target_size=(256, 256),  # Same target size as training/validation\n",
    "        batch_size=32,  \n",
    "        class_mode='binary', \n",
    "        shuffle=False \n",
    "    )\n",
    "\n",
    "    # here we load the pretrained model \n",
    "\n",
    "    # Path to the saved model\n",
    "    saved_model_path = 'classification_model/best_model.h5'  \n",
    "\n",
    "    # Load the saved model\n",
    "    model = load_model(saved_model_path)\n",
    "\n",
    "    predictions = model.predict(test_generator, verbose=1)\n",
    "\n",
    "    # Filenames in the same order as predictions\n",
    "    filenames = test_generator.filenames\n",
    "    predicted_classes = predictions > 0.5\n",
    "\n",
    "    output_base_path = output_path\n",
    "\n",
    "    # Directories for classified images\n",
    "    optic_dir = os.path.join(output_base_path, 'optic-cup')\n",
    "    no_optic_dir = os.path.join(output_base_path, 'no-glaucoma')\n",
    "\n",
    "    # Create the directories if they don't exist\n",
    "    os.makedirs(optic_dir, exist_ok=True)\n",
    "    os.makedirs(no_optic_dir, exist_ok=True)\n",
    "\n",
    "    for filename, prediction in zip(filenames, predictions):\n",
    "        # Since the prediction is a probability, determine the class based on threshold\n",
    "        predicted_class = \"Optic\" if prediction > 0.5 else \"No-Optic\"\n",
    "        probability = prediction[0] * 100  # Convert to percentage\n",
    "        print(f\"{filename}: {predicted_class} - {probability:.2f}%\")\n",
    "\n",
    "        # Source file path\n",
    "        src_path = os.path.join(images_path, filename)  # Ensure this is the path to your original test images\n",
    "\n",
    "        # Determine the destination directory based on the predicted class\n",
    "        if predicted_class == \"Optic\":\n",
    "            dest_path = os.path.join(optic_dir, os.path.basename(filename))\n",
    "        else:\n",
    "            dest_path = os.path.join(no_optic_dir, os.path.basename(filename))\n",
    "\n",
    "        # Copy the file to the new directory\n",
    "        shutil.copy(src_path, dest_path)\n"
   ]
  },
  {
   "cell_type": "markdown",
   "id": "5b358473",
   "metadata": {},
   "source": [
    "### The classification process for the RIM-ONE Dataset \n",
    "1- for the normal images \n",
    "\n",
    "2- for the glaucoma images"
   ]
  },
  {
   "cell_type": "code",
   "execution_count": 222,
   "id": "4bcc3f20",
   "metadata": {
    "collapsed": true
   },
   "outputs": [
    {
     "name": "stdout",
     "output_type": "stream",
     "text": [
      "Found 118 images belonging to 1 classes.\n",
      "4/4 [==============================] - 1s 190ms/step\n",
      "normal\\r1_Im001.png: Optic - 52.68%\n",
      "normal\\r1_Im003.png: Optic - 79.36%\n",
      "normal\\r1_Im004.png: Optic - 82.46%\n",
      "normal\\r1_Im006.png: No-Optic - 19.60%\n",
      "normal\\r1_Im008.png: No-Optic - 33.89%\n",
      "normal\\r1_Im011.png: No-Optic - 42.69%\n",
      "normal\\r1_Im012.png: No-Optic - 40.12%\n",
      "normal\\r1_Im014.png: Optic - 84.66%\n",
      "normal\\r1_Im015.png: Optic - 82.98%\n",
      "normal\\r1_Im019.png: No-Optic - 49.28%\n",
      "normal\\r1_Im020.png: No-Optic - 40.91%\n",
      "normal\\r1_Im022.png: Optic - 66.58%\n",
      "normal\\r1_Im023.png: Optic - 68.25%\n",
      "normal\\r1_Im024.png: Optic - 74.12%\n",
      "normal\\r1_Im025.png: Optic - 72.87%\n",
      "normal\\r1_Im026.png: No-Optic - 35.44%\n",
      "normal\\r1_Im027.png: No-Optic - 42.33%\n",
      "normal\\r1_Im028.png: Optic - 61.10%\n",
      "normal\\r1_Im029.png: No-Optic - 35.59%\n",
      "normal\\r1_Im031.png: No-Optic - 23.83%\n",
      "normal\\r1_Im032.png: No-Optic - 24.71%\n",
      "normal\\r1_Im033.png: No-Optic - 26.95%\n",
      "normal\\r1_Im036.png: Optic - 92.92%\n",
      "normal\\r1_Im037.png: Optic - 95.75%\n",
      "normal\\r1_Im040.png: Optic - 59.02%\n",
      "normal\\r1_Im041.png: Optic - 73.92%\n",
      "normal\\r1_Im042.png: No-Optic - 37.14%\n",
      "normal\\r1_Im046.png: No-Optic - 33.17%\n",
      "normal\\r1_Im047.png: No-Optic - 35.61%\n",
      "normal\\r1_Im050.png: Optic - 51.17%\n",
      "normal\\r1_Im052.png: Optic - 92.34%\n",
      "normal\\r1_Im054.png: Optic - 62.89%\n",
      "normal\\r1_Im055.png: No-Optic - 49.39%\n",
      "normal\\r1_Im056.png: Optic - 52.61%\n",
      "normal\\r1_Im057.png: No-Optic - 40.05%\n",
      "normal\\r1_Im058.png: No-Optic - 44.54%\n",
      "normal\\r1_Im059.png: Optic - 66.94%\n",
      "normal\\r1_Im060.png: Optic - 78.67%\n",
      "normal\\r1_Im061.png: Optic - 57.01%\n",
      "normal\\r1_Im062.png: Optic - 54.23%\n",
      "normal\\r1_Im063.png: Optic - 59.90%\n",
      "normal\\r1_Im071.png: No-Optic - 32.40%\n",
      "normal\\r1_Im072.png: No-Optic - 11.58%\n",
      "normal\\r1_Im073.png: No-Optic - 17.82%\n",
      "normal\\r1_Im080.png: No-Optic - 34.26%\n",
      "normal\\r1_Im082.png: No-Optic - 23.07%\n",
      "normal\\r1_Im086.png: No-Optic - 46.01%\n",
      "normal\\r1_Im087.png: Optic - 62.64%\n",
      "normal\\r1_Im095.png: No-Optic - 21.74%\n",
      "normal\\r1_Im107.png: No-Optic - 20.77%\n",
      "normal\\r1_Im108.png: No-Optic - 18.99%\n",
      "normal\\r1_Im115.png: No-Optic - 13.44%\n",
      "normal\\r1_Im116.png: No-Optic - 13.57%\n",
      "normal\\r1_Im119.png: No-Optic - 32.05%\n",
      "normal\\r1_Im125.png: No-Optic - 43.71%\n",
      "normal\\r1_Im127.png: No-Optic - 26.32%\n",
      "normal\\r1_Im128.png: No-Optic - 21.59%\n",
      "normal\\r1_Im129.png: No-Optic - 28.57%\n",
      "normal\\r1_Im130.png: No-Optic - 46.91%\n",
      "normal\\r1_Im131.png: Optic - 71.50%\n",
      "normal\\r1_Im132.png: No-Optic - 17.63%\n",
      "normal\\r1_Im133.png: No-Optic - 45.14%\n",
      "normal\\r1_Im136.png: No-Optic - 22.38%\n",
      "normal\\r1_Im137.png: No-Optic - 44.43%\n",
      "normal\\r1_Im138.png: Optic - 56.78%\n",
      "normal\\r1_Im142.png: No-Optic - 45.70%\n",
      "normal\\r1_Im143.png: No-Optic - 39.93%\n",
      "normal\\r1_Im145.png: Optic - 59.35%\n",
      "normal\\r1_Im146.png: No-Optic - 42.71%\n",
      "normal\\r1_Im149.png: Optic - 57.06%\n",
      "normal\\r1_Im150.png: No-Optic - 34.30%\n",
      "normal\\r1_Im151.png: No-Optic - 24.09%\n",
      "normal\\r1_Im152.png: No-Optic - 47.03%\n",
      "normal\\r1_Im153.png: No-Optic - 30.92%\n",
      "normal\\r1_Im154.png: No-Optic - 38.37%\n",
      "normal\\r1_Im155.png: No-Optic - 25.94%\n",
      "normal\\r1_Im156.png: No-Optic - 20.01%\n",
      "normal\\r1_Im159.png: No-Optic - 24.74%\n",
      "normal\\r1_Im161.png: No-Optic - 30.65%\n",
      "normal\\r1_Im162.png: No-Optic - 25.19%\n",
      "normal\\r1_Im163.png: No-Optic - 20.07%\n",
      "normal\\r1_Im164.png: No-Optic - 19.89%\n",
      "normal\\r1_Im165.png: No-Optic - 44.30%\n",
      "normal\\r1_Im166.png: Optic - 90.67%\n",
      "normal\\r1_Im168.png: No-Optic - 40.82%\n",
      "normal\\r1_Im169.png: Optic - 56.08%\n",
      "normal\\r2_Im001.png: Optic - 62.01%\n",
      "normal\\r2_Im002.png: No-Optic - 41.84%\n",
      "normal\\r2_Im003.png: Optic - 72.59%\n",
      "normal\\r2_Im004.png: No-Optic - 48.72%\n",
      "normal\\r2_Im005.png: Optic - 63.30%\n",
      "normal\\r2_Im006.png: Optic - 57.56%\n",
      "normal\\r2_Im007.png: Optic - 55.37%\n",
      "normal\\r2_Im009.png: No-Optic - 36.93%\n",
      "normal\\r2_Im010.png: No-Optic - 34.04%\n",
      "normal\\r2_Im011.png: No-Optic - 39.45%\n",
      "normal\\r2_Im012.png: No-Optic - 31.85%\n",
      "normal\\r2_Im013.png: Optic - 50.45%\n",
      "normal\\r2_Im014.png: Optic - 51.42%\n",
      "normal\\r2_Im015.png: No-Optic - 29.49%\n",
      "normal\\r2_Im016.png: Optic - 55.65%\n",
      "normal\\r2_Im017.png: No-Optic - 43.44%\n",
      "normal\\r2_Im018.png: No-Optic - 46.73%\n",
      "normal\\r2_Im019.png: No-Optic - 38.14%\n",
      "normal\\r2_Im020.png: No-Optic - 43.09%\n",
      "normal\\r2_Im021.png: Optic - 81.10%\n",
      "normal\\r2_Im022.png: Optic - 84.92%\n",
      "normal\\r2_Im023.png: Optic - 86.07%\n",
      "normal\\r2_Im024.png: Optic - 78.41%\n",
      "normal\\r2_Im025.png: Optic - 75.80%\n",
      "normal\\r2_Im026.png: Optic - 61.10%\n",
      "normal\\r2_Im027.png: No-Optic - 28.13%\n",
      "normal\\r2_Im028.png: No-Optic - 31.90%\n",
      "normal\\r2_Im029.png: No-Optic - 30.97%\n",
      "normal\\r2_Im030.png: No-Optic - 32.24%\n",
      "normal\\r2_Im031.png: Optic - 50.01%\n",
      "normal\\r2_Im032.png: Optic - 64.17%\n",
      "normal\\r2_Im033.png: Optic - 58.64%\n"
     ]
    }
   ],
   "source": [
    "classification_task(images_path = cdr_rim_normal, output_path = 'classified_images/rim/cdr/normal')"
   ]
  },
  {
   "cell_type": "code",
   "execution_count": 223,
   "id": "b6155635",
   "metadata": {
    "collapsed": true
   },
   "outputs": [
    {
     "name": "stdout",
     "output_type": "stream",
     "text": [
      "Found 16 images belonging to 1 classes.\n",
      "1/1 [==============================] - 1s 1s/step\n",
      "glaucoma\\r1_Im069.png: Optic - 93.52%\n",
      "glaucoma\\r1_Im103.png: No-Optic - 36.80%\n",
      "glaucoma\\r2_Im263.png: Optic - 66.33%\n",
      "glaucoma\\r2_Im264.png: Optic - 69.56%\n",
      "glaucoma\\r2_Im266.png: Optic - 80.70%\n",
      "glaucoma\\r2_Im269.png: Optic - 95.85%\n",
      "glaucoma\\r2_Im270.png: Optic - 70.33%\n",
      "glaucoma\\r2_Im289.png: Optic - 75.43%\n",
      "glaucoma\\r2_Im290.png: Optic - 60.01%\n",
      "glaucoma\\r2_Im291.png: Optic - 90.48%\n",
      "glaucoma\\r2_Im292.png: Optic - 63.08%\n",
      "glaucoma\\r2_Im305.png: Optic - 81.75%\n",
      "glaucoma\\r2_Im330.png: Optic - 63.85%\n",
      "glaucoma\\r2_Im331.png: No-Optic - 49.81%\n",
      "glaucoma\\r2_Im332.png: Optic - 55.97%\n",
      "glaucoma\\r2_Im334.png: Optic - 60.61%\n"
     ]
    }
   ],
   "source": [
    "classification_task(images_path = cdr_rim_g, output_path = 'classified_images/rim/cdr/glaucoma')"
   ]
  },
  {
   "cell_type": "markdown",
   "id": "d670eb64",
   "metadata": {},
   "source": [
    "### The classification process for the ACRIMA Dataset\n",
    "1- for the normal images \n",
    "\n",
    "2- for the glaucoma images"
   ]
  },
  {
   "cell_type": "code",
   "execution_count": 188,
   "id": "7956d8a8",
   "metadata": {
    "collapsed": true
   },
   "outputs": [
    {
     "name": "stdout",
     "output_type": "stream",
     "text": [
      "Found 57 images belonging to 1 classes.\n",
      "2/2 [==============================] - 1s 378ms/step\n",
      "normal\\Im241_ACRIMA.jpg: No-Optic - 31.13%\n",
      "normal\\Im242_ACRIMA.jpg: No-Optic - 7.51%\n",
      "normal\\Im243_ACRIMA.jpg: No-Optic - 33.70%\n",
      "normal\\Im244_ACRIMA.jpg: No-Optic - 45.75%\n",
      "normal\\Im245_ACRIMA.jpg: Optic - 57.18%\n",
      "normal\\Im246_ACRIMA.jpg: Optic - 68.79%\n",
      "normal\\Im248_ACRIMA.jpg: No-Optic - 17.92%\n",
      "normal\\Im249_ACRIMA.jpg: No-Optic - 11.21%\n",
      "normal\\Im250_ACRIMA.jpg: No-Optic - 48.84%\n",
      "normal\\Im251_ACRIMA.jpg: No-Optic - 7.85%\n",
      "normal\\Im260_ACRIMA.jpg: No-Optic - 18.11%\n",
      "normal\\Im261_ACRIMA.jpg: Optic - 96.01%\n",
      "normal\\Im262_ACRIMA.jpg: Optic - 84.20%\n",
      "normal\\Im263_ACRIMA.jpg: No-Optic - 31.06%\n",
      "normal\\Im264_ACRIMA.jpg: No-Optic - 45.32%\n",
      "normal\\Im265_ACRIMA.jpg: Optic - 70.91%\n",
      "normal\\Im266_ACRIMA.jpg: No-Optic - 41.36%\n",
      "normal\\Im267_ACRIMA.jpg: No-Optic - 21.51%\n",
      "normal\\Im268_ACRIMA.jpg: No-Optic - 33.59%\n",
      "normal\\Im269_ACRIMA.jpg: Optic - 75.57%\n",
      "normal\\Im270_ACRIMA.jpg: Optic - 60.49%\n",
      "normal\\Im271_ACRIMA.jpg: No-Optic - 28.74%\n",
      "normal\\Im272_ACRIMA.jpg: No-Optic - 43.85%\n",
      "normal\\Im273_ACRIMA.jpg: No-Optic - 31.29%\n",
      "normal\\Im274_ACRIMA.jpg: No-Optic - 29.07%\n",
      "normal\\Im276_ACRIMA.jpg: Optic - 83.08%\n",
      "normal\\Im277_ACRIMA.jpg: No-Optic - 10.56%\n",
      "normal\\Im278_ACRIMA.jpg: No-Optic - 15.82%\n",
      "normal\\Im279_ACRIMA.jpg: No-Optic - 25.87%\n",
      "normal\\Im280_ACRIMA.jpg: No-Optic - 40.76%\n",
      "normal\\Im281_ACRIMA.jpg: Optic - 86.23%\n",
      "normal\\Im282_ACRIMA.jpg: Optic - 74.87%\n",
      "normal\\Im283_ACRIMA.jpg: No-Optic - 30.01%\n",
      "normal\\Im284_ACRIMA.jpg: Optic - 51.82%\n",
      "normal\\Im285_ACRIMA.jpg: Optic - 86.50%\n",
      "normal\\Im286_ACRIMA.jpg: Optic - 81.43%\n",
      "normal\\Im287_ACRIMA.jpg: No-Optic - 16.23%\n",
      "normal\\Im288_ACRIMA.jpg: Optic - 64.80%\n",
      "normal\\Im290_ACRIMA.jpg: Optic - 86.56%\n",
      "normal\\Im291_ACRIMA.jpg: Optic - 56.60%\n",
      "normal\\Im292_ACRIMA.jpg: No-Optic - 39.53%\n",
      "normal\\Im293_ACRIMA.jpg: Optic - 64.48%\n",
      "normal\\Im294_ACRIMA.jpg: No-Optic - 43.65%\n",
      "normal\\Im295_ACRIMA.jpg: Optic - 97.91%\n",
      "normal\\Im296_ACRIMA.jpg: No-Optic - 13.83%\n",
      "normal\\Im297_ACRIMA.jpg: No-Optic - 29.36%\n",
      "normal\\Im298_ACRIMA.jpg: Optic - 95.71%\n",
      "normal\\Im299_ACRIMA.jpg: Optic - 98.12%\n",
      "normal\\Im300_ACRIMA.jpg: Optic - 74.83%\n",
      "normal\\Im301_ACRIMA.jpg: Optic - 86.64%\n",
      "normal\\Im302_ACRIMA.jpg: Optic - 52.52%\n",
      "normal\\Im303_ACRIMA.jpg: No-Optic - 43.22%\n",
      "normal\\Im304_ACRIMA.jpg: Optic - 51.93%\n",
      "normal\\Im305_ACRIMA.jpg: No-Optic - 19.20%\n",
      "normal\\Im306_ACRIMA.jpg: Optic - 70.26%\n",
      "normal\\Im307_ACRIMA.jpg: Optic - 97.99%\n",
      "normal\\Im309_ACRIMA.jpg: No-Optic - 11.46%\n"
     ]
    }
   ],
   "source": [
    "classification_task(images_path = cdr_acrima_normal, output_path = 'classified_images/acrima/cdr/normal')"
   ]
  },
  {
   "cell_type": "code",
   "execution_count": 189,
   "id": "67b6e852",
   "metadata": {
    "collapsed": true
   },
   "outputs": [
    {
     "name": "stdout",
     "output_type": "stream",
     "text": [
      "Found 26 images belonging to 1 classes.\n",
      "1/1 [==============================] - 1s 1s/step\n",
      "glaucoma\\Im581_g_ACRIMA.jpg: Optic - 80.77%\n",
      "glaucoma\\Im590_g_ACRIMA.jpg: Optic - 92.88%\n",
      "glaucoma\\Im610_g_ACRIMA.jpg: Optic - 97.97%\n",
      "glaucoma\\Im621_g_ACRIMA.jpg: Optic - 75.60%\n",
      "glaucoma\\Im629_g_ACRIMA.jpg: Optic - 56.79%\n",
      "glaucoma\\Im632_g_ACRIMA.jpg: Optic - 99.56%\n",
      "glaucoma\\Im633_g_ACRIMA.jpg: Optic - 99.17%\n",
      "glaucoma\\Im642_g_ACRIMA.jpg: Optic - 94.80%\n",
      "glaucoma\\Im649_g_ACRIMA.jpg: Optic - 88.63%\n",
      "glaucoma\\Im651_g_ACRIMA.jpg: Optic - 92.16%\n",
      "glaucoma\\Im656_g_ACRIMA.jpg: Optic - 94.96%\n",
      "glaucoma\\Im657_g_ACRIMA.jpg: Optic - 89.57%\n",
      "glaucoma\\Im663_g_ACRIMA.jpg: Optic - 71.45%\n",
      "glaucoma\\Im666_g_ACRIMA.jpg: Optic - 90.05%\n",
      "glaucoma\\Im667_g_ACRIMA.jpg: Optic - 98.17%\n",
      "glaucoma\\Im670_g_ACRIMA.jpg: Optic - 94.70%\n",
      "glaucoma\\Im671_g_ACRIMA.jpg: Optic - 99.56%\n",
      "glaucoma\\Im675_g_ACRIMA.jpg: Optic - 98.31%\n",
      "glaucoma\\Im679_g_ACRIMA.jpg: Optic - 95.21%\n",
      "glaucoma\\Im680_g_ACRIMA.jpg: Optic - 98.58%\n",
      "glaucoma\\Im683_g_ACRIMA.jpg: No-Optic - 31.98%\n",
      "glaucoma\\Im685_g_ACRIMA.jpg: Optic - 90.85%\n",
      "glaucoma\\Im686_g_ACRIMA.jpg: Optic - 89.09%\n",
      "glaucoma\\Im691_g_ACRIMA.jpg: Optic - 93.18%\n",
      "glaucoma\\Im697_g_ACRIMA.jpg: Optic - 98.20%\n",
      "glaucoma\\Im703_g_ACRIMA.JPG: Optic - 92.06%\n"
     ]
    }
   ],
   "source": [
    "classification_task(images_path = cdr_acrima_g, output_path = 'classified_images/acrima/cdr/glaucoma')"
   ]
  },
  {
   "cell_type": "markdown",
   "id": "b6a15f19",
   "metadata": {},
   "source": [
    "### The classification process for the DRISHTI-GS dataset \n",
    "1- for the normal images \n",
    "\n",
    "2- for the glaucoma images"
   ]
  },
  {
   "cell_type": "code",
   "execution_count": 152,
   "id": "a5ae192a",
   "metadata": {
    "collapsed": true
   },
   "outputs": [
    {
     "name": "stdout",
     "output_type": "stream",
     "text": [
      "Found 21 images belonging to 1 classes.\n",
      "1/1 [==============================] - 1s 815ms/step\n",
      "normal\\drishtiGS_009.png: No-Optic - 30.93%\n",
      "normal\\drishtiGS_013.png: No-Optic - 28.84%\n",
      "normal\\drishtiGS_017.png: No-Optic - 39.94%\n",
      "normal\\drishtiGS_018.png: No-Optic - 22.78%\n",
      "normal\\drishtiGS_037.png: No-Optic - 32.84%\n",
      "normal\\drishtiGS_042.png: No-Optic - 40.43%\n",
      "normal\\drishtiGS_046.png: Optic - 54.39%\n",
      "normal\\drishtiGS_047.png: No-Optic - 26.80%\n",
      "normal\\drishtiGS_057.png: No-Optic - 28.10%\n",
      "normal\\drishtiGS_072.png: No-Optic - 36.19%\n",
      "normal\\drishtiGS_089.png: No-Optic - 43.19%\n",
      "normal\\drishtiGS_090.png: No-Optic - 45.42%\n",
      "normal\\drishtiGS_091.png: Optic - 51.73%\n",
      "normal\\drishtiGS_093.png: No-Optic - 41.92%\n",
      "normal\\drishtiGS_094.png: No-Optic - 35.14%\n",
      "normal\\drishtiGS_095.png: Optic - 56.73%\n",
      "normal\\drishtiGS_096.png: No-Optic - 25.22%\n",
      "normal\\drishtiGS_097.png: Optic - 82.47%\n",
      "normal\\drishtiGS_099.png: Optic - 60.14%\n",
      "normal\\drishtiGS_100.png: No-Optic - 25.91%\n",
      "normal\\drishtiGS_101.png: No-Optic - 37.88%\n"
     ]
    }
   ],
   "source": [
    "classification_task(images_path = cdr_drishti_normal, output_path = 'classified_images/drishti/cdr/normal')"
   ]
  },
  {
   "cell_type": "code",
   "execution_count": 153,
   "id": "3a1b761f",
   "metadata": {
    "collapsed": true
   },
   "outputs": [
    {
     "name": "stdout",
     "output_type": "stream",
     "text": [
      "Found 15 images belonging to 1 classes.\n",
      "1/1 [==============================] - 1s 973ms/step\n",
      "glaucoma\\drishtiGS_004.png: Optic - 59.68%\n",
      "glaucoma\\drishtiGS_010.png: Optic - 96.60%\n",
      "glaucoma\\drishtiGS_012.png: Optic - 57.10%\n",
      "glaucoma\\drishtiGS_024.png: Optic - 54.89%\n",
      "glaucoma\\drishtiGS_031.png: No-Optic - 25.50%\n",
      "glaucoma\\drishtiGS_032.png: Optic - 97.24%\n",
      "glaucoma\\drishtiGS_058.png: Optic - 72.27%\n",
      "glaucoma\\drishtiGS_060.png: Optic - 77.53%\n",
      "glaucoma\\drishtiGS_061.png: Optic - 80.69%\n",
      "glaucoma\\drishtiGS_063.png: Optic - 97.86%\n",
      "glaucoma\\drishtiGS_066.png: Optic - 51.03%\n",
      "glaucoma\\drishtiGS_068.png: Optic - 89.46%\n",
      "glaucoma\\drishtiGS_069.png: Optic - 83.16%\n",
      "glaucoma\\drishtiGS_080.png: Optic - 56.02%\n",
      "glaucoma\\drishtiGS_084.png: Optic - 59.10%\n"
     ]
    }
   ],
   "source": [
    "classification_task(images_path = cdr_drishti_g, output_path = 'classified_images/drishti/cdr/glaucoma')"
   ]
  },
  {
   "cell_type": "markdown",
   "id": "570983d9",
   "metadata": {},
   "source": [
    "# segment the images that contain optic-cup (output of the classification)"
   ]
  },
  {
   "cell_type": "markdown",
   "id": "dcb7ba03",
   "metadata": {},
   "source": [
    "## Drishti "
   ]
  },
  {
   "cell_type": "markdown",
   "id": "40cb570b",
   "metadata": {},
   "source": [
    "### Normal"
   ]
  },
  {
   "cell_type": "code",
   "execution_count": 154,
   "id": "13557c9a",
   "metadata": {
    "collapsed": true
   },
   "outputs": [
    {
     "name": "stdout",
     "output_type": "stream",
     "text": [
      "Model loaded successfully\n",
      "Test Images: 5\n"
     ]
    },
    {
     "name": "stderr",
     "output_type": "stream",
     "text": [
      "\r",
      "  0%|                                                                                            | 0/5 [00:00<?, ?it/s]"
     ]
    },
    {
     "name": "stdout",
     "output_type": "stream",
     "text": [
      "1/1 [==============================] - 1s 1s/step\n"
     ]
    },
    {
     "name": "stderr",
     "output_type": "stream",
     "text": [
      "\r",
      " 20%|████████████████▊                                                                   | 1/5 [00:01<00:05,  1.33s/it]"
     ]
    },
    {
     "name": "stdout",
     "output_type": "stream",
     "text": [
      "1/1 [==============================] - 0s 27ms/step\n"
     ]
    },
    {
     "name": "stderr",
     "output_type": "stream",
     "text": [
      "\r",
      " 40%|█████████████████████████████████▌                                                  | 2/5 [00:01<00:01,  1.58it/s]"
     ]
    },
    {
     "name": "stdout",
     "output_type": "stream",
     "text": [
      "1/1 [==============================] - 0s 27ms/step\n"
     ]
    },
    {
     "name": "stderr",
     "output_type": "stream",
     "text": [
      "\r",
      " 60%|██████████████████████████████████████████████████▍                                 | 3/5 [00:01<00:00,  2.46it/s]"
     ]
    },
    {
     "name": "stdout",
     "output_type": "stream",
     "text": [
      "1/1 [==============================] - 0s 26ms/step\n"
     ]
    },
    {
     "name": "stderr",
     "output_type": "stream",
     "text": [
      "\r",
      " 80%|███████████████████████████████████████████████████████████████████▏                | 4/5 [00:01<00:00,  3.45it/s]"
     ]
    },
    {
     "name": "stdout",
     "output_type": "stream",
     "text": [
      "1/1 [==============================] - 0s 26ms/step\n"
     ]
    },
    {
     "name": "stderr",
     "output_type": "stream",
     "text": [
      "100%|████████████████████████████████████████████████████████████████████████████████████| 5/5 [00:01<00:00,  2.74it/s]"
     ]
    },
    {
     "name": "stdout",
     "output_type": "stream",
     "text": [
      "segmented images saved successfully\n"
     ]
    },
    {
     "name": "stderr",
     "output_type": "stream",
     "text": [
      "\n"
     ]
    },
    {
     "name": "stdout",
     "output_type": "stream",
     "text": [
      "Model loaded successfully\n",
      "Test Images: 5\n"
     ]
    },
    {
     "name": "stderr",
     "output_type": "stream",
     "text": [
      "\r",
      "  0%|                                                                                            | 0/5 [00:00<?, ?it/s]"
     ]
    },
    {
     "name": "stdout",
     "output_type": "stream",
     "text": [
      "1/1 [==============================] - 1s 1s/step\n"
     ]
    },
    {
     "name": "stderr",
     "output_type": "stream",
     "text": [
      "\r",
      " 20%|████████████████▊                                                                   | 1/5 [00:01<00:05,  1.25s/it]"
     ]
    },
    {
     "name": "stdout",
     "output_type": "stream",
     "text": [
      "1/1 [==============================] - 0s 29ms/step\n"
     ]
    },
    {
     "name": "stderr",
     "output_type": "stream",
     "text": [
      "\r",
      " 40%|█████████████████████████████████▌                                                  | 2/5 [00:01<00:01,  1.67it/s]"
     ]
    },
    {
     "name": "stdout",
     "output_type": "stream",
     "text": [
      "1/1 [==============================] - 0s 26ms/step\n"
     ]
    },
    {
     "name": "stderr",
     "output_type": "stream",
     "text": [
      "\r",
      " 60%|██████████████████████████████████████████████████▍                                 | 3/5 [00:01<00:00,  2.60it/s]"
     ]
    },
    {
     "name": "stdout",
     "output_type": "stream",
     "text": [
      "1/1 [==============================] - 0s 26ms/step\n",
      "1/1 [==============================] - 0s 30ms/step\n"
     ]
    },
    {
     "name": "stderr",
     "output_type": "stream",
     "text": [
      "100%|████████████████████████████████████████████████████████████████████████████████████| 5/5 [00:01<00:00,  3.01it/s]"
     ]
    },
    {
     "name": "stdout",
     "output_type": "stream",
     "text": [
      "segmented images saved successfully\n"
     ]
    },
    {
     "name": "stderr",
     "output_type": "stream",
     "text": [
      "\n"
     ]
    }
   ],
   "source": [
    "test_dataset = 'classified_images/drishti/cdr/normal/optic-cup'\n",
    "\n",
    "cup_save_path = 'classified_images/drishti/segmentation/normal/cup'\n",
    "disc_save_path = 'classified_images/drishti/segmentation/normal/disc'\n",
    "\n",
    "disc_model_path = 'files/DRISHTI/z-net1-ASPP/acrima-disc.h5'\n",
    "cup_model_path = 'files/DRISHTI/z-net1-ASPP/acrima-cup.h5'\n",
    "\n",
    "\n",
    "# Disc segmentation\n",
    "segmentation_task(model_path = disc_model_path, dataset_path=test_dataset, save_path=disc_save_path)\n",
    "\n",
    "# Cup segmentation \n",
    "segmentation_task(model_path = cup_model_path, dataset_path=test_dataset, save_path=cup_save_path)\n",
    "\n"
   ]
  },
  {
   "cell_type": "markdown",
   "id": "b0ad57e9",
   "metadata": {},
   "source": [
    "### Glaucoma"
   ]
  },
  {
   "cell_type": "code",
   "execution_count": 155,
   "id": "921c9787",
   "metadata": {
    "collapsed": true
   },
   "outputs": [
    {
     "name": "stdout",
     "output_type": "stream",
     "text": [
      "Model loaded successfully\n",
      "Test Images: 14\n"
     ]
    },
    {
     "name": "stderr",
     "output_type": "stream",
     "text": [
      "\r",
      "  0%|                                                                                           | 0/14 [00:00<?, ?it/s]"
     ]
    },
    {
     "name": "stdout",
     "output_type": "stream",
     "text": [
      "1/1 [==============================] - 1s 1s/step\n"
     ]
    },
    {
     "name": "stderr",
     "output_type": "stream",
     "text": [
      "\r",
      "  7%|█████▉                                                                             | 1/14 [00:01<00:16,  1.29s/it]"
     ]
    },
    {
     "name": "stdout",
     "output_type": "stream",
     "text": [
      "1/1 [==============================] - 0s 26ms/step\n"
     ]
    },
    {
     "name": "stderr",
     "output_type": "stream",
     "text": [
      "\r",
      " 14%|███████████▊                                                                       | 2/14 [00:01<00:07,  1.61it/s]"
     ]
    },
    {
     "name": "stdout",
     "output_type": "stream",
     "text": [
      "1/1 [==============================] - 0s 26ms/step\n"
     ]
    },
    {
     "name": "stderr",
     "output_type": "stream",
     "text": [
      "\r",
      " 21%|█████████████████▊                                                                 | 3/14 [00:01<00:04,  2.51it/s]"
     ]
    },
    {
     "name": "stdout",
     "output_type": "stream",
     "text": [
      "1/1 [==============================] - 0s 27ms/step\n"
     ]
    },
    {
     "name": "stderr",
     "output_type": "stream",
     "text": [
      "\r",
      " 29%|███████████████████████▋                                                           | 4/14 [00:01<00:02,  3.48it/s]"
     ]
    },
    {
     "name": "stdout",
     "output_type": "stream",
     "text": [
      "1/1 [==============================] - 0s 27ms/step\n"
     ]
    },
    {
     "name": "stderr",
     "output_type": "stream",
     "text": [
      "\r",
      " 36%|█████████████████████████████▋                                                     | 5/14 [00:01<00:01,  4.54it/s]"
     ]
    },
    {
     "name": "stdout",
     "output_type": "stream",
     "text": [
      "1/1 [==============================] - 0s 27ms/step\n",
      "1/1 [==============================] - 0s 30ms/step\n"
     ]
    },
    {
     "name": "stderr",
     "output_type": "stream",
     "text": [
      "\r",
      " 50%|█████████████████████████████████████████▌                                         | 7/14 [00:01<00:01,  6.33it/s]"
     ]
    },
    {
     "name": "stdout",
     "output_type": "stream",
     "text": [
      "1/1 [==============================] - 0s 28ms/step\n"
     ]
    },
    {
     "name": "stderr",
     "output_type": "stream",
     "text": [
      "\r",
      " 57%|███████████████████████████████████████████████▍                                   | 8/14 [00:02<00:00,  6.91it/s]"
     ]
    },
    {
     "name": "stdout",
     "output_type": "stream",
     "text": [
      "1/1 [==============================] - 0s 29ms/step\n"
     ]
    },
    {
     "name": "stderr",
     "output_type": "stream",
     "text": [
      "\r",
      " 64%|█████████████████████████████████████████████████████▎                             | 9/14 [00:02<00:00,  7.45it/s]"
     ]
    },
    {
     "name": "stdout",
     "output_type": "stream",
     "text": [
      "1/1 [==============================] - 0s 28ms/step\n"
     ]
    },
    {
     "name": "stderr",
     "output_type": "stream",
     "text": [
      "\r",
      " 71%|██████████████████████████████████████████████████████████▌                       | 10/14 [00:02<00:00,  7.97it/s]"
     ]
    },
    {
     "name": "stdout",
     "output_type": "stream",
     "text": [
      "1/1 [==============================] - 0s 27ms/step\n",
      "1/1 [==============================] - 0s 33ms/step\n"
     ]
    },
    {
     "name": "stderr",
     "output_type": "stream",
     "text": [
      "\r",
      " 86%|██████████████████████████████████████████████████████████████████████▎           | 12/14 [00:02<00:00,  8.72it/s]"
     ]
    },
    {
     "name": "stdout",
     "output_type": "stream",
     "text": [
      "1/1 [==============================] - 0s 31ms/step\n"
     ]
    },
    {
     "name": "stderr",
     "output_type": "stream",
     "text": [
      "\r",
      " 93%|████████████████████████████████████████████████████████████████████████████▏     | 13/14 [00:02<00:00,  8.86it/s]"
     ]
    },
    {
     "name": "stdout",
     "output_type": "stream",
     "text": [
      "1/1 [==============================] - 0s 26ms/step\n"
     ]
    },
    {
     "name": "stderr",
     "output_type": "stream",
     "text": [
      "\r",
      "100%|██████████████████████████████████████████████████████████████████████████████████| 14/14 [00:02<00:00,  5.15it/s]"
     ]
    },
    {
     "name": "stdout",
     "output_type": "stream",
     "text": [
      "segmented images saved successfully\n"
     ]
    },
    {
     "name": "stderr",
     "output_type": "stream",
     "text": [
      "\n"
     ]
    },
    {
     "name": "stdout",
     "output_type": "stream",
     "text": [
      "Model loaded successfully\n",
      "Test Images: 14\n"
     ]
    },
    {
     "name": "stderr",
     "output_type": "stream",
     "text": [
      "\r",
      "  0%|                                                                                           | 0/14 [00:00<?, ?it/s]"
     ]
    },
    {
     "name": "stdout",
     "output_type": "stream",
     "text": [
      "1/1 [==============================] - 1s 1s/step\n"
     ]
    },
    {
     "name": "stderr",
     "output_type": "stream",
     "text": [
      "\r",
      "  7%|█████▉                                                                             | 1/14 [00:01<00:17,  1.38s/it]"
     ]
    },
    {
     "name": "stdout",
     "output_type": "stream",
     "text": [
      "1/1 [==============================] - 0s 26ms/step\n"
     ]
    },
    {
     "name": "stderr",
     "output_type": "stream",
     "text": [
      "\r",
      " 14%|███████████▊                                                                       | 2/14 [00:01<00:07,  1.54it/s]"
     ]
    },
    {
     "name": "stdout",
     "output_type": "stream",
     "text": [
      "1/1 [==============================] - 0s 27ms/step\n"
     ]
    },
    {
     "name": "stderr",
     "output_type": "stream",
     "text": [
      "\r",
      " 21%|█████████████████▊                                                                 | 3/14 [00:01<00:04,  2.41it/s]"
     ]
    },
    {
     "name": "stdout",
     "output_type": "stream",
     "text": [
      "1/1 [==============================] - 0s 31ms/step\n",
      "1/1 [==============================] - 0s 28ms/step\n"
     ]
    },
    {
     "name": "stderr",
     "output_type": "stream",
     "text": [
      "\r",
      " 36%|█████████████████████████████▋                                                     | 5/14 [00:01<00:02,  4.26it/s]"
     ]
    },
    {
     "name": "stdout",
     "output_type": "stream",
     "text": [
      "1/1 [==============================] - 0s 26ms/step\n",
      "1/1 [==============================] - 0s 26ms/step\n"
     ]
    },
    {
     "name": "stderr",
     "output_type": "stream",
     "text": [
      "\r",
      " 50%|█████████████████████████████████████████▌                                         | 7/14 [00:02<00:01,  5.87it/s]"
     ]
    },
    {
     "name": "stdout",
     "output_type": "stream",
     "text": [
      "1/1 [==============================] - 0s 27ms/step\n",
      "1/1 [==============================] - 0s 26ms/step\n"
     ]
    },
    {
     "name": "stderr",
     "output_type": "stream",
     "text": [
      "\r",
      " 64%|█████████████████████████████████████████████████████▎                             | 9/14 [00:02<00:00,  7.15it/s]"
     ]
    },
    {
     "name": "stdout",
     "output_type": "stream",
     "text": [
      "1/1 [==============================] - 0s 28ms/step\n",
      "1/1 [==============================] - 0s 27ms/step\n"
     ]
    },
    {
     "name": "stderr",
     "output_type": "stream",
     "text": [
      "\r",
      " 79%|████████████████████████████████████████████████████████████████▍                 | 11/14 [00:02<00:00,  8.13it/s]"
     ]
    },
    {
     "name": "stdout",
     "output_type": "stream",
     "text": [
      "1/1 [==============================] - 0s 27ms/step\n",
      "1/1 [==============================] - 0s 28ms/step\n"
     ]
    },
    {
     "name": "stderr",
     "output_type": "stream",
     "text": [
      "\r",
      " 93%|████████████████████████████████████████████████████████████████████████████▏     | 13/14 [00:02<00:00,  9.01it/s]"
     ]
    },
    {
     "name": "stdout",
     "output_type": "stream",
     "text": [
      "1/1 [==============================] - 0s 26ms/step\n"
     ]
    },
    {
     "name": "stderr",
     "output_type": "stream",
     "text": [
      "\r",
      "100%|██████████████████████████████████████████████████████████████████████████████████| 14/14 [00:02<00:00,  5.26it/s]"
     ]
    },
    {
     "name": "stdout",
     "output_type": "stream",
     "text": [
      "segmented images saved successfully\n"
     ]
    },
    {
     "name": "stderr",
     "output_type": "stream",
     "text": [
      "\n"
     ]
    }
   ],
   "source": [
    "test_dataset = 'classified_images/drishti/cdr/glaucoma/optic-cup'\n",
    "\n",
    "cup_save_path = 'classified_images/drishti/segmentation/glaucoma/cup'\n",
    "disc_save_path = 'classified_images/drishti/segmentation/glaucoma/disc'\n",
    "\n",
    "\n",
    "# Disc segmentation\n",
    "segmentation_task(model_path = disc_model_path, dataset_path=test_dataset, save_path=disc_save_path)\n",
    "\n",
    "# Cup segmentation \n",
    "segmentation_task(model_path = cup_model_path, dataset_path=test_dataset, save_path=cup_save_path)\n",
    "\n"
   ]
  },
  {
   "cell_type": "markdown",
   "id": "c9f3f230",
   "metadata": {},
   "source": [
    "# CDR Code  "
   ]
  },
  {
   "cell_type": "code",
   "execution_count": 144,
   "id": "f552ee34",
   "metadata": {},
   "outputs": [],
   "source": [
    "def CDR(optic_cup_dir, optic_disc_dir):\n",
    "    def count_white_pixels(image_path):\n",
    "        # Load the image in grayscale mode\n",
    "        image = cv2.imread(image_path, cv2.IMREAD_GRAYSCALE)\n",
    "        # Check if the image was loaded correctly\n",
    "        if image is not None:\n",
    "            # Count the white pixels\n",
    "            return np.sum(image == 255)\n",
    "        else:\n",
    "            print(f\"Error loading the image {os.path.basename(image_path)}\")\n",
    "            return None\n",
    "\n",
    "    # List all the optic cup and optic disc image files (ensure they are in the same order)\n",
    "    optic_cup_files = sorted(glob(os.path.join(optic_cup_directory, '*')))\n",
    "    optic_disc_files = sorted(glob(os.path.join(optic_disc_directory, '*')))\n",
    "\n",
    "    # Ensure that every optic cup has a corresponding optic disc\n",
    "    assert len(optic_cup_files) == len(optic_disc_files), \"The number of optic cup and disc images must match\"\n",
    "\n",
    "    cdr_values = {}\n",
    "    results = {}\n",
    "\n",
    "    # Calculate CDR and classify as glaucoma or normal\n",
    "    for cup_path, disc_path in zip(optic_cup_files, optic_disc_files):\n",
    "        cup_pixels = count_white_pixels(cup_path)\n",
    "        disc_pixels = count_white_pixels(disc_path)\n",
    "        if cup_pixels is not None and disc_pixels is not None:\n",
    "            cdr = cup_pixels / disc_pixels if disc_pixels > 0 else 0\n",
    "            image_name = os.path.basename(cup_path)\n",
    "            cdr_values[image_name] = cdr\n",
    "            results[image_name] = \"Glaucoma\" if cdr >= 0.4 else \"Normal\"\n",
    "            print(f\"{image_name} - CDR: {cdr:.2f} - Result: {results[image_name]}\")"
   ]
  },
  {
   "cell_type": "markdown",
   "id": "a24e35fe",
   "metadata": {},
   "source": [
    "# CDR Accuracy matric"
   ]
  },
  {
   "cell_type": "code",
   "execution_count": 162,
   "id": "7badf352",
   "metadata": {},
   "outputs": [],
   "source": [
    "def cdr_accuracy(total_images, correct_predictions, dataset_name):\n",
    "    accuracy = (correct_predictions/total_images) * 100\n",
    "    print(f'The CDR Accuracy for {dataset_name} dataset is {accuracy:0.4f}')"
   ]
  },
  {
   "cell_type": "markdown",
   "id": "817ff325",
   "metadata": {},
   "source": [
    "### CDR for Normal (drishti)"
   ]
  },
  {
   "cell_type": "code",
   "execution_count": 156,
   "id": "dd6eb8af",
   "metadata": {},
   "outputs": [],
   "source": [
    "optic_cup_directory = 'classified_images/drishti/segmentation/normal/cup'\n",
    "optic_disc_directory  = 'classified_images/drishti/segmentation/normal/disc'"
   ]
  },
  {
   "cell_type": "code",
   "execution_count": 157,
   "id": "d0482599",
   "metadata": {
    "collapsed": true
   },
   "outputs": [
    {
     "name": "stdout",
     "output_type": "stream",
     "text": [
      "drishtiGS_046.png - CDR: 0.34 - Result: Normal\n",
      "drishtiGS_091.png - CDR: 0.31 - Result: Normal\n",
      "drishtiGS_095.png - CDR: 0.37 - Result: Normal\n",
      "drishtiGS_097.png - CDR: 0.33 - Result: Normal\n",
      "drishtiGS_099.png - CDR: 0.42 - Result: Glaucoma\n"
     ]
    }
   ],
   "source": [
    "CDR(optic_cup_directory, optic_disc_directory)"
   ]
  },
  {
   "cell_type": "markdown",
   "id": "3c89999d",
   "metadata": {},
   "source": [
    "### CDR for Glaucoma (drishti)"
   ]
  },
  {
   "cell_type": "code",
   "execution_count": 158,
   "id": "4e0d5fc4",
   "metadata": {},
   "outputs": [],
   "source": [
    "optic_cup_directory = 'classified_images/drishti/segmentation/glaucoma/cup'\n",
    "optic_disc_directory  = 'classified_images/drishti/segmentation/glaucoma/disc'"
   ]
  },
  {
   "cell_type": "code",
   "execution_count": 159,
   "id": "f36ab226",
   "metadata": {
    "collapsed": true
   },
   "outputs": [
    {
     "name": "stdout",
     "output_type": "stream",
     "text": [
      "drishtiGS_004.png - CDR: 0.49 - Result: Glaucoma\n",
      "drishtiGS_010.png - CDR: 0.80 - Result: Glaucoma\n",
      "drishtiGS_012.png - CDR: 0.69 - Result: Glaucoma\n",
      "drishtiGS_024.png - CDR: 0.51 - Result: Glaucoma\n",
      "drishtiGS_032.png - CDR: 0.58 - Result: Glaucoma\n",
      "drishtiGS_058.png - CDR: 0.61 - Result: Glaucoma\n",
      "drishtiGS_060.png - CDR: 0.53 - Result: Glaucoma\n",
      "drishtiGS_061.png - CDR: 0.65 - Result: Glaucoma\n",
      "drishtiGS_063.png - CDR: 0.65 - Result: Glaucoma\n",
      "drishtiGS_066.png - CDR: 0.49 - Result: Glaucoma\n",
      "drishtiGS_068.png - CDR: 0.62 - Result: Glaucoma\n",
      "drishtiGS_069.png - CDR: 0.66 - Result: Glaucoma\n",
      "drishtiGS_080.png - CDR: 0.54 - Result: Glaucoma\n",
      "drishtiGS_084.png - CDR: 0.51 - Result: Glaucoma\n"
     ]
    }
   ],
   "source": [
    "CDR(optic_cup_directory, optic_disc_directory)"
   ]
  },
  {
   "cell_type": "code",
   "execution_count": 230,
   "id": "0a723618",
   "metadata": {},
   "outputs": [
    {
     "name": "stdout",
     "output_type": "stream",
     "text": [
      "The CDR Accuracy for drishti dataset is 94.4444\n"
     ]
    }
   ],
   "source": [
    "cdr_accuracy(total_images = 36, correct_predictions=34, dataset_name='drishti')"
   ]
  },
  {
   "cell_type": "markdown",
   "id": "b5f57681",
   "metadata": {},
   "source": [
    "## Acrima"
   ]
  },
  {
   "cell_type": "markdown",
   "id": "1082da89",
   "metadata": {},
   "source": [
    "### Normal"
   ]
  },
  {
   "cell_type": "code",
   "execution_count": 190,
   "id": "5aded8b3",
   "metadata": {
    "collapsed": true
   },
   "outputs": [
    {
     "name": "stdout",
     "output_type": "stream",
     "text": [
      "Model loaded successfully\n",
      "Test Images: 26\n"
     ]
    },
    {
     "name": "stderr",
     "output_type": "stream",
     "text": [
      "\r",
      "  0%|                                                                                           | 0/26 [00:00<?, ?it/s]"
     ]
    },
    {
     "name": "stdout",
     "output_type": "stream",
     "text": [
      "1/1 [==============================] - 1s 1s/step\n"
     ]
    },
    {
     "name": "stderr",
     "output_type": "stream",
     "text": [
      "\r",
      "  4%|███▏                                                                               | 1/26 [00:01<00:31,  1.28s/it]"
     ]
    },
    {
     "name": "stdout",
     "output_type": "stream",
     "text": [
      "1/1 [==============================] - 0s 27ms/step\n"
     ]
    },
    {
     "name": "stderr",
     "output_type": "stream",
     "text": [
      "\r",
      "  8%|██████▍                                                                            | 2/26 [00:01<00:14,  1.65it/s]"
     ]
    },
    {
     "name": "stdout",
     "output_type": "stream",
     "text": [
      "1/1 [==============================] - 0s 26ms/step\n"
     ]
    },
    {
     "name": "stderr",
     "output_type": "stream",
     "text": [
      "\r",
      " 12%|█████████▌                                                                         | 3/26 [00:01<00:09,  2.56it/s]"
     ]
    },
    {
     "name": "stdout",
     "output_type": "stream",
     "text": [
      "1/1 [==============================] - 0s 26ms/step\n",
      "1/1 [==============================] - 0s 26ms/step\n"
     ]
    },
    {
     "name": "stderr",
     "output_type": "stream",
     "text": [
      "\r",
      " 19%|███████████████▉                                                                   | 5/26 [00:01<00:04,  4.51it/s]"
     ]
    },
    {
     "name": "stdout",
     "output_type": "stream",
     "text": [
      "1/1 [==============================] - 0s 27ms/step\n",
      "1/1 [==============================] - 0s 27ms/step\n"
     ]
    },
    {
     "name": "stderr",
     "output_type": "stream",
     "text": [
      "\r",
      " 27%|██████████████████████▎                                                            | 7/26 [00:01<00:03,  6.09it/s]"
     ]
    },
    {
     "name": "stdout",
     "output_type": "stream",
     "text": [
      "1/1 [==============================] - 0s 29ms/step\n"
     ]
    },
    {
     "name": "stderr",
     "output_type": "stream",
     "text": [
      "\r",
      " 31%|█████████████████████████▌                                                         | 8/26 [00:02<00:02,  6.67it/s]"
     ]
    },
    {
     "name": "stdout",
     "output_type": "stream",
     "text": [
      "1/1 [==============================] - 0s 28ms/step\n",
      "1/1 [==============================] - 0s 26ms/step\n"
     ]
    },
    {
     "name": "stderr",
     "output_type": "stream",
     "text": [
      "\r",
      " 38%|███████████████████████████████▌                                                  | 10/26 [00:02<00:02,  7.83it/s]"
     ]
    },
    {
     "name": "stdout",
     "output_type": "stream",
     "text": [
      "1/1 [==============================] - 0s 27ms/step\n",
      "1/1 [==============================] - 0s 26ms/step\n"
     ]
    },
    {
     "name": "stderr",
     "output_type": "stream",
     "text": [
      "\r",
      " 46%|█████████████████████████████████████▊                                            | 12/26 [00:02<00:01,  8.72it/s]"
     ]
    },
    {
     "name": "stdout",
     "output_type": "stream",
     "text": [
      "1/1 [==============================] - 0s 30ms/step\n",
      "1/1 [==============================] - 0s 30ms/step\n"
     ]
    },
    {
     "name": "stderr",
     "output_type": "stream",
     "text": [
      "\r",
      " 54%|████████████████████████████████████████████▏                                     | 14/26 [00:02<00:01,  9.37it/s]"
     ]
    },
    {
     "name": "stdout",
     "output_type": "stream",
     "text": [
      "1/1 [==============================] - 0s 27ms/step\n",
      "1/1 [==============================] - 0s 27ms/step\n"
     ]
    },
    {
     "name": "stderr",
     "output_type": "stream",
     "text": [
      "\r",
      " 62%|██████████████████████████████████████████████████▍                               | 16/26 [00:02<00:01,  9.87it/s]"
     ]
    },
    {
     "name": "stdout",
     "output_type": "stream",
     "text": [
      "1/1 [==============================] - 0s 27ms/step\n",
      "1/1 [==============================] - 0s 36ms/step\n"
     ]
    },
    {
     "name": "stderr",
     "output_type": "stream",
     "text": [
      "\r",
      " 69%|████████████████████████████████████████████████████████▊                         | 18/26 [00:02<00:00, 10.07it/s]"
     ]
    },
    {
     "name": "stdout",
     "output_type": "stream",
     "text": [
      "1/1 [==============================] - 0s 27ms/step\n",
      "1/1 [==============================] - 0s 28ms/step\n"
     ]
    },
    {
     "name": "stderr",
     "output_type": "stream",
     "text": [
      "\r",
      " 77%|███████████████████████████████████████████████████████████████                   | 20/26 [00:03<00:00, 10.29it/s]"
     ]
    },
    {
     "name": "stdout",
     "output_type": "stream",
     "text": [
      "1/1 [==============================] - 0s 26ms/step\n",
      "1/1 [==============================] - 0s 25ms/step\n"
     ]
    },
    {
     "name": "stderr",
     "output_type": "stream",
     "text": [
      "\r",
      " 85%|█████████████████████████████████████████████████████████████████████▍            | 22/26 [00:03<00:00, 10.64it/s]"
     ]
    },
    {
     "name": "stdout",
     "output_type": "stream",
     "text": [
      "1/1 [==============================] - 0s 26ms/step\n",
      "1/1 [==============================] - 0s 27ms/step\n"
     ]
    },
    {
     "name": "stderr",
     "output_type": "stream",
     "text": [
      "\r",
      " 92%|███████████████████████████████████████████████████████████████████████████▋      | 24/26 [00:03<00:00, 10.81it/s]"
     ]
    },
    {
     "name": "stdout",
     "output_type": "stream",
     "text": [
      "1/1 [==============================] - 0s 29ms/step\n",
      "1/1 [==============================] - 0s 27ms/step\n"
     ]
    },
    {
     "name": "stderr",
     "output_type": "stream",
     "text": [
      "100%|██████████████████████████████████████████████████████████████████████████████████| 26/26 [00:03<00:00,  7.13it/s]\n"
     ]
    },
    {
     "name": "stdout",
     "output_type": "stream",
     "text": [
      "segmented images saved successfully\n",
      "Model loaded successfully\n",
      "Test Images: 26\n"
     ]
    },
    {
     "name": "stderr",
     "output_type": "stream",
     "text": [
      "\r",
      "  0%|                                                                                           | 0/26 [00:00<?, ?it/s]"
     ]
    },
    {
     "name": "stdout",
     "output_type": "stream",
     "text": [
      "1/1 [==============================] - 1s 1s/step\n"
     ]
    },
    {
     "name": "stderr",
     "output_type": "stream",
     "text": [
      "\r",
      "  4%|███▏                                                                               | 1/26 [00:01<00:33,  1.34s/it]"
     ]
    },
    {
     "name": "stdout",
     "output_type": "stream",
     "text": [
      "1/1 [==============================] - 0s 26ms/step\n"
     ]
    },
    {
     "name": "stderr",
     "output_type": "stream",
     "text": [
      "\r",
      "  8%|██████▍                                                                            | 2/26 [00:01<00:15,  1.58it/s]"
     ]
    },
    {
     "name": "stdout",
     "output_type": "stream",
     "text": [
      "1/1 [==============================] - 0s 27ms/step\n"
     ]
    },
    {
     "name": "stderr",
     "output_type": "stream",
     "text": [
      "\r",
      " 12%|█████████▌                                                                         | 3/26 [00:01<00:09,  2.49it/s]"
     ]
    },
    {
     "name": "stdout",
     "output_type": "stream",
     "text": [
      "1/1 [==============================] - 0s 26ms/step\n"
     ]
    },
    {
     "name": "stderr",
     "output_type": "stream",
     "text": [
      "\r",
      " 15%|████████████▊                                                                      | 4/26 [00:01<00:06,  3.41it/s]"
     ]
    },
    {
     "name": "stdout",
     "output_type": "stream",
     "text": [
      "1/1 [==============================] - 0s 28ms/step\n",
      "1/1 [==============================] - 0s 26ms/step\n"
     ]
    },
    {
     "name": "stderr",
     "output_type": "stream",
     "text": [
      "\r",
      " 23%|███████████████████▏                                                               | 6/26 [00:01<00:03,  5.40it/s]"
     ]
    },
    {
     "name": "stdout",
     "output_type": "stream",
     "text": [
      "1/1 [==============================] - 0s 25ms/step\n",
      "1/1 [==============================] - 0s 30ms/step\n"
     ]
    },
    {
     "name": "stderr",
     "output_type": "stream",
     "text": [
      "\r",
      " 31%|█████████████████████████▌                                                         | 8/26 [00:02<00:02,  6.98it/s]"
     ]
    },
    {
     "name": "stdout",
     "output_type": "stream",
     "text": [
      "1/1 [==============================] - 0s 31ms/step\n",
      "1/1 [==============================] - 0s 33ms/step\n"
     ]
    },
    {
     "name": "stderr",
     "output_type": "stream",
     "text": [
      "\r",
      " 38%|███████████████████████████████▌                                                  | 10/26 [00:02<00:02,  7.91it/s]"
     ]
    },
    {
     "name": "stdout",
     "output_type": "stream",
     "text": [
      "1/1 [==============================] - 0s 27ms/step\n",
      "1/1 [==============================] - 0s 27ms/step\n"
     ]
    },
    {
     "name": "stderr",
     "output_type": "stream",
     "text": [
      "\r",
      " 46%|█████████████████████████████████████▊                                            | 12/26 [00:02<00:01,  8.90it/s]"
     ]
    },
    {
     "name": "stdout",
     "output_type": "stream",
     "text": [
      "1/1 [==============================] - 0s 35ms/step\n",
      "1/1 [==============================] - 0s 28ms/step\n"
     ]
    },
    {
     "name": "stderr",
     "output_type": "stream",
     "text": [
      "\r",
      " 54%|████████████████████████████████████████████▏                                     | 14/26 [00:02<00:01,  9.84it/s]"
     ]
    },
    {
     "name": "stdout",
     "output_type": "stream",
     "text": [
      "1/1 [==============================] - 0s 28ms/step\n",
      "1/1 [==============================] - 0s 28ms/step\n"
     ]
    },
    {
     "name": "stderr",
     "output_type": "stream",
     "text": [
      "\r",
      " 62%|██████████████████████████████████████████████████▍                               | 16/26 [00:02<00:00, 10.67it/s]"
     ]
    },
    {
     "name": "stdout",
     "output_type": "stream",
     "text": [
      "1/1 [==============================] - 0s 30ms/step\n",
      "1/1 [==============================] - 0s 30ms/step\n"
     ]
    },
    {
     "name": "stderr",
     "output_type": "stream",
     "text": [
      "\r",
      " 69%|████████████████████████████████████████████████████████▊                         | 18/26 [00:02<00:00, 11.56it/s]"
     ]
    },
    {
     "name": "stdout",
     "output_type": "stream",
     "text": [
      "1/1 [==============================] - 0s 32ms/step\n",
      "1/1 [==============================] - 0s 32ms/step\n"
     ]
    },
    {
     "name": "stderr",
     "output_type": "stream",
     "text": [
      "\r",
      " 77%|███████████████████████████████████████████████████████████████                   | 20/26 [00:03<00:00, 11.90it/s]"
     ]
    },
    {
     "name": "stdout",
     "output_type": "stream",
     "text": [
      "1/1 [==============================] - 0s 36ms/step\n",
      "1/1 [==============================] - 0s 27ms/step\n"
     ]
    },
    {
     "name": "stderr",
     "output_type": "stream",
     "text": [
      "\r",
      " 85%|█████████████████████████████████████████████████████████████████████▍            | 22/26 [00:03<00:00, 12.07it/s]"
     ]
    },
    {
     "name": "stdout",
     "output_type": "stream",
     "text": [
      "1/1 [==============================] - 0s 34ms/step\n",
      "1/1 [==============================] - 0s 30ms/step\n"
     ]
    },
    {
     "name": "stderr",
     "output_type": "stream",
     "text": [
      "\r",
      " 92%|███████████████████████████████████████████████████████████████████████████▋      | 24/26 [00:03<00:00, 12.30it/s]"
     ]
    },
    {
     "name": "stdout",
     "output_type": "stream",
     "text": [
      "1/1 [==============================] - 0s 26ms/step\n",
      "1/1 [==============================] - 0s 27ms/step\n"
     ]
    },
    {
     "name": "stderr",
     "output_type": "stream",
     "text": [
      "100%|██████████████████████████████████████████████████████████████████████████████████| 26/26 [00:03<00:00,  7.37it/s]"
     ]
    },
    {
     "name": "stdout",
     "output_type": "stream",
     "text": [
      "segmented images saved successfully\n"
     ]
    },
    {
     "name": "stderr",
     "output_type": "stream",
     "text": [
      "\n"
     ]
    }
   ],
   "source": [
    "test_dataset = 'classified_images/acrima/cdr/normal/optic-cup'\n",
    "\n",
    "cup_save_path = 'classified_images/acrima/segmentation/normal/cup'\n",
    "disc_save_path = 'classified_images/acrima/segmentation/normal/disc'\n",
    "\n",
    "disc_model_path = 'files/acrima/z-net1-ASPP/acrima-disc.h5'\n",
    "cup_model_path = 'files/acrima/z-net1-ASPP/acrima-cup.h5'\n",
    "\n",
    "\n",
    "# Disc segmentation\n",
    "segmentation_task(model_path = disc_model_path, dataset_path=test_dataset, save_path=disc_save_path)\n",
    "\n",
    "# Cup segmentation \n",
    "segmentation_task(model_path = cup_model_path, dataset_path=test_dataset, save_path=cup_save_path)\n",
    "\n"
   ]
  },
  {
   "cell_type": "markdown",
   "id": "1432e733",
   "metadata": {},
   "source": [
    "### Glaucoma"
   ]
  },
  {
   "cell_type": "code",
   "execution_count": 191,
   "id": "88205189",
   "metadata": {
    "collapsed": true
   },
   "outputs": [
    {
     "name": "stdout",
     "output_type": "stream",
     "text": [
      "Model loaded successfully\n",
      "Test Images: 25\n"
     ]
    },
    {
     "name": "stderr",
     "output_type": "stream",
     "text": [
      "\r",
      "  0%|                                                                                           | 0/25 [00:00<?, ?it/s]"
     ]
    },
    {
     "name": "stdout",
     "output_type": "stream",
     "text": [
      "1/1 [==============================] - 1s 1s/step\n"
     ]
    },
    {
     "name": "stderr",
     "output_type": "stream",
     "text": [
      "\r",
      "  4%|███▎                                                                               | 1/25 [00:01<00:30,  1.28s/it]"
     ]
    },
    {
     "name": "stdout",
     "output_type": "stream",
     "text": [
      "1/1 [==============================] - 0s 26ms/step\n"
     ]
    },
    {
     "name": "stderr",
     "output_type": "stream",
     "text": [
      "\r",
      "  8%|██████▋                                                                            | 2/25 [00:01<00:14,  1.63it/s]"
     ]
    },
    {
     "name": "stdout",
     "output_type": "stream",
     "text": [
      "1/1 [==============================] - 0s 26ms/step\n"
     ]
    },
    {
     "name": "stderr",
     "output_type": "stream",
     "text": [
      "\r",
      " 12%|█████████▉                                                                         | 3/25 [00:01<00:08,  2.53it/s]"
     ]
    },
    {
     "name": "stdout",
     "output_type": "stream",
     "text": [
      "1/1 [==============================] - 0s 26ms/step\n"
     ]
    },
    {
     "name": "stderr",
     "output_type": "stream",
     "text": [
      "\r",
      " 16%|█████████████▎                                                                     | 4/25 [00:01<00:05,  3.58it/s]"
     ]
    },
    {
     "name": "stdout",
     "output_type": "stream",
     "text": [
      "1/1 [==============================] - 0s 29ms/step\n"
     ]
    },
    {
     "name": "stderr",
     "output_type": "stream",
     "text": [
      "\r",
      " 20%|████████████████▌                                                                  | 5/25 [00:01<00:04,  4.62it/s]"
     ]
    },
    {
     "name": "stdout",
     "output_type": "stream",
     "text": [
      "1/1 [==============================] - 0s 33ms/step\n"
     ]
    },
    {
     "name": "stderr",
     "output_type": "stream",
     "text": [
      "\r",
      " 24%|███████████████████▉                                                               | 6/25 [00:01<00:03,  5.59it/s]"
     ]
    },
    {
     "name": "stdout",
     "output_type": "stream",
     "text": [
      "1/1 [==============================] - 0s 28ms/step\n"
     ]
    },
    {
     "name": "stderr",
     "output_type": "stream",
     "text": [
      "\r",
      " 28%|███████████████████████▏                                                           | 7/25 [00:01<00:02,  6.44it/s]"
     ]
    },
    {
     "name": "stdout",
     "output_type": "stream",
     "text": [
      "1/1 [==============================] - 0s 27ms/step\n"
     ]
    },
    {
     "name": "stderr",
     "output_type": "stream",
     "text": [
      "\r",
      " 32%|██████████████████████████▌                                                        | 8/25 [00:02<00:02,  7.27it/s]"
     ]
    },
    {
     "name": "stdout",
     "output_type": "stream",
     "text": [
      "1/1 [==============================] - 0s 27ms/step\n"
     ]
    },
    {
     "name": "stderr",
     "output_type": "stream",
     "text": [
      "\r",
      " 36%|█████████████████████████████▉                                                     | 9/25 [00:02<00:02,  7.89it/s]"
     ]
    },
    {
     "name": "stdout",
     "output_type": "stream",
     "text": [
      "1/1 [==============================] - 0s 27ms/step\n",
      "1/1 [==============================] - 0s 28ms/step\n"
     ]
    },
    {
     "name": "stderr",
     "output_type": "stream",
     "text": [
      "\r",
      " 44%|████████████████████████████████████                                              | 11/25 [00:02<00:01,  8.73it/s]"
     ]
    },
    {
     "name": "stdout",
     "output_type": "stream",
     "text": [
      "1/1 [==============================] - 0s 31ms/step\n"
     ]
    },
    {
     "name": "stderr",
     "output_type": "stream",
     "text": [
      "\r",
      " 48%|███████████████████████████████████████▎                                          | 12/25 [00:02<00:01,  8.98it/s]"
     ]
    },
    {
     "name": "stdout",
     "output_type": "stream",
     "text": [
      "1/1 [==============================] - 0s 26ms/step\n",
      "1/1 [==============================] - 0s 28ms/step\n"
     ]
    },
    {
     "name": "stderr",
     "output_type": "stream",
     "text": [
      "\r",
      " 56%|█████████████████████████████████████████████▉                                    | 14/25 [00:02<00:01,  9.37it/s]"
     ]
    },
    {
     "name": "stdout",
     "output_type": "stream",
     "text": [
      "1/1 [==============================] - 0s 27ms/step\n"
     ]
    },
    {
     "name": "stderr",
     "output_type": "stream",
     "text": [
      "\r",
      " 60%|█████████████████████████████████████████████████▏                                | 15/25 [00:02<00:01,  9.34it/s]"
     ]
    },
    {
     "name": "stdout",
     "output_type": "stream",
     "text": [
      "1/1 [==============================] - 0s 27ms/step\n",
      "1/1 [==============================] - 0s 30ms/step\n"
     ]
    },
    {
     "name": "stderr",
     "output_type": "stream",
     "text": [
      "\r",
      " 68%|███████████████████████████████████████████████████████▊                          | 17/25 [00:02<00:00,  9.62it/s]"
     ]
    },
    {
     "name": "stdout",
     "output_type": "stream",
     "text": [
      "1/1 [==============================] - 0s 26ms/step\n"
     ]
    },
    {
     "name": "stderr",
     "output_type": "stream",
     "text": [
      "\r",
      " 72%|███████████████████████████████████████████████████████████                       | 18/25 [00:03<00:00,  9.70it/s]"
     ]
    },
    {
     "name": "stdout",
     "output_type": "stream",
     "text": [
      "1/1 [==============================] - 0s 28ms/step\n"
     ]
    },
    {
     "name": "stderr",
     "output_type": "stream",
     "text": [
      "\r",
      " 76%|██████████████████████████████████████████████████████████████▎                   | 19/25 [00:03<00:00,  9.65it/s]"
     ]
    },
    {
     "name": "stdout",
     "output_type": "stream",
     "text": [
      "1/1 [==============================] - 0s 28ms/step\n"
     ]
    },
    {
     "name": "stderr",
     "output_type": "stream",
     "text": [
      "\r",
      " 80%|█████████████████████████████████████████████████████████████████▌                | 20/25 [00:03<00:00,  9.68it/s]"
     ]
    },
    {
     "name": "stdout",
     "output_type": "stream",
     "text": [
      "1/1 [==============================] - 0s 26ms/step\n",
      "1/1 [==============================] - 0s 29ms/step\n"
     ]
    },
    {
     "name": "stderr",
     "output_type": "stream",
     "text": [
      "\r",
      " 88%|████████████████████████████████████████████████████████████████████████▏         | 22/25 [00:03<00:00,  9.79it/s]"
     ]
    },
    {
     "name": "stdout",
     "output_type": "stream",
     "text": [
      "1/1 [==============================] - 0s 32ms/step\n",
      "1/1 [==============================] - 0s 27ms/step\n"
     ]
    },
    {
     "name": "stderr",
     "output_type": "stream",
     "text": [
      "\r",
      " 96%|██████████████████████████████████████████████████████████████████████████████▋   | 24/25 [00:03<00:00,  9.94it/s]"
     ]
    },
    {
     "name": "stdout",
     "output_type": "stream",
     "text": [
      "1/1 [==============================] - 0s 27ms/step\n"
     ]
    },
    {
     "name": "stderr",
     "output_type": "stream",
     "text": [
      "100%|██████████████████████████████████████████████████████████████████████████████████| 25/25 [00:03<00:00,  6.56it/s]"
     ]
    },
    {
     "name": "stdout",
     "output_type": "stream",
     "text": [
      "segmented images saved successfully\n"
     ]
    },
    {
     "name": "stderr",
     "output_type": "stream",
     "text": [
      "\n"
     ]
    },
    {
     "name": "stdout",
     "output_type": "stream",
     "text": [
      "Model loaded successfully\n",
      "Test Images: 25\n"
     ]
    },
    {
     "name": "stderr",
     "output_type": "stream",
     "text": [
      "\r",
      "  0%|                                                                                           | 0/25 [00:00<?, ?it/s]"
     ]
    },
    {
     "name": "stdout",
     "output_type": "stream",
     "text": [
      "1/1 [==============================] - 2s 2s/step\n"
     ]
    },
    {
     "name": "stderr",
     "output_type": "stream",
     "text": [
      "\r",
      "  4%|███▎                                                                               | 1/25 [00:01<00:40,  1.70s/it]"
     ]
    },
    {
     "name": "stdout",
     "output_type": "stream",
     "text": [
      "1/1 [==============================] - 0s 27ms/step\n"
     ]
    },
    {
     "name": "stderr",
     "output_type": "stream",
     "text": [
      "\r",
      "  8%|██████▋                                                                            | 2/25 [00:01<00:17,  1.28it/s]"
     ]
    },
    {
     "name": "stdout",
     "output_type": "stream",
     "text": [
      "1/1 [==============================] - 0s 27ms/step\n"
     ]
    },
    {
     "name": "stderr",
     "output_type": "stream",
     "text": [
      "\r",
      " 12%|█████████▉                                                                         | 3/25 [00:01<00:10,  2.07it/s]"
     ]
    },
    {
     "name": "stdout",
     "output_type": "stream",
     "text": [
      "1/1 [==============================] - 0s 25ms/step\n",
      "1/1 [==============================] - 0s 26ms/step\n"
     ]
    },
    {
     "name": "stderr",
     "output_type": "stream",
     "text": [
      "\r",
      " 20%|████████████████▌                                                                  | 5/25 [00:02<00:05,  3.82it/s]"
     ]
    },
    {
     "name": "stdout",
     "output_type": "stream",
     "text": [
      "1/1 [==============================] - 0s 30ms/step\n"
     ]
    },
    {
     "name": "stderr",
     "output_type": "stream",
     "text": [
      "\r",
      " 24%|███████████████████▉                                                               | 6/25 [00:02<00:04,  4.64it/s]"
     ]
    },
    {
     "name": "stdout",
     "output_type": "stream",
     "text": [
      "1/1 [==============================] - 0s 26ms/step\n",
      "1/1 [==============================] - 0s 26ms/step\n"
     ]
    },
    {
     "name": "stderr",
     "output_type": "stream",
     "text": [
      "\r",
      " 32%|██████████████████████████▌                                                        | 8/25 [00:02<00:02,  6.24it/s]"
     ]
    },
    {
     "name": "stdout",
     "output_type": "stream",
     "text": [
      "1/1 [==============================] - 0s 27ms/step\n",
      "1/1 [==============================] - 0s 26ms/step\n"
     ]
    },
    {
     "name": "stderr",
     "output_type": "stream",
     "text": [
      "\r",
      " 40%|████████████████████████████████▊                                                 | 10/25 [00:02<00:02,  7.44it/s]"
     ]
    },
    {
     "name": "stdout",
     "output_type": "stream",
     "text": [
      "1/1 [==============================] - 0s 27ms/step\n",
      "1/1 [==============================] - 0s 36ms/step\n"
     ]
    },
    {
     "name": "stderr",
     "output_type": "stream",
     "text": [
      "\r",
      " 48%|███████████████████████████████████████▎                                          | 12/25 [00:02<00:01,  8.21it/s]"
     ]
    },
    {
     "name": "stdout",
     "output_type": "stream",
     "text": [
      "1/1 [==============================] - 0s 27ms/step\n",
      "1/1 [==============================] - 0s 29ms/step\n"
     ]
    },
    {
     "name": "stderr",
     "output_type": "stream",
     "text": [
      "\r",
      " 56%|█████████████████████████████████████████████▉                                    | 14/25 [00:03<00:01,  8.76it/s]"
     ]
    },
    {
     "name": "stdout",
     "output_type": "stream",
     "text": [
      "1/1 [==============================] - 0s 26ms/step\n",
      "1/1 [==============================] - 0s 27ms/step\n"
     ]
    },
    {
     "name": "stderr",
     "output_type": "stream",
     "text": [
      "\r",
      " 64%|████████████████████████████████████████████████████▍                             | 16/25 [00:03<00:00,  9.21it/s]"
     ]
    },
    {
     "name": "stdout",
     "output_type": "stream",
     "text": [
      "1/1 [==============================] - 0s 28ms/step\n",
      "1/1 [==============================] - 0s 27ms/step\n"
     ]
    },
    {
     "name": "stderr",
     "output_type": "stream",
     "text": [
      "\r",
      " 72%|███████████████████████████████████████████████████████████                       | 18/25 [00:03<00:00,  9.51it/s]"
     ]
    },
    {
     "name": "stdout",
     "output_type": "stream",
     "text": [
      "1/1 [==============================] - 0s 27ms/step\n",
      "1/1 [==============================] - 0s 31ms/step\n"
     ]
    },
    {
     "name": "stderr",
     "output_type": "stream",
     "text": [
      "\r",
      " 80%|█████████████████████████████████████████████████████████████████▌                | 20/25 [00:03<00:00,  9.47it/s]"
     ]
    },
    {
     "name": "stdout",
     "output_type": "stream",
     "text": [
      "1/1 [==============================] - 0s 29ms/step\n"
     ]
    },
    {
     "name": "stderr",
     "output_type": "stream",
     "text": [
      "\r",
      " 84%|████████████████████████████████████████████████████████████████████▉             | 21/25 [00:03<00:00,  9.52it/s]"
     ]
    },
    {
     "name": "stdout",
     "output_type": "stream",
     "text": [
      "1/1 [==============================] - 0s 33ms/step\n"
     ]
    },
    {
     "name": "stderr",
     "output_type": "stream",
     "text": [
      "\r",
      " 88%|████████████████████████████████████████████████████████████████████████▏         | 22/25 [00:03<00:00,  9.56it/s]"
     ]
    },
    {
     "name": "stdout",
     "output_type": "stream",
     "text": [
      "1/1 [==============================] - 0s 26ms/step\n",
      "1/1 [==============================] - 0s 26ms/step\n"
     ]
    },
    {
     "name": "stderr",
     "output_type": "stream",
     "text": [
      "\r",
      " 96%|██████████████████████████████████████████████████████████████████████████████▋   | 24/25 [00:04<00:00, 10.08it/s]"
     ]
    },
    {
     "name": "stdout",
     "output_type": "stream",
     "text": [
      "1/1 [==============================] - 0s 35ms/step\n"
     ]
    },
    {
     "name": "stderr",
     "output_type": "stream",
     "text": [
      "\r",
      "100%|██████████████████████████████████████████████████████████████████████████████████| 25/25 [00:04<00:00,  6.05it/s]"
     ]
    },
    {
     "name": "stdout",
     "output_type": "stream",
     "text": [
      "segmented images saved successfully\n"
     ]
    },
    {
     "name": "stderr",
     "output_type": "stream",
     "text": [
      "\n"
     ]
    }
   ],
   "source": [
    "test_dataset = 'classified_images/acrima/cdr/glaucoma/optic-cup'\n",
    "\n",
    "cup_save_path = 'classified_images/acrima/segmentation/glaucoma/cup'\n",
    "disc_save_path = 'classified_images/acrima/segmentation/glaucoma/disc'\n",
    "\n",
    "\n",
    "# Disc segmentation\n",
    "segmentation_task(model_path = disc_model_path, dataset_path=test_dataset, save_path=disc_save_path)\n",
    "\n",
    "# Cup segmentation \n",
    "segmentation_task(model_path = cup_model_path, dataset_path=test_dataset, save_path=cup_save_path)\n",
    "\n"
   ]
  },
  {
   "cell_type": "markdown",
   "id": "cc835d49",
   "metadata": {},
   "source": [
    "### CDR for Normal (Acrima)"
   ]
  },
  {
   "cell_type": "code",
   "execution_count": 192,
   "id": "457b9ce7",
   "metadata": {
    "collapsed": true
   },
   "outputs": [
    {
     "name": "stdout",
     "output_type": "stream",
     "text": [
      "Im245_ACRIMA.jpg - CDR: 0.20 - Result: Normal\n",
      "Im246_ACRIMA.jpg - CDR: 0.15 - Result: Normal\n",
      "Im261_ACRIMA.jpg - CDR: 0.18 - Result: Normal\n",
      "Im262_ACRIMA.jpg - CDR: 0.17 - Result: Normal\n",
      "Im265_ACRIMA.jpg - CDR: 0.21 - Result: Normal\n",
      "Im269_ACRIMA.jpg - CDR: 0.14 - Result: Normal\n",
      "Im270_ACRIMA.jpg - CDR: 0.15 - Result: Normal\n",
      "Im276_ACRIMA.jpg - CDR: 0.15 - Result: Normal\n",
      "Im281_ACRIMA.jpg - CDR: 0.27 - Result: Normal\n",
      "Im282_ACRIMA.jpg - CDR: 0.20 - Result: Normal\n",
      "Im284_ACRIMA.jpg - CDR: 0.18 - Result: Normal\n",
      "Im285_ACRIMA.jpg - CDR: 0.21 - Result: Normal\n",
      "Im286_ACRIMA.jpg - CDR: 0.34 - Result: Normal\n",
      "Im288_ACRIMA.jpg - CDR: 0.25 - Result: Normal\n",
      "Im290_ACRIMA.jpg - CDR: 0.33 - Result: Normal\n",
      "Im291_ACRIMA.jpg - CDR: 0.17 - Result: Normal\n",
      "Im293_ACRIMA.jpg - CDR: 0.13 - Result: Normal\n",
      "Im295_ACRIMA.jpg - CDR: 0.22 - Result: Normal\n",
      "Im298_ACRIMA.jpg - CDR: 0.25 - Result: Normal\n",
      "Im299_ACRIMA.jpg - CDR: 0.26 - Result: Normal\n",
      "Im300_ACRIMA.jpg - CDR: 0.10 - Result: Normal\n",
      "Im301_ACRIMA.jpg - CDR: 0.16 - Result: Normal\n",
      "Im302_ACRIMA.jpg - CDR: 0.14 - Result: Normal\n",
      "Im304_ACRIMA.jpg - CDR: 0.06 - Result: Normal\n",
      "Im306_ACRIMA.jpg - CDR: 0.19 - Result: Normal\n",
      "Im307_ACRIMA.jpg - CDR: 0.31 - Result: Normal\n"
     ]
    }
   ],
   "source": [
    "optic_cup_directory = 'classified_images/acrima/segmentation/normal/cup'\n",
    "optic_disc_directory  = 'classified_images/acrima/segmentation/normal/disc'\n",
    "\n",
    "CDR(optic_cup_directory, optic_disc_directory)"
   ]
  },
  {
   "cell_type": "markdown",
   "id": "c60f6881",
   "metadata": {},
   "source": [
    "### CDR for Glaucoma (Acrima)"
   ]
  },
  {
   "cell_type": "code",
   "execution_count": 193,
   "id": "b0213450",
   "metadata": {
    "collapsed": true
   },
   "outputs": [
    {
     "name": "stdout",
     "output_type": "stream",
     "text": [
      "Im581_g_ACRIMA.jpg - CDR: 0.47 - Result: Glaucoma\n",
      "Im590_g_ACRIMA.jpg - CDR: 0.54 - Result: Glaucoma\n",
      "Im610_g_ACRIMA.jpg - CDR: 0.46 - Result: Glaucoma\n",
      "Im621_g_ACRIMA.jpg - CDR: 0.43 - Result: Glaucoma\n",
      "Im629_g_ACRIMA.jpg - CDR: 0.51 - Result: Glaucoma\n",
      "Im632_g_ACRIMA.jpg - CDR: 0.54 - Result: Glaucoma\n",
      "Im633_g_ACRIMA.jpg - CDR: 0.66 - Result: Glaucoma\n",
      "Im642_g_ACRIMA.jpg - CDR: 0.64 - Result: Glaucoma\n",
      "Im649_g_ACRIMA.jpg - CDR: 0.53 - Result: Glaucoma\n",
      "Im651_g_ACRIMA.jpg - CDR: 0.61 - Result: Glaucoma\n",
      "Im656_g_ACRIMA.jpg - CDR: 0.39 - Result: Normal\n",
      "Im657_g_ACRIMA.jpg - CDR: 0.43 - Result: Glaucoma\n",
      "Im663_g_ACRIMA.jpg - CDR: 0.43 - Result: Glaucoma\n",
      "Im666_g_ACRIMA.jpg - CDR: 0.57 - Result: Glaucoma\n",
      "Im667_g_ACRIMA.jpg - CDR: 0.60 - Result: Glaucoma\n",
      "Im670_g_ACRIMA.jpg - CDR: 0.41 - Result: Glaucoma\n",
      "Im671_g_ACRIMA.jpg - CDR: 0.48 - Result: Glaucoma\n",
      "Im675_g_ACRIMA.jpg - CDR: 0.57 - Result: Glaucoma\n",
      "Im679_g_ACRIMA.jpg - CDR: 0.62 - Result: Glaucoma\n",
      "Im680_g_ACRIMA.jpg - CDR: 0.67 - Result: Glaucoma\n",
      "Im685_g_ACRIMA.jpg - CDR: 0.47 - Result: Glaucoma\n",
      "Im686_g_ACRIMA.jpg - CDR: 0.49 - Result: Glaucoma\n",
      "Im691_g_ACRIMA.jpg - CDR: 0.57 - Result: Glaucoma\n",
      "Im697_g_ACRIMA.jpg - CDR: 0.61 - Result: Glaucoma\n",
      "Im703_g_ACRIMA.JPG - CDR: 0.58 - Result: Glaucoma\n"
     ]
    }
   ],
   "source": [
    "optic_cup_directory = 'classified_images/acrima/segmentation/glaucoma/cup'\n",
    "optic_disc_directory  = 'classified_images/acrima/segmentation/glaucoma/disc'\n",
    "\n",
    "CDR(optic_cup_directory, optic_disc_directory)"
   ]
  },
  {
   "cell_type": "code",
   "execution_count": 194,
   "id": "1ac43b7b",
   "metadata": {},
   "outputs": [
    {
     "name": "stdout",
     "output_type": "stream",
     "text": [
      "The CDR Accuracy for acrima dataset is 96.4286\n"
     ]
    }
   ],
   "source": [
    "cdr_accuracy(total_images = 84, correct_predictions=81, dataset_name='acrima')"
   ]
  },
  {
   "cell_type": "markdown",
   "id": "aed1b304",
   "metadata": {},
   "source": [
    "## Rim-One"
   ]
  },
  {
   "cell_type": "markdown",
   "id": "ac101626",
   "metadata": {},
   "source": [
    "### Normal"
   ]
  },
  {
   "cell_type": "code",
   "execution_count": 224,
   "id": "9774aadc",
   "metadata": {
    "collapsed": true
   },
   "outputs": [
    {
     "name": "stdout",
     "output_type": "stream",
     "text": [
      "Model loaded successfully\n",
      "Test Images: 47\n"
     ]
    },
    {
     "name": "stderr",
     "output_type": "stream",
     "text": [
      "\r",
      "  0%|                                                                                           | 0/47 [00:00<?, ?it/s]"
     ]
    },
    {
     "name": "stdout",
     "output_type": "stream",
     "text": [
      "1/1 [==============================] - 1s 1s/step\n"
     ]
    },
    {
     "name": "stderr",
     "output_type": "stream",
     "text": [
      "\r",
      "  2%|█▊                                                                                 | 1/47 [00:01<01:01,  1.34s/it]"
     ]
    },
    {
     "name": "stdout",
     "output_type": "stream",
     "text": [
      "1/1 [==============================] - 0s 26ms/step\n"
     ]
    },
    {
     "name": "stderr",
     "output_type": "stream",
     "text": [
      "\r",
      "  4%|███▌                                                                               | 2/47 [00:01<00:28,  1.58it/s]"
     ]
    },
    {
     "name": "stdout",
     "output_type": "stream",
     "text": [
      "1/1 [==============================] - 0s 33ms/step\n"
     ]
    },
    {
     "name": "stderr",
     "output_type": "stream",
     "text": [
      "\r",
      "  6%|█████▎                                                                             | 3/47 [00:01<00:17,  2.46it/s]"
     ]
    },
    {
     "name": "stdout",
     "output_type": "stream",
     "text": [
      "1/1 [==============================] - 0s 27ms/step\n",
      "1/1 [==============================] - 0s 30ms/step\n"
     ]
    },
    {
     "name": "stderr",
     "output_type": "stream",
     "text": [
      "\r",
      " 11%|████████▊                                                                          | 5/47 [00:01<00:09,  4.32it/s]"
     ]
    },
    {
     "name": "stdout",
     "output_type": "stream",
     "text": [
      "1/1 [==============================] - 0s 25ms/step\n",
      "1/1 [==============================] - 0s 27ms/step\n"
     ]
    },
    {
     "name": "stderr",
     "output_type": "stream",
     "text": [
      "\r",
      " 15%|████████████▎                                                                      | 7/47 [00:01<00:06,  5.89it/s]"
     ]
    },
    {
     "name": "stdout",
     "output_type": "stream",
     "text": [
      "1/1 [==============================] - 0s 26ms/step\n",
      "1/1 [==============================] - 0s 27ms/step\n"
     ]
    },
    {
     "name": "stderr",
     "output_type": "stream",
     "text": [
      "\r",
      " 19%|███████████████▉                                                                   | 9/47 [00:02<00:05,  7.12it/s]"
     ]
    },
    {
     "name": "stdout",
     "output_type": "stream",
     "text": [
      "1/1 [==============================] - 0s 26ms/step\n",
      "1/1 [==============================] - 0s 27ms/step\n"
     ]
    },
    {
     "name": "stderr",
     "output_type": "stream",
     "text": [
      "\r",
      " 23%|███████████████████▏                                                              | 11/47 [00:02<00:04,  8.04it/s]"
     ]
    },
    {
     "name": "stdout",
     "output_type": "stream",
     "text": [
      "1/1 [==============================] - 0s 28ms/step\n"
     ]
    },
    {
     "name": "stderr",
     "output_type": "stream",
     "text": [
      "\r",
      " 26%|████████████████████▉                                                             | 12/47 [00:02<00:04,  8.36it/s]"
     ]
    },
    {
     "name": "stdout",
     "output_type": "stream",
     "text": [
      "1/1 [==============================] - 0s 36ms/step\n"
     ]
    },
    {
     "name": "stderr",
     "output_type": "stream",
     "text": [
      "\r",
      " 28%|██████████████████████▋                                                           | 13/47 [00:02<00:04,  8.48it/s]"
     ]
    },
    {
     "name": "stdout",
     "output_type": "stream",
     "text": [
      "1/1 [==============================] - 0s 27ms/step\n",
      "1/1 [==============================] - 0s 26ms/step\n"
     ]
    },
    {
     "name": "stderr",
     "output_type": "stream",
     "text": [
      "\r",
      " 32%|██████████████████████████▏                                                       | 15/47 [00:02<00:03,  9.13it/s]"
     ]
    },
    {
     "name": "stdout",
     "output_type": "stream",
     "text": [
      "1/1 [==============================] - 0s 27ms/step\n",
      "1/1 [==============================] - 0s 26ms/step\n"
     ]
    },
    {
     "name": "stderr",
     "output_type": "stream",
     "text": [
      "\r",
      " 36%|█████████████████████████████▋                                                    | 17/47 [00:02<00:03,  9.59it/s]"
     ]
    },
    {
     "name": "stdout",
     "output_type": "stream",
     "text": [
      "1/1 [==============================] - 0s 27ms/step\n",
      "1/1 [==============================] - 0s 28ms/step\n"
     ]
    },
    {
     "name": "stderr",
     "output_type": "stream",
     "text": [
      "\r",
      " 40%|█████████████████████████████████▏                                                | 19/47 [00:03<00:02,  9.85it/s]"
     ]
    },
    {
     "name": "stdout",
     "output_type": "stream",
     "text": [
      "1/1 [==============================] - 0s 27ms/step\n",
      "1/1 [==============================] - 0s 27ms/step\n"
     ]
    },
    {
     "name": "stderr",
     "output_type": "stream",
     "text": [
      "\r",
      " 45%|████████████████████████████████████▋                                             | 21/47 [00:03<00:02,  9.86it/s]"
     ]
    },
    {
     "name": "stdout",
     "output_type": "stream",
     "text": [
      "1/1 [==============================] - 0s 38ms/step\n",
      "1/1 [==============================] - 0s 27ms/step\n"
     ]
    },
    {
     "name": "stderr",
     "output_type": "stream",
     "text": [
      "\r",
      " 49%|████████████████████████████████████████▏                                         | 23/47 [00:03<00:02,  9.76it/s]"
     ]
    },
    {
     "name": "stdout",
     "output_type": "stream",
     "text": [
      "1/1 [==============================] - 0s 33ms/step\n"
     ]
    },
    {
     "name": "stderr",
     "output_type": "stream",
     "text": [
      "\r",
      " 51%|█████████████████████████████████████████▊                                        | 24/47 [00:03<00:02,  9.69it/s]"
     ]
    },
    {
     "name": "stdout",
     "output_type": "stream",
     "text": [
      "1/1 [==============================] - 0s 28ms/step\n"
     ]
    },
    {
     "name": "stderr",
     "output_type": "stream",
     "text": [
      "\r",
      " 53%|███████████████████████████████████████████▌                                      | 25/47 [00:03<00:02,  9.58it/s]"
     ]
    },
    {
     "name": "stdout",
     "output_type": "stream",
     "text": [
      "1/1 [==============================] - 0s 26ms/step\n"
     ]
    },
    {
     "name": "stderr",
     "output_type": "stream",
     "text": [
      "\r",
      " 55%|█████████████████████████████████████████████▎                                    | 26/47 [00:03<00:02,  9.67it/s]"
     ]
    },
    {
     "name": "stdout",
     "output_type": "stream",
     "text": [
      "1/1 [==============================] - 0s 30ms/step\n"
     ]
    },
    {
     "name": "stderr",
     "output_type": "stream",
     "text": [
      "\r",
      " 57%|███████████████████████████████████████████████                                   | 27/47 [00:03<00:02,  9.59it/s]"
     ]
    },
    {
     "name": "stdout",
     "output_type": "stream",
     "text": [
      "1/1 [==============================] - 0s 30ms/step\n"
     ]
    },
    {
     "name": "stderr",
     "output_type": "stream",
     "text": [
      "\r",
      " 60%|████████████████████████████████████████████████▊                                 | 28/47 [00:04<00:01,  9.58it/s]"
     ]
    },
    {
     "name": "stdout",
     "output_type": "stream",
     "text": [
      "1/1 [==============================] - 0s 27ms/step\n",
      "1/1 [==============================] - 0s 26ms/step\n"
     ]
    },
    {
     "name": "stderr",
     "output_type": "stream",
     "text": [
      "\r",
      " 64%|████████████████████████████████████████████████████▎                             | 30/47 [00:04<00:01,  9.98it/s]"
     ]
    },
    {
     "name": "stdout",
     "output_type": "stream",
     "text": [
      "1/1 [==============================] - 0s 30ms/step\n"
     ]
    },
    {
     "name": "stderr",
     "output_type": "stream",
     "text": [
      "\r",
      " 66%|██████████████████████████████████████████████████████                            | 31/47 [00:04<00:01,  9.90it/s]"
     ]
    },
    {
     "name": "stdout",
     "output_type": "stream",
     "text": [
      "1/1 [==============================] - 0s 26ms/step\n",
      "1/1 [==============================] - 0s 26ms/step\n"
     ]
    },
    {
     "name": "stderr",
     "output_type": "stream",
     "text": [
      "\r",
      " 70%|█████████████████████████████████████████████████████████▌                        | 33/47 [00:04<00:01, 10.06it/s]"
     ]
    },
    {
     "name": "stdout",
     "output_type": "stream",
     "text": [
      "1/1 [==============================] - 0s 29ms/step\n",
      "1/1 [==============================] - 0s 29ms/step\n"
     ]
    },
    {
     "name": "stderr",
     "output_type": "stream",
     "text": [
      "\r",
      " 74%|█████████████████████████████████████████████████████████████                     | 35/47 [00:04<00:01, 10.19it/s]"
     ]
    },
    {
     "name": "stdout",
     "output_type": "stream",
     "text": [
      "1/1 [==============================] - 0s 32ms/step\n",
      "1/1 [==============================] - 0s 27ms/step\n"
     ]
    },
    {
     "name": "stderr",
     "output_type": "stream",
     "text": [
      "\r",
      " 79%|████████████████████████████████████████████████████████████████▌                 | 37/47 [00:04<00:00, 10.24it/s]"
     ]
    },
    {
     "name": "stdout",
     "output_type": "stream",
     "text": [
      "1/1 [==============================] - 0s 29ms/step\n",
      "1/1 [==============================] - 0s 30ms/step\n"
     ]
    },
    {
     "name": "stderr",
     "output_type": "stream",
     "text": [
      "\r",
      " 83%|████████████████████████████████████████████████████████████████████              | 39/47 [00:05<00:00, 10.34it/s]"
     ]
    },
    {
     "name": "stdout",
     "output_type": "stream",
     "text": [
      "1/1 [==============================] - 0s 28ms/step\n",
      "1/1 [==============================] - 0s 27ms/step\n"
     ]
    },
    {
     "name": "stderr",
     "output_type": "stream",
     "text": [
      "\r",
      " 87%|███████████████████████████████████████████████████████████████████████▌          | 41/47 [00:05<00:00, 10.36it/s]"
     ]
    },
    {
     "name": "stdout",
     "output_type": "stream",
     "text": [
      "1/1 [==============================] - 0s 27ms/step\n",
      "1/1 [==============================] - 0s 28ms/step\n"
     ]
    },
    {
     "name": "stderr",
     "output_type": "stream",
     "text": [
      "\r",
      " 91%|███████████████████████████████████████████████████████████████████████████       | 43/47 [00:05<00:00, 10.54it/s]"
     ]
    },
    {
     "name": "stdout",
     "output_type": "stream",
     "text": [
      "1/1 [==============================] - 0s 27ms/step\n",
      "1/1 [==============================] - 0s 28ms/step\n"
     ]
    },
    {
     "name": "stderr",
     "output_type": "stream",
     "text": [
      "\r",
      " 96%|██████████████████████████████████████████████████████████████████████████████▌   | 45/47 [00:05<00:00, 10.71it/s]"
     ]
    },
    {
     "name": "stdout",
     "output_type": "stream",
     "text": [
      "1/1 [==============================] - 0s 27ms/step\n",
      "1/1 [==============================] - 0s 30ms/step\n"
     ]
    },
    {
     "name": "stderr",
     "output_type": "stream",
     "text": [
      "100%|██████████████████████████████████████████████████████████████████████████████████| 47/47 [00:05<00:00,  7.97it/s]\n"
     ]
    },
    {
     "name": "stdout",
     "output_type": "stream",
     "text": [
      "segmented images saved successfully\n",
      "Model loaded successfully\n",
      "Test Images: 47\n"
     ]
    },
    {
     "name": "stderr",
     "output_type": "stream",
     "text": [
      "\r",
      "  0%|                                                                                           | 0/47 [00:00<?, ?it/s]"
     ]
    },
    {
     "name": "stdout",
     "output_type": "stream",
     "text": [
      "1/1 [==============================] - 1s 1s/step\n"
     ]
    },
    {
     "name": "stderr",
     "output_type": "stream",
     "text": [
      "\r",
      "  2%|█▊                                                                                 | 1/47 [00:01<01:03,  1.38s/it]"
     ]
    },
    {
     "name": "stdout",
     "output_type": "stream",
     "text": [
      "1/1 [==============================] - 0s 27ms/step\n"
     ]
    },
    {
     "name": "stderr",
     "output_type": "stream",
     "text": [
      "\r",
      "  4%|███▌                                                                               | 2/47 [00:01<00:29,  1.54it/s]"
     ]
    },
    {
     "name": "stdout",
     "output_type": "stream",
     "text": [
      "1/1 [==============================] - 0s 27ms/step\n"
     ]
    },
    {
     "name": "stderr",
     "output_type": "stream",
     "text": [
      "\r",
      "  6%|█████▎                                                                             | 3/47 [00:01<00:18,  2.41it/s]"
     ]
    },
    {
     "name": "stdout",
     "output_type": "stream",
     "text": [
      "1/1 [==============================] - 0s 26ms/step\n",
      "1/1 [==============================] - 0s 25ms/step\n"
     ]
    },
    {
     "name": "stderr",
     "output_type": "stream",
     "text": [
      "\r",
      " 11%|████████▊                                                                          | 5/47 [00:01<00:09,  4.59it/s]"
     ]
    },
    {
     "name": "stdout",
     "output_type": "stream",
     "text": [
      "1/1 [==============================] - 0s 26ms/step\n",
      "1/1 [==============================] - 0s 27ms/step\n"
     ]
    },
    {
     "name": "stderr",
     "output_type": "stream",
     "text": [
      "\r",
      " 15%|████████████▎                                                                      | 7/47 [00:01<00:06,  6.58it/s]"
     ]
    },
    {
     "name": "stdout",
     "output_type": "stream",
     "text": [
      "1/1 [==============================] - 0s 29ms/step\n",
      "1/1 [==============================] - 0s 27ms/step\n"
     ]
    },
    {
     "name": "stderr",
     "output_type": "stream",
     "text": [
      "\r",
      " 19%|███████████████▉                                                                   | 9/47 [00:02<00:04,  8.24it/s]"
     ]
    },
    {
     "name": "stdout",
     "output_type": "stream",
     "text": [
      "1/1 [==============================] - 0s 29ms/step\n",
      "1/1 [==============================] - 0s 27ms/step\n"
     ]
    },
    {
     "name": "stderr",
     "output_type": "stream",
     "text": [
      "\r",
      " 23%|███████████████████▏                                                              | 11/47 [00:02<00:03,  9.61it/s]"
     ]
    },
    {
     "name": "stdout",
     "output_type": "stream",
     "text": [
      "1/1 [==============================] - 0s 29ms/step\n",
      "1/1 [==============================] - 0s 27ms/step\n"
     ]
    },
    {
     "name": "stderr",
     "output_type": "stream",
     "text": [
      "\r",
      " 28%|██████████████████████▋                                                           | 13/47 [00:02<00:03, 10.79it/s]"
     ]
    },
    {
     "name": "stdout",
     "output_type": "stream",
     "text": [
      "1/1 [==============================] - 0s 27ms/step\n",
      "1/1 [==============================] - 0s 27ms/step\n"
     ]
    },
    {
     "name": "stderr",
     "output_type": "stream",
     "text": [
      "\r",
      " 32%|██████████████████████████▏                                                       | 15/47 [00:02<00:02, 11.67it/s]"
     ]
    },
    {
     "name": "stdout",
     "output_type": "stream",
     "text": [
      "1/1 [==============================] - 0s 37ms/step\n",
      "1/1 [==============================] - 0s 28ms/step\n"
     ]
    },
    {
     "name": "stderr",
     "output_type": "stream",
     "text": [
      "\r",
      " 36%|█████████████████████████████▋                                                    | 17/47 [00:02<00:02, 11.68it/s]"
     ]
    },
    {
     "name": "stdout",
     "output_type": "stream",
     "text": [
      "1/1 [==============================] - 0s 29ms/step\n",
      "1/1 [==============================] - 0s 26ms/step\n"
     ]
    },
    {
     "name": "stderr",
     "output_type": "stream",
     "text": [
      "\r",
      " 40%|█████████████████████████████████▏                                                | 19/47 [00:02<00:02, 12.44it/s]"
     ]
    },
    {
     "name": "stdout",
     "output_type": "stream",
     "text": [
      "1/1 [==============================] - 0s 26ms/step\n",
      "1/1 [==============================] - 0s 26ms/step\n"
     ]
    },
    {
     "name": "stderr",
     "output_type": "stream",
     "text": [
      "\r",
      " 45%|████████████████████████████████████▋                                             | 21/47 [00:02<00:02, 12.98it/s]"
     ]
    },
    {
     "name": "stdout",
     "output_type": "stream",
     "text": [
      "1/1 [==============================] - 0s 26ms/step\n",
      "1/1 [==============================] - 0s 27ms/step\n"
     ]
    },
    {
     "name": "stderr",
     "output_type": "stream",
     "text": [
      "\r",
      " 49%|████████████████████████████████████████▏                                         | 23/47 [00:03<00:01, 13.34it/s]"
     ]
    },
    {
     "name": "stdout",
     "output_type": "stream",
     "text": [
      "1/1 [==============================] - 0s 28ms/step\n",
      "1/1 [==============================] - 0s 32ms/step\n"
     ]
    },
    {
     "name": "stderr",
     "output_type": "stream",
     "text": [
      "\r",
      " 53%|███████████████████████████████████████████▌                                      | 25/47 [00:03<00:01, 13.09it/s]"
     ]
    },
    {
     "name": "stdout",
     "output_type": "stream",
     "text": [
      "1/1 [==============================] - 0s 32ms/step\n",
      "1/1 [==============================] - 0s 29ms/step\n"
     ]
    },
    {
     "name": "stderr",
     "output_type": "stream",
     "text": [
      "\r",
      " 57%|███████████████████████████████████████████████                                   | 27/47 [00:03<00:01, 13.06it/s]"
     ]
    },
    {
     "name": "stdout",
     "output_type": "stream",
     "text": [
      "1/1 [==============================] - 0s 31ms/step\n",
      "1/1 [==============================] - 0s 28ms/step\n"
     ]
    },
    {
     "name": "stderr",
     "output_type": "stream",
     "text": [
      "\r",
      " 62%|██████████████████████████████████████████████████▌                               | 29/47 [00:03<00:01, 12.09it/s]"
     ]
    },
    {
     "name": "stdout",
     "output_type": "stream",
     "text": [
      "1/1 [==============================] - 0s 32ms/step\n",
      "1/1 [==============================] - 0s 32ms/step\n"
     ]
    },
    {
     "name": "stderr",
     "output_type": "stream",
     "text": [
      "\r",
      " 66%|██████████████████████████████████████████████████████                            | 31/47 [00:03<00:01, 11.46it/s]"
     ]
    },
    {
     "name": "stdout",
     "output_type": "stream",
     "text": [
      "1/1 [==============================] - 0s 28ms/step\n",
      "1/1 [==============================] - 0s 26ms/step\n"
     ]
    },
    {
     "name": "stderr",
     "output_type": "stream",
     "text": [
      "\r",
      " 70%|█████████████████████████████████████████████████████████▌                        | 33/47 [00:03<00:01, 11.39it/s]"
     ]
    },
    {
     "name": "stdout",
     "output_type": "stream",
     "text": [
      "1/1 [==============================] - 0s 27ms/step\n",
      "1/1 [==============================] - 0s 28ms/step\n"
     ]
    },
    {
     "name": "stderr",
     "output_type": "stream",
     "text": [
      "\r",
      " 74%|█████████████████████████████████████████████████████████████                     | 35/47 [00:04<00:01, 11.14it/s]"
     ]
    },
    {
     "name": "stdout",
     "output_type": "stream",
     "text": [
      "1/1 [==============================] - 0s 27ms/step\n",
      "1/1 [==============================] - 0s 28ms/step\n"
     ]
    },
    {
     "name": "stderr",
     "output_type": "stream",
     "text": [
      "\r",
      " 79%|████████████████████████████████████████████████████████████████▌                 | 37/47 [00:04<00:00, 11.11it/s]"
     ]
    },
    {
     "name": "stdout",
     "output_type": "stream",
     "text": [
      "1/1 [==============================] - 0s 27ms/step\n",
      "1/1 [==============================] - 0s 27ms/step\n"
     ]
    },
    {
     "name": "stderr",
     "output_type": "stream",
     "text": [
      "\r",
      " 83%|████████████████████████████████████████████████████████████████████              | 39/47 [00:04<00:00, 11.25it/s]"
     ]
    },
    {
     "name": "stdout",
     "output_type": "stream",
     "text": [
      "1/1 [==============================] - 0s 27ms/step\n",
      "1/1 [==============================] - 0s 32ms/step\n"
     ]
    },
    {
     "name": "stderr",
     "output_type": "stream",
     "text": [
      "\r",
      " 87%|███████████████████████████████████████████████████████████████████████▌          | 41/47 [00:04<00:00, 11.22it/s]"
     ]
    },
    {
     "name": "stdout",
     "output_type": "stream",
     "text": [
      "1/1 [==============================] - 0s 30ms/step\n",
      "1/1 [==============================] - 0s 27ms/step\n"
     ]
    },
    {
     "name": "stderr",
     "output_type": "stream",
     "text": [
      "\r",
      " 91%|███████████████████████████████████████████████████████████████████████████       | 43/47 [00:04<00:00, 11.17it/s]"
     ]
    },
    {
     "name": "stdout",
     "output_type": "stream",
     "text": [
      "1/1 [==============================] - 0s 27ms/step\n",
      "1/1 [==============================] - 0s 27ms/step\n"
     ]
    },
    {
     "name": "stderr",
     "output_type": "stream",
     "text": [
      "\r",
      " 96%|██████████████████████████████████████████████████████████████████████████████▌   | 45/47 [00:05<00:00, 11.29it/s]"
     ]
    },
    {
     "name": "stdout",
     "output_type": "stream",
     "text": [
      "1/1 [==============================] - 0s 26ms/step\n",
      "1/1 [==============================] - 0s 26ms/step\n"
     ]
    },
    {
     "name": "stderr",
     "output_type": "stream",
     "text": [
      "100%|██████████████████████████████████████████████████████████████████████████████████| 47/47 [00:05<00:00,  9.06it/s]"
     ]
    },
    {
     "name": "stdout",
     "output_type": "stream",
     "text": [
      "segmented images saved successfully\n"
     ]
    },
    {
     "name": "stderr",
     "output_type": "stream",
     "text": [
      "\n"
     ]
    }
   ],
   "source": [
    "test_dataset = 'classified_images/rim/cdr/normal/optic-cup'\n",
    "\n",
    "cup_save_path = 'classified_images/rim/segmentation/normal/cup'\n",
    "disc_save_path = 'classified_images/rim/segmentation/normal/disc'\n",
    "\n",
    "disc_model_path = 'files/rim/z-net1-ASPP/acrima-disc.h5'\n",
    "cup_model_path = 'files/rim/z-net1-ASPP/acrima-cup.h5'\n",
    "\n",
    "\n",
    "# Disc segmentation\n",
    "segmentation_task(model_path = disc_model_path, dataset_path=test_dataset, save_path=disc_save_path)\n",
    "\n",
    "# Cup segmentation \n",
    "segmentation_task(model_path = cup_model_path, dataset_path=test_dataset, save_path=cup_save_path)\n",
    "\n"
   ]
  },
  {
   "cell_type": "markdown",
   "id": "cdf56a0d",
   "metadata": {},
   "source": [
    "### Glaucoma"
   ]
  },
  {
   "cell_type": "code",
   "execution_count": 225,
   "id": "48160a97",
   "metadata": {
    "collapsed": true
   },
   "outputs": [
    {
     "name": "stdout",
     "output_type": "stream",
     "text": [
      "Model loaded successfully\n",
      "Test Images: 14\n"
     ]
    },
    {
     "name": "stderr",
     "output_type": "stream",
     "text": [
      "\r",
      "  0%|                                                                                           | 0/14 [00:00<?, ?it/s]"
     ]
    },
    {
     "name": "stdout",
     "output_type": "stream",
     "text": [
      "1/1 [==============================] - 2s 2s/step\n"
     ]
    },
    {
     "name": "stderr",
     "output_type": "stream",
     "text": [
      "\r",
      "  7%|█████▉                                                                             | 1/14 [00:01<00:22,  1.77s/it]"
     ]
    },
    {
     "name": "stdout",
     "output_type": "stream",
     "text": [
      "1/1 [==============================] - 0s 27ms/step\n"
     ]
    },
    {
     "name": "stderr",
     "output_type": "stream",
     "text": [
      "\r",
      " 14%|███████████▊                                                                       | 2/14 [00:01<00:09,  1.24it/s]"
     ]
    },
    {
     "name": "stdout",
     "output_type": "stream",
     "text": [
      "1/1 [==============================] - 0s 26ms/step\n"
     ]
    },
    {
     "name": "stderr",
     "output_type": "stream",
     "text": [
      "\r",
      " 21%|█████████████████▊                                                                 | 3/14 [00:02<00:05,  2.00it/s]"
     ]
    },
    {
     "name": "stdout",
     "output_type": "stream",
     "text": [
      "1/1 [==============================] - 0s 28ms/step\n",
      "1/1 [==============================] - 0s 27ms/step\n"
     ]
    },
    {
     "name": "stderr",
     "output_type": "stream",
     "text": [
      "\r",
      " 36%|█████████████████████████████▋                                                     | 5/14 [00:02<00:02,  3.66it/s]"
     ]
    },
    {
     "name": "stdout",
     "output_type": "stream",
     "text": [
      "1/1 [==============================] - 0s 27ms/step\n"
     ]
    },
    {
     "name": "stderr",
     "output_type": "stream",
     "text": [
      "\r",
      " 43%|███████████████████████████████████▌                                               | 6/14 [00:02<00:01,  4.47it/s]"
     ]
    },
    {
     "name": "stdout",
     "output_type": "stream",
     "text": [
      "1/1 [==============================] - 0s 26ms/step\n"
     ]
    },
    {
     "name": "stderr",
     "output_type": "stream",
     "text": [
      "\r",
      " 50%|█████████████████████████████████████████▌                                         | 7/14 [00:02<00:01,  5.32it/s]"
     ]
    },
    {
     "name": "stdout",
     "output_type": "stream",
     "text": [
      "1/1 [==============================] - 0s 25ms/step\n",
      "1/1 [==============================] - 0s 26ms/step\n"
     ]
    },
    {
     "name": "stderr",
     "output_type": "stream",
     "text": [
      "\r",
      " 64%|█████████████████████████████████████████████████████▎                             | 9/14 [00:02<00:00,  6.86it/s]"
     ]
    },
    {
     "name": "stdout",
     "output_type": "stream",
     "text": [
      "1/1 [==============================] - 0s 26ms/step\n",
      "1/1 [==============================] - 0s 26ms/step\n"
     ]
    },
    {
     "name": "stderr",
     "output_type": "stream",
     "text": [
      "\r",
      " 79%|████████████████████████████████████████████████████████████████▍                 | 11/14 [00:02<00:00,  7.94it/s]"
     ]
    },
    {
     "name": "stdout",
     "output_type": "stream",
     "text": [
      "1/1 [==============================] - 0s 27ms/step\n",
      "1/1 [==============================] - 0s 27ms/step\n"
     ]
    },
    {
     "name": "stderr",
     "output_type": "stream",
     "text": [
      "\r",
      " 93%|████████████████████████████████████████████████████████████████████████████▏     | 13/14 [00:03<00:00,  8.67it/s]"
     ]
    },
    {
     "name": "stdout",
     "output_type": "stream",
     "text": [
      "1/1 [==============================] - 0s 27ms/step\n"
     ]
    },
    {
     "name": "stderr",
     "output_type": "stream",
     "text": [
      "100%|██████████████████████████████████████████████████████████████████████████████████| 14/14 [00:03<00:00,  4.49it/s]"
     ]
    },
    {
     "name": "stdout",
     "output_type": "stream",
     "text": [
      "segmented images saved successfully\n"
     ]
    },
    {
     "name": "stderr",
     "output_type": "stream",
     "text": [
      "\n"
     ]
    },
    {
     "name": "stdout",
     "output_type": "stream",
     "text": [
      "Model loaded successfully\n",
      "Test Images: 14\n"
     ]
    },
    {
     "name": "stderr",
     "output_type": "stream",
     "text": [
      "\r",
      "  0%|                                                                                           | 0/14 [00:00<?, ?it/s]"
     ]
    },
    {
     "name": "stdout",
     "output_type": "stream",
     "text": [
      "1/1 [==============================] - 1s 1s/step\n"
     ]
    },
    {
     "name": "stderr",
     "output_type": "stream",
     "text": [
      "\r",
      "  7%|█████▉                                                                             | 1/14 [00:01<00:16,  1.29s/it]"
     ]
    },
    {
     "name": "stdout",
     "output_type": "stream",
     "text": [
      "1/1 [==============================] - 0s 27ms/step\n"
     ]
    },
    {
     "name": "stderr",
     "output_type": "stream",
     "text": [
      "\r",
      " 14%|███████████▊                                                                       | 2/14 [00:01<00:07,  1.65it/s]"
     ]
    },
    {
     "name": "stdout",
     "output_type": "stream",
     "text": [
      "1/1 [==============================] - 0s 27ms/step\n"
     ]
    },
    {
     "name": "stderr",
     "output_type": "stream",
     "text": [
      "\r",
      " 21%|█████████████████▊                                                                 | 3/14 [00:01<00:04,  2.58it/s]"
     ]
    },
    {
     "name": "stdout",
     "output_type": "stream",
     "text": [
      "1/1 [==============================] - 0s 27ms/step\n",
      "1/1 [==============================] - 0s 35ms/step\n"
     ]
    },
    {
     "name": "stderr",
     "output_type": "stream",
     "text": [
      "\r",
      " 36%|█████████████████████████████▋                                                     | 5/14 [00:01<00:01,  4.52it/s]"
     ]
    },
    {
     "name": "stdout",
     "output_type": "stream",
     "text": [
      "1/1 [==============================] - 0s 29ms/step\n",
      "1/1 [==============================] - 0s 27ms/step\n"
     ]
    },
    {
     "name": "stderr",
     "output_type": "stream",
     "text": [
      "\r",
      " 50%|█████████████████████████████████████████▌                                         | 7/14 [00:01<00:01,  6.09it/s]"
     ]
    },
    {
     "name": "stdout",
     "output_type": "stream",
     "text": [
      "1/1 [==============================] - 0s 28ms/step\n",
      "1/1 [==============================] - 0s 31ms/step\n"
     ]
    },
    {
     "name": "stderr",
     "output_type": "stream",
     "text": [
      "\r",
      " 64%|█████████████████████████████████████████████████████▎                             | 9/14 [00:02<00:00,  7.38it/s]"
     ]
    },
    {
     "name": "stdout",
     "output_type": "stream",
     "text": [
      "1/1 [==============================] - 0s 27ms/step\n",
      "1/1 [==============================] - 0s 26ms/step\n"
     ]
    },
    {
     "name": "stderr",
     "output_type": "stream",
     "text": [
      "\r",
      " 79%|████████████████████████████████████████████████████████████████▍                 | 11/14 [00:02<00:00,  8.37it/s]"
     ]
    },
    {
     "name": "stdout",
     "output_type": "stream",
     "text": [
      "1/1 [==============================] - 0s 26ms/step\n",
      "1/1 [==============================] - 0s 27ms/step\n"
     ]
    },
    {
     "name": "stderr",
     "output_type": "stream",
     "text": [
      "\r",
      " 93%|████████████████████████████████████████████████████████████████████████████▏     | 13/14 [00:02<00:00,  9.09it/s]"
     ]
    },
    {
     "name": "stdout",
     "output_type": "stream",
     "text": [
      "1/1 [==============================] - 0s 25ms/step\n"
     ]
    },
    {
     "name": "stderr",
     "output_type": "stream",
     "text": [
      "\r",
      "100%|██████████████████████████████████████████████████████████████████████████████████| 14/14 [00:02<00:00,  5.49it/s]"
     ]
    },
    {
     "name": "stdout",
     "output_type": "stream",
     "text": [
      "segmented images saved successfully\n"
     ]
    },
    {
     "name": "stderr",
     "output_type": "stream",
     "text": [
      "\n"
     ]
    }
   ],
   "source": [
    "test_dataset = 'classified_images/rim/cdr/glaucoma/optic-cup'\n",
    "\n",
    "cup_save_path = 'classified_images/rim/segmentation/glaucoma/cup'\n",
    "disc_save_path = 'classified_images/rim/segmentation/glaucoma/disc'\n",
    "\n",
    "\n",
    "# Disc segmentation\n",
    "segmentation_task(model_path = disc_model_path, dataset_path=test_dataset, save_path=disc_save_path)\n",
    "\n",
    "# Cup segmentation \n",
    "segmentation_task(model_path = cup_model_path, dataset_path=test_dataset, save_path=cup_save_path)\n",
    "\n"
   ]
  },
  {
   "cell_type": "markdown",
   "id": "0be7abfd",
   "metadata": {},
   "source": [
    "### CDR for normal (Rim-One)"
   ]
  },
  {
   "cell_type": "code",
   "execution_count": 226,
   "id": "2be67cba",
   "metadata": {
    "collapsed": true
   },
   "outputs": [
    {
     "name": "stdout",
     "output_type": "stream",
     "text": [
      "r1_Im001.png - CDR: 0.20 - Result: Normal\n",
      "r1_Im003.png - CDR: 0.29 - Result: Normal\n",
      "r1_Im004.png - CDR: 0.36 - Result: Normal\n",
      "r1_Im014.png - CDR: 0.38 - Result: Normal\n",
      "r1_Im015.png - CDR: 0.35 - Result: Normal\n",
      "r1_Im022.png - CDR: 0.21 - Result: Normal\n",
      "r1_Im023.png - CDR: 0.19 - Result: Normal\n",
      "r1_Im024.png - CDR: 0.25 - Result: Normal\n",
      "r1_Im025.png - CDR: 0.22 - Result: Normal\n",
      "r1_Im028.png - CDR: 0.30 - Result: Normal\n",
      "r1_Im036.png - CDR: 0.44 - Result: Glaucoma\n",
      "r1_Im037.png - CDR: 0.37 - Result: Normal\n",
      "r1_Im040.png - CDR: 0.28 - Result: Normal\n",
      "r1_Im041.png - CDR: 0.25 - Result: Normal\n",
      "r1_Im050.png - CDR: 0.38 - Result: Normal\n",
      "r1_Im052.png - CDR: 0.29 - Result: Normal\n",
      "r1_Im054.png - CDR: 0.17 - Result: Normal\n",
      "r1_Im056.png - CDR: 0.30 - Result: Normal\n",
      "r1_Im059.png - CDR: 0.29 - Result: Normal\n",
      "r1_Im060.png - CDR: 0.34 - Result: Normal\n",
      "r1_Im061.png - CDR: 0.19 - Result: Normal\n",
      "r1_Im062.png - CDR: 0.19 - Result: Normal\n",
      "r1_Im063.png - CDR: 0.17 - Result: Normal\n",
      "r1_Im087.png - CDR: 0.23 - Result: Normal\n",
      "r1_Im131.png - CDR: 0.28 - Result: Normal\n",
      "r1_Im138.png - CDR: 0.26 - Result: Normal\n",
      "r1_Im145.png - CDR: 0.37 - Result: Normal\n",
      "r1_Im149.png - CDR: 0.30 - Result: Normal\n",
      "r1_Im166.png - CDR: 0.34 - Result: Normal\n",
      "r1_Im169.png - CDR: 0.23 - Result: Normal\n",
      "r2_Im001.png - CDR: 0.12 - Result: Normal\n",
      "r2_Im003.png - CDR: 0.20 - Result: Normal\n",
      "r2_Im005.png - CDR: 0.14 - Result: Normal\n",
      "r2_Im006.png - CDR: 0.09 - Result: Normal\n",
      "r2_Im007.png - CDR: 0.08 - Result: Normal\n",
      "r2_Im013.png - CDR: 0.14 - Result: Normal\n",
      "r2_Im014.png - CDR: 0.13 - Result: Normal\n",
      "r2_Im016.png - CDR: 0.06 - Result: Normal\n",
      "r2_Im021.png - CDR: 0.35 - Result: Normal\n",
      "r2_Im022.png - CDR: 0.34 - Result: Normal\n",
      "r2_Im023.png - CDR: 0.19 - Result: Normal\n",
      "r2_Im024.png - CDR: 0.19 - Result: Normal\n",
      "r2_Im025.png - CDR: 0.14 - Result: Normal\n",
      "r2_Im026.png - CDR: 0.18 - Result: Normal\n",
      "r2_Im031.png - CDR: 0.14 - Result: Normal\n",
      "r2_Im032.png - CDR: 0.13 - Result: Normal\n",
      "r2_Im033.png - CDR: 0.00 - Result: Normal\n"
     ]
    }
   ],
   "source": [
    "optic_cup_directory = 'classified_images/rim/segmentation/normal/cup'\n",
    "optic_disc_directory  = 'classified_images/rim/segmentation/normal/disc'\n",
    "\n",
    "CDR(optic_cup_directory, optic_disc_directory)"
   ]
  },
  {
   "cell_type": "markdown",
   "id": "45f533b9",
   "metadata": {},
   "source": [
    "### CDR for glaucoma (Rim-One)"
   ]
  },
  {
   "cell_type": "code",
   "execution_count": 227,
   "id": "cf6fd6f5",
   "metadata": {
    "collapsed": true
   },
   "outputs": [
    {
     "name": "stdout",
     "output_type": "stream",
     "text": [
      "r1_Im069.png - CDR: 0.61 - Result: Glaucoma\n",
      "r2_Im263.png - CDR: 0.65 - Result: Glaucoma\n",
      "r2_Im264.png - CDR: 0.54 - Result: Glaucoma\n",
      "r2_Im266.png - CDR: 0.30 - Result: Normal\n",
      "r2_Im269.png - CDR: 0.41 - Result: Glaucoma\n",
      "r2_Im270.png - CDR: 0.45 - Result: Glaucoma\n",
      "r2_Im289.png - CDR: 0.56 - Result: Glaucoma\n",
      "r2_Im290.png - CDR: 0.32 - Result: Normal\n",
      "r2_Im291.png - CDR: 0.38 - Result: Normal\n",
      "r2_Im292.png - CDR: 0.37 - Result: Normal\n",
      "r2_Im305.png - CDR: 0.44 - Result: Glaucoma\n",
      "r2_Im330.png - CDR: 0.42 - Result: Glaucoma\n",
      "r2_Im332.png - CDR: 0.24 - Result: Normal\n",
      "r2_Im334.png - CDR: 0.36 - Result: Normal\n"
     ]
    }
   ],
   "source": [
    "optic_cup_directory = 'classified_images/rim/segmentation/glaucoma/cup'\n",
    "optic_disc_directory  = 'classified_images/rim/segmentation/glaucoma/disc'\n",
    "\n",
    "CDR(optic_cup_directory, optic_disc_directory)"
   ]
  },
  {
   "cell_type": "code",
   "execution_count": 228,
   "id": "ccb42e7b",
   "metadata": {},
   "outputs": [
    {
     "name": "stdout",
     "output_type": "stream",
     "text": [
      "The CDR Accuracy for acrima dataset is 93.2836\n"
     ]
    }
   ],
   "source": [
    "cdr_accuracy(total_images = 134, correct_predictions=125, dataset_name='acrima')"
   ]
  },
  {
   "cell_type": "code",
   "execution_count": null,
   "id": "5d3f04f8",
   "metadata": {},
   "outputs": [],
   "source": []
  }
 ],
 "metadata": {
  "kernelspec": {
   "display_name": "Python 3 (ipykernel)",
   "language": "python",
   "name": "python3"
  },
  "language_info": {
   "codemirror_mode": {
    "name": "ipython",
    "version": 3
   },
   "file_extension": ".py",
   "mimetype": "text/x-python",
   "name": "python",
   "nbconvert_exporter": "python",
   "pygments_lexer": "ipython3",
   "version": "3.9.13"
  }
 },
 "nbformat": 4,
 "nbformat_minor": 5
}
